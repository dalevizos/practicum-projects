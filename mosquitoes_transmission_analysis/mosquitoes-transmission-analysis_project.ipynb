{
 "cells": [
  {
   "cell_type": "markdown",
   "id": "d51bf85b",
   "metadata": {},
   "source": [
    "# Analyzing mosquito species Aedes aegypti transmission\n",
    "\n",
    "The project is to analyze how much transmission has occurred in a small town (date: January 1, 2020) and the current state of exposed individuals from the mosquito species Aedes aegypti. For each community member tested, we have the following information:\n",
    "\n",
    "- birthdate: patient's date of birth\n",
    "- exposed_date: date the patient first noticed mosquito bites\n",
    "- test_results: 'Pos' = positive, 'Neg' = negative, or 'TBD' = to be determined\n",
    "\n",
    "\n",
    "With this information, we will classify each patient into one of the transmission categories below and compare the size of each category across age groups. The transmission categories will use:\n",
    "\n",
    "- 'Susceptible': does not have the virus but is able to get it\n",
    "- 'Exposed': has been bitten by infectious mosquitoes and might have the virus\n",
    "- 'Infectious': has the virus and is currently able to transmit to new mosquitoes\n",
    "- 'Recovered': had the virus and is no longer infectious or susceptible\n",
    "- 'Unknown': not enough information\n",
    "\n",
    "\n",
    "Here's a summary of the steps we will take:\n",
    "\n",
    "- First, we will use each patient's birthdate to calculate their age and place them into age groups.\n",
    "- Secondly, we'll use exposed_date and test_results to place patients into one of the five transmission categories.\n",
    "- Finally, we will examine counts within each transmission category by age group using a pivot table."
   ]
  },
  {
   "cell_type": "markdown",
   "id": "5ef2815b",
   "metadata": {},
   "source": [
    "# Step 1. Opening File & Observing Data"
   ]
  },
  {
   "cell_type": "code",
   "execution_count": 4,
   "id": "ee1e13c8",
   "metadata": {},
   "outputs": [
    {
     "name": "stdout",
     "output_type": "stream",
     "text": [
      "<class 'pandas.core.frame.DataFrame'>\n",
      "RangeIndex: 786 entries, 0 to 785\n",
      "Data columns (total 3 columns):\n",
      " #   Column        Non-Null Count  Dtype         \n",
      "---  ------        --------------  -----         \n",
      " 0   birthdate     786 non-null    datetime64[ns]\n",
      " 1   exposed_date  786 non-null    datetime64[ns]\n",
      " 2   test_results  786 non-null    object        \n",
      "dtypes: datetime64[ns](2), object(1)\n",
      "memory usage: 18.5+ KB\n",
      "   birthdate exposed_date test_results\n",
      "0 1992-01-08   2019-12-24          Neg\n",
      "1 1972-01-13   2019-12-15          Neg\n",
      "2 1981-01-10   2019-12-21          Neg\n",
      "3 1962-01-15   2019-12-15          Pos\n",
      "4 1962-01-15   2019-12-04          Pos\n"
     ]
    }
   ],
   "source": [
    "import pandas as pd\n",
    "\n",
    "test_data = pd.read_excel('/datasets/test_results.xlsx')\n",
    "\n",
    "test_data.info() \n",
    "#printing the general info for our dataset\n",
    "\n",
    "print (test_data.head()) \n",
    "#printing the first 5 rows"
   ]
  },
  {
   "cell_type": "markdown",
   "id": "3863a0a9",
   "metadata": {},
   "source": [
    "# Step 2. Checking for Missing Values"
   ]
  },
  {
   "cell_type": "code",
   "execution_count": 10,
   "id": "e9e51c6f",
   "metadata": {},
   "outputs": [
    {
     "name": "stdout",
     "output_type": "stream",
     "text": [
      "birthdate       0\n",
      "exposed_date    0\n",
      "test_results    0\n",
      "age             0\n",
      "dtype: int64\n"
     ]
    }
   ],
   "source": [
    "print(test_data.isna().sum())\n",
    "#confirming we have no missing values"
   ]
  },
  {
   "cell_type": "markdown",
   "id": "17b71056",
   "metadata": {},
   "source": [
    "The data types are good and there are no missing values. We would normally look for duplicate values but we don't have enough information to conclude that duplicate rows belong to the same patient. We have no patient ID that uniquely identifies patients. It's possible that two people might have the same exact values for all three columns. We will assume that each row belongs to a unique patient.\n",
    "\n",
    "We read the data and used info() and head() to get a glimpse of what the data looks like. We found no missing values and decided that duplicates could not be identified due to a lack of information (no patient ID, Social Security number, driver's license, etc.). \n",
    "\n",
    "Nexts step is to create age groups, and we need first an age column. For a crude estimate of age, let's take the dat given (January 1, 2020) and subtract each patient's birth year. If a negative age is returned, perhaps due to a data entry error, we will return a nan value."
   ]
  },
  {
   "cell_type": "markdown",
   "id": "7b31abd9",
   "metadata": {},
   "source": [
    "# Step 3. Categorizing Data & Using apply()"
   ]
  },
  {
   "cell_type": "code",
   "execution_count": 7,
   "id": "1ab03ac7",
   "metadata": {},
   "outputs": [
    {
     "name": "stdout",
     "output_type": "stream",
     "text": [
      "34\n",
      "20\n",
      "nan\n"
     ]
    }
   ],
   "source": [
    "bdate1 = pd.to_datetime('1986-08-30',format='%Y-%m-%d')\n",
    "bdate2 = pd.to_datetime('2000-04-01',format='%Y-%m-%d')\n",
    "bdate3 = pd.to_datetime('2025-04-01',format='%Y-%m-%d')\n",
    "\n",
    "today = pd.to_datetime('2020-01-01',format='%Y-%m-%d') \n",
    "#setting this equal to January 1, 2020 as a datetime variable\n",
    "\n",
    "def calc_age(birthdate):\n",
    "    age = today.year - birthdate.year \n",
    "    if age < 0:\n",
    "        return float('nan')    \n",
    "    else:\n",
    "        return age \n",
    "    #returning age\n",
    "\n",
    "print(calc_age(bdate1))\n",
    "#testing that our function on bdate1 works\n",
    "\n",
    "print(calc_age(bdate2))\n",
    "#testing that our function on bdate2 works\n",
    "\n",
    "print(calc_age(bdate3))\n",
    "#testing that our function on bdate3 works"
   ]
  },
  {
   "cell_type": "markdown",
   "id": "808aea5a",
   "metadata": {},
   "source": [
    "Now that we are able to calculate age, let's add an age column to our dataset."
   ]
  },
  {
   "cell_type": "code",
   "execution_count": 11,
   "id": "24acf4b9",
   "metadata": {},
   "outputs": [
    {
     "name": "stdout",
     "output_type": "stream",
     "text": [
      "   birthdate exposed_date test_results  age\n",
      "0 1992-01-08   2019-12-24          Neg   28\n",
      "1 1972-01-13   2019-12-15          Neg   48\n",
      "2 1981-01-10   2019-12-21          Neg   39\n",
      "3 1962-01-15   2019-12-15          Pos   58\n",
      "4 1962-01-15   2019-12-04          Pos   58\n",
      "5 1989-01-08   2019-12-11          Neg   31\n",
      "6 1989-01-08   2019-12-30          TBD   31\n",
      "7 1960-01-16   2019-12-24          Pos   60\n",
      "8 1942-01-20   2019-12-01          TBD   78\n",
      "9 1953-01-17   2019-12-09          Neg   67\n"
     ]
    }
   ],
   "source": [
    "def calc_age(birthdate):\n",
    "    age = today.year - birthdate.year\n",
    "    if age < 0:\n",
    "        return float('nan')\n",
    "    else:\n",
    "        return age\n",
    "\n",
    "\n",
    "test_data['age'] = test_data['birthdate'].apply(calc_age)\n",
    "#applying our function\n",
    "\n",
    "print (test_data.head(10)) \n",
    "#printing the first 10 rows"
   ]
  },
  {
   "cell_type": "markdown",
   "id": "7785d16c",
   "metadata": {},
   "source": [
    "Examining the distribution of age will tell us how best to construct our age groups."
   ]
  },
  {
   "cell_type": "code",
   "execution_count": 17,
   "id": "c666d845",
   "metadata": {},
   "outputs": [
    {
     "name": "stdout",
     "output_type": "stream",
     "text": [
      "15     8\n",
      "16     9\n",
      "17     8\n",
      "18    10\n",
      "19    12\n",
      "      ..\n",
      "84     3\n",
      "85     3\n",
      "86     3\n",
      "88     2\n",
      "90     2\n",
      "Name: age, Length: 74, dtype: int64\n"
     ]
    }
   ],
   "source": [
    "print(test_data['age'].value_counts().sort_index()) \n",
    "#printing the value counts of age sorted"
   ]
  },
  {
   "cell_type": "markdown",
   "id": "ffabea7b",
   "metadata": {},
   "source": [
    "Age ranges from 15-90, with more patients in the lower tail than the upper tail. This will be useful for defining our age groups.\n",
    "\n",
    "Thus we will group people by decade (teens, 20s, 30s, etc.). For age data, it is common that older ages be placed in 60+ or 70+ categories which is what we are going to use too. The smaller the groups, the more detail provided. The more detail provided, the harder data is to interpret. We believe that 10-year age groups will do just fine. If age is negative or nan, the function will return the string 'NA' (not applicable)."
   ]
  },
  {
   "cell_type": "code",
   "execution_count": 18,
   "id": "afde58e4",
   "metadata": {},
   "outputs": [
    {
     "name": "stdout",
     "output_type": "stream",
     "text": [
      "   birthdate exposed_date test_results  age age_group\n",
      "0 1992-01-08   2019-12-24          Neg   28     20-29\n",
      "1 1972-01-13   2019-12-15          Neg   48     40-49\n",
      "2 1981-01-10   2019-12-21          Neg   39     30-39\n",
      "3 1962-01-15   2019-12-15          Pos   58     50-59\n",
      "4 1962-01-15   2019-12-04          Pos   58     50-59\n",
      "5 1989-01-08   2019-12-11          Neg   31     30-39\n",
      "6 1989-01-08   2019-12-30          TBD   31     30-39\n",
      "7 1960-01-16   2019-12-24          Pos   60     60-69\n",
      "8 1942-01-20   2019-12-01          TBD   78       70+\n",
      "9 1953-01-17   2019-12-09          Neg   67     60-69\n"
     ]
    }
   ],
   "source": [
    "def assign_age_group(age):\n",
    "    \n",
    "    if age < 0 or pd.isna(age):\n",
    "        return 'NA'\n",
    "    \n",
    "    elif age < 10:\n",
    "        return '0-9' # < finish function >\n",
    "        \n",
    "    elif age < 20:\n",
    "        return '10-19'\n",
    "        \n",
    "    elif age < 30:\n",
    "        return '20-29'\n",
    "\n",
    "    elif age < 40:\n",
    "        return '30-39'\n",
    "        \n",
    "    elif age < 50:\n",
    "        return '40-49'\n",
    "        \n",
    "    elif age < 60:\n",
    "        return '50-59'\n",
    "        \n",
    "    elif age < 70:\n",
    "        return '60-69'\n",
    "        \n",
    "    else: \n",
    "        return '70+'\n",
    "        \n",
    "\n",
    "test_data['age_group'] = test_data['age'].apply(assign_age_group) \n",
    "#applying function assign_age_group    \n",
    "\n",
    "print (test_data.head(10)) \n",
    "#printing the first 10 rows"
   ]
  },
  {
   "cell_type": "markdown",
   "id": "41514a51",
   "metadata": {},
   "source": [
    "An important measurement needed for our categorization is the number of days from our current date to each patient's date of exposure. We will call this new variable days_since_exposed. "
   ]
  },
  {
   "cell_type": "code",
   "execution_count": 19,
   "id": "d34ddbcb",
   "metadata": {},
   "outputs": [
    {
     "name": "stdout",
     "output_type": "stream",
     "text": [
      "8 days 00:00:00\n",
      "<class 'pandas._libs.tslibs.timedeltas.Timedelta'>\n"
     ]
    }
   ],
   "source": [
    "today = pd.to_datetime('2020-01-01',format='%Y-%m-%d')\n",
    "\n",
    "date_diff = today - test_data['exposed_date'][0]\n",
    "#calculating date_diff\n",
    "\n",
    "print (date_diff)\n",
    "#printing date_diff\n",
    "\n",
    "print (type(date_diff))\n",
    "#print data type"
   ]
  },
  {
   "cell_type": "markdown",
   "id": "74017831",
   "metadata": {},
   "source": [
    "We will use the above information to complete a function that accepts a datetime object, exposed, and returns the number of days between exposed and today. If the number of days is less than 0, will return a nan value."
   ]
  },
  {
   "cell_type": "code",
   "execution_count": 20,
   "id": "ce426cb6",
   "metadata": {},
   "outputs": [
    {
     "name": "stdout",
     "output_type": "stream",
     "text": [
      "   birthdate exposed_date test_results  age age_group  days_since_exposed\n",
      "0 1992-01-08   2019-12-24          Neg   28     20-29                   8\n",
      "1 1972-01-13   2019-12-15          Neg   48     40-49                  17\n",
      "2 1981-01-10   2019-12-21          Neg   39     30-39                  11\n",
      "3 1962-01-15   2019-12-15          Pos   58     50-59                  17\n",
      "4 1962-01-15   2019-12-04          Pos   58     50-59                  28\n",
      "5 1989-01-08   2019-12-11          Neg   31     30-39                  21\n",
      "6 1989-01-08   2019-12-30          TBD   31     30-39                   2\n",
      "7 1960-01-16   2019-12-24          Pos   60     60-69                   8\n",
      "8 1942-01-20   2019-12-01          TBD   78       70+                  31\n",
      "9 1953-01-17   2019-12-09          Neg   67     60-69                  23\n"
     ]
    }
   ],
   "source": [
    "def calc_days_since_exposed(exposed):\n",
    "    \n",
    "    days_diff =  today - exposed \n",
    "    \n",
    "    if days_diff.days < 0:\n",
    "        return float('nan') \n",
    "        \n",
    "    else:\n",
    "        return days_diff.days \n",
    "    \n",
    "    \n",
    "test_data['days_since_exposed'] = test_data['exposed_date'].apply (calc_days_since_exposed) \n",
    "#applying function to the exposed_date column\n",
    "\n",
    "print (test_data.head(10)) \n",
    "#printing the first 10 rows"
   ]
  },
  {
   "cell_type": "markdown",
   "id": "9ea3bcc3",
   "metadata": {},
   "source": [
    "We need the above information to determine if individuals who test positive have recovered or are currently infectious. We have been told that the infectious period can last between 6-17 days after exposure. This means that for those who test positive, if the value of days since exposure is 17 or less, we assume they are still infectious. If it's greater than 17, we assume they have recovered. \n",
    "\n",
    "Additionally, we've created a new Excel file that contains all the previously added columns. Now let's assign each patient to one of the five transmission categories.\n",
    "\n",
    "We will create a function to assign the correct category and apply the function to the dataset. We will use the following rules to assign categories:\n",
    "\n",
    "'Susceptible': if test results are negative\n",
    "'Exposed': if test results are TBD and days since exposed is less than or equal to 17\n",
    "'Infectious': if test results are positive and days since exposed is less than or equal to 17\n",
    "'Recovered': if test results are positive and days since exposed is greater than 17\n",
    "'Unknown': if test results are TBD and days since exposed is greater than 17 (they are either recovered or susceptible)"
   ]
  },
  {
   "cell_type": "code",
   "execution_count": 22,
   "id": "934e0f14",
   "metadata": {},
   "outputs": [
    {
     "name": "stdout",
     "output_type": "stream",
     "text": [
      "   birthdate exposed_date test_results  age age_group  days_since_exposed  \\\n",
      "0 1992-01-08   2019-12-24          Neg   28     20-29                   8   \n",
      "1 1972-01-13   2019-12-15          Neg   48     40-49                  17   \n",
      "2 1981-01-10   2019-12-21          Neg   39     30-39                  11   \n",
      "3 1962-01-15   2019-12-15          Pos   58     50-59                  17   \n",
      "4 1962-01-15   2019-12-04          Pos   58     50-59                  28   \n",
      "5 1989-01-08   2019-12-11          Neg   31     30-39                  21   \n",
      "6 1989-01-08   2019-12-30          TBD   31     30-39                   2   \n",
      "7 1960-01-16   2019-12-24          Pos   60     60-69                   8   \n",
      "8 1942-01-20   2019-12-01          TBD   78       70+                  31   \n",
      "9 1953-01-17   2019-12-09          Neg   67     60-69                  23   \n",
      "\n",
      "        status  \n",
      "0  Susceptible  \n",
      "1  Susceptible  \n",
      "2  Susceptible  \n",
      "3   Infectious  \n",
      "4    Recovered  \n",
      "5  Susceptible  \n",
      "6      Exposed  \n",
      "7   Infectious  \n",
      "8      Unknown  \n",
      "9  Susceptible  \n"
     ]
    }
   ],
   "source": [
    "test_data = pd.read_excel('/datasets/testing_with_age_exp_days.xlsx')\n",
    "\n",
    "def assign_status(row):\n",
    "    if row['test_results'] == 'Neg':\n",
    "        return 'Susceptible'\n",
    "    \n",
    "    elif row['test_results'] == 'TBD' and row['days_since_exposed'] <= 17:\n",
    "        return 'Exposed'\n",
    "    \n",
    "    elif row['test_results'] == 'Pos' and row['days_since_exposed'] <= 17:\n",
    "        return 'Infectious'\n",
    "    \n",
    "    elif row['test_results'] == 'Pos' and row['days_since_exposed'] > 17:\n",
    "        return 'Recovered'\n",
    "    \n",
    "    elif row['test_results'] == 'TBD' and row['days_since_exposed'] > 17:\n",
    "        return 'Unknown'\n",
    "    \n",
    "    \n",
    "test_data['status'] = test_data.apply(assign_status, axis=1) \n",
    "#applying the function \n",
    "\n",
    "print (test_data.head(10)) \n",
    "#printing the first 10 rows"
   ]
  },
  {
   "cell_type": "markdown",
   "id": "9b18aece",
   "metadata": {},
   "source": [
    "# Step 4. Identifying Correlation"
   ]
  },
  {
   "cell_type": "markdown",
   "id": "0ffc35d9",
   "metadata": {},
   "source": [
    "Let's use the age groups we've created and the statuses we've assigned to examine the current state of sickness in the small town's community. We will use a pivot table to look at status counts (columns) by age group (rows). We've saved the final dataset in the file final_dengue_testing_data.xlsx."
   ]
  },
  {
   "cell_type": "code",
   "execution_count": 26,
   "id": "8c798dea",
   "metadata": {},
   "outputs": [
    {
     "name": "stdout",
     "output_type": "stream",
     "text": [
      "status     Exposed  Infectious  Recovered  Susceptible  Unknown  All\n",
      "age_group                                                           \n",
      "10-19            3           2          8           22       12   47\n",
      "20-29           11          14         40           53       26  144\n",
      "30-39            8          16         31           69       35  159\n",
      "40-49            7          10         56           65       14  152\n",
      "50-59           11          10         26           57       12  116\n",
      "60-69            6           9         18           36        7   76\n",
      "70+              8           8         23           41       12   92\n",
      "All             54          69        202          343      118  786\n"
     ]
    }
   ],
   "source": [
    "test_data = pd.read_excel('/datasets/final_dengue_testing_data.xlsx')\n",
    "\n",
    "print(pd.pivot_table(test_data, values='age', index='age_group', columns='status', aggfunc='count', margins=True))\n",
    "#pivot table"
   ]
  },
  {
   "cell_type": "markdown",
   "id": "d8c5902c",
   "metadata": {},
   "source": [
    "# Step 5. Conclusion"
   ]
  },
  {
   "cell_type": "markdown",
   "id": "c46d466c",
   "metadata": {},
   "source": [
    "Many insights can be drawn from our pivot table above, including:\n",
    "\n",
    "- There are many susceptible and recovered patients across age groups.\n",
    "- The majority of those still infectious are in the 30-39 age range.\n",
    "- There are many unknown status counts in the 20-29 and 30-39 age groups.\n",
    "- There are more 40-49-year-old people who have recovered than any other age group.\n",
    "\n",
    "The high number of unknowns should encourage the town to get the TBD test results as fast as possible. The high number of recovered counts across age groups is worrisome because it implies that dengue virus was being transmitted for a while before test results were analyzed. In this short project, we started with three columns and ended with seven. The four columns we created were necessary to examine the data the way we did. "
   ]
  }
 ],
 "metadata": {
  "ExecuteTimeLog": [
   {
    "duration": 1101,
    "start_time": "2022-09-04T17:52:51.988Z"
   },
   {
    "duration": 123,
    "start_time": "2022-09-04T18:49:40.715Z"
   },
   {
    "duration": 103,
    "start_time": "2022-09-04T18:50:37.234Z"
   },
   {
    "duration": 111,
    "start_time": "2022-09-04T18:50:50.894Z"
   },
   {
    "duration": 4,
    "start_time": "2022-09-04T18:51:24.409Z"
   },
   {
    "duration": 6,
    "start_time": "2022-09-04T18:58:07.321Z"
   },
   {
    "duration": 7,
    "start_time": "2022-09-04T18:58:21.908Z"
   },
   {
    "duration": 10,
    "start_time": "2022-09-04T18:59:59.377Z"
   },
   {
    "duration": 2,
    "start_time": "2022-09-04T19:01:28.230Z"
   },
   {
    "duration": 6,
    "start_time": "2022-09-04T19:01:35.417Z"
   },
   {
    "duration": 10,
    "start_time": "2022-09-04T19:02:44.295Z"
   },
   {
    "duration": 5,
    "start_time": "2022-09-04T19:08:22.769Z"
   },
   {
    "duration": 93,
    "start_time": "2022-09-04T19:08:36.382Z"
   },
   {
    "duration": 5,
    "start_time": "2022-09-04T19:08:40.222Z"
   },
   {
    "duration": 5,
    "start_time": "2022-09-04T19:08:54.786Z"
   },
   {
    "duration": 5,
    "start_time": "2022-09-04T19:09:09.701Z"
   },
   {
    "duration": 6,
    "start_time": "2022-09-04T19:10:05.891Z"
   },
   {
    "duration": 10,
    "start_time": "2022-09-04T19:15:29.014Z"
   },
   {
    "duration": 5,
    "start_time": "2022-09-04T19:17:32.784Z"
   },
   {
    "duration": 14,
    "start_time": "2022-09-04T19:20:26.088Z"
   },
   {
    "duration": 190,
    "start_time": "2022-09-04T19:24:51.322Z"
   },
   {
    "duration": 201,
    "start_time": "2022-09-04T19:25:40.198Z"
   },
   {
    "duration": 71,
    "start_time": "2022-09-04T19:29:44.026Z"
   },
   {
    "duration": 52,
    "start_time": "2022-09-04T19:29:51.302Z"
   },
   {
    "duration": 54,
    "start_time": "2022-09-04T19:29:57.724Z"
   },
   {
    "duration": 255,
    "start_time": "2022-09-04T19:30:09.330Z"
   }
  ],
  "kernelspec": {
   "display_name": "Python 3 (ipykernel)",
   "language": "python",
   "name": "python3"
  },
  "language_info": {
   "codemirror_mode": {
    "name": "ipython",
    "version": 3
   },
   "file_extension": ".py",
   "mimetype": "text/x-python",
   "name": "python",
   "nbconvert_exporter": "python",
   "pygments_lexer": "ipython3",
   "version": "3.9.5"
  },
  "toc": {
   "base_numbering": 1,
   "nav_menu": {},
   "number_sections": true,
   "sideBar": true,
   "skip_h1_title": true,
   "title_cell": "Table of Contents",
   "title_sidebar": "Contents",
   "toc_cell": false,
   "toc_position": {},
   "toc_section_display": true,
   "toc_window_display": false
  }
 },
 "nbformat": 4,
 "nbformat_minor": 5
}
