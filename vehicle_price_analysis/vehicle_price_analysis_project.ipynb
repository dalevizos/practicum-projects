{
 "cells": [
  {
   "cell_type": "markdown",
   "metadata": {},
   "source": [
    "# General Information \n",
    "\n",
    "## Research on car sales ads\n",
    "\n",
    "Performing an analysis for Crankshaft List. Hundreds of free advertisements for vehicles are published on the site every day. We need to study data collected over the last few years and determine which factors influence the price of a vehicle."
   ]
  },
  {
   "cell_type": "code",
   "execution_count": 42,
   "metadata": {},
   "outputs": [
    {
     "data": {
      "text/plain": [
       "(51525, 13)"
      ]
     },
     "execution_count": 42,
     "metadata": {},
     "output_type": "execute_result"
    }
   ],
   "source": [
    "#We start by loading the corresponding libraries for the project as well as our data\n",
    "\n",
    "import matplotlib.pyplot as plt\n",
    "import seaborn as sns\n",
    "import pandas as pd\n",
    "import numpy as np\n",
    "#loading all the necessary libraries for our project\n",
    "\n",
    "df = pd.read_csv('/datasets/vehicles_us.csv') #loading the data file into a DataFrame\n",
    "\n",
    "df.shape #printing the data frame's number of rows and columns"
   ]
  },
  {
   "cell_type": "markdown",
   "metadata": {},
   "source": [
    "## The initial data"
   ]
  },
  {
   "cell_type": "markdown",
   "metadata": {},
   "source": [
    "Our dataset contains the following fields:\n",
    "- `price`\n",
    "- `model_year`\n",
    "- `model`\n",
    "- `condition`\n",
    "- `cylinders`\n",
    "- `fuel` — gas, diesel, etc.\n",
    "- `odometer` — the vehicle's mileage when the ad was published\n",
    "- `transmission`\n",
    "- `paint_color`\n",
    "- `is_4wd` — whether the vehicle has 4-wheel drive (Boolean type)\n",
    "- `date_posted` — the date the ad was published\n",
    "- `days_listed` — from publication to removal"
   ]
  },
  {
   "cell_type": "code",
   "execution_count": 43,
   "metadata": {},
   "outputs": [
    {
     "name": "stdout",
     "output_type": "stream",
     "text": [
      "<class 'pandas.core.frame.DataFrame'>\n",
      "RangeIndex: 51525 entries, 0 to 51524\n",
      "Data columns (total 13 columns):\n",
      " #   Column        Non-Null Count  Dtype  \n",
      "---  ------        --------------  -----  \n",
      " 0   price         51525 non-null  int64  \n",
      " 1   model_year    47906 non-null  float64\n",
      " 2   model         51525 non-null  object \n",
      " 3   condition     51525 non-null  object \n",
      " 4   cylinders     46265 non-null  float64\n",
      " 5   fuel          51525 non-null  object \n",
      " 6   odometer      43633 non-null  float64\n",
      " 7   transmission  51525 non-null  object \n",
      " 8   type          51525 non-null  object \n",
      " 9   paint_color   42258 non-null  object \n",
      " 10  is_4wd        25572 non-null  float64\n",
      " 11  date_posted   51525 non-null  object \n",
      " 12  days_listed   51525 non-null  int64  \n",
      "dtypes: float64(4), int64(2), object(7)\n",
      "memory usage: 5.1+ MB\n"
     ]
    }
   ],
   "source": [
    "df.info() #printing the general/summary information about the DataFrame"
   ]
  },
  {
   "cell_type": "code",
   "execution_count": 44,
   "metadata": {},
   "outputs": [
    {
     "data": {
      "text/html": [
       "<div>\n",
       "<style scoped>\n",
       "    .dataframe tbody tr th:only-of-type {\n",
       "        vertical-align: middle;\n",
       "    }\n",
       "\n",
       "    .dataframe tbody tr th {\n",
       "        vertical-align: top;\n",
       "    }\n",
       "\n",
       "    .dataframe thead th {\n",
       "        text-align: right;\n",
       "    }\n",
       "</style>\n",
       "<table border=\"1\" class=\"dataframe\">\n",
       "  <thead>\n",
       "    <tr style=\"text-align: right;\">\n",
       "      <th></th>\n",
       "      <th>price</th>\n",
       "      <th>model_year</th>\n",
       "      <th>model</th>\n",
       "      <th>condition</th>\n",
       "      <th>cylinders</th>\n",
       "      <th>fuel</th>\n",
       "      <th>odometer</th>\n",
       "      <th>transmission</th>\n",
       "      <th>type</th>\n",
       "      <th>paint_color</th>\n",
       "      <th>is_4wd</th>\n",
       "      <th>date_posted</th>\n",
       "      <th>days_listed</th>\n",
       "    </tr>\n",
       "  </thead>\n",
       "  <tbody>\n",
       "    <tr>\n",
       "      <th>0</th>\n",
       "      <td>9400</td>\n",
       "      <td>2011.0</td>\n",
       "      <td>bmw x5</td>\n",
       "      <td>good</td>\n",
       "      <td>6.0</td>\n",
       "      <td>gas</td>\n",
       "      <td>145000.0</td>\n",
       "      <td>automatic</td>\n",
       "      <td>SUV</td>\n",
       "      <td>NaN</td>\n",
       "      <td>1.0</td>\n",
       "      <td>2018-06-23</td>\n",
       "      <td>19</td>\n",
       "    </tr>\n",
       "    <tr>\n",
       "      <th>1</th>\n",
       "      <td>25500</td>\n",
       "      <td>NaN</td>\n",
       "      <td>ford f-150</td>\n",
       "      <td>good</td>\n",
       "      <td>6.0</td>\n",
       "      <td>gas</td>\n",
       "      <td>88705.0</td>\n",
       "      <td>automatic</td>\n",
       "      <td>pickup</td>\n",
       "      <td>white</td>\n",
       "      <td>1.0</td>\n",
       "      <td>2018-10-19</td>\n",
       "      <td>50</td>\n",
       "    </tr>\n",
       "    <tr>\n",
       "      <th>2</th>\n",
       "      <td>5500</td>\n",
       "      <td>2013.0</td>\n",
       "      <td>hyundai sonata</td>\n",
       "      <td>like new</td>\n",
       "      <td>4.0</td>\n",
       "      <td>gas</td>\n",
       "      <td>110000.0</td>\n",
       "      <td>automatic</td>\n",
       "      <td>sedan</td>\n",
       "      <td>red</td>\n",
       "      <td>NaN</td>\n",
       "      <td>2019-02-07</td>\n",
       "      <td>79</td>\n",
       "    </tr>\n",
       "    <tr>\n",
       "      <th>3</th>\n",
       "      <td>1500</td>\n",
       "      <td>2003.0</td>\n",
       "      <td>ford f-150</td>\n",
       "      <td>fair</td>\n",
       "      <td>8.0</td>\n",
       "      <td>gas</td>\n",
       "      <td>NaN</td>\n",
       "      <td>automatic</td>\n",
       "      <td>pickup</td>\n",
       "      <td>NaN</td>\n",
       "      <td>NaN</td>\n",
       "      <td>2019-03-22</td>\n",
       "      <td>9</td>\n",
       "    </tr>\n",
       "    <tr>\n",
       "      <th>4</th>\n",
       "      <td>14900</td>\n",
       "      <td>2017.0</td>\n",
       "      <td>chrysler 200</td>\n",
       "      <td>excellent</td>\n",
       "      <td>4.0</td>\n",
       "      <td>gas</td>\n",
       "      <td>80903.0</td>\n",
       "      <td>automatic</td>\n",
       "      <td>sedan</td>\n",
       "      <td>black</td>\n",
       "      <td>NaN</td>\n",
       "      <td>2019-04-02</td>\n",
       "      <td>28</td>\n",
       "    </tr>\n",
       "    <tr>\n",
       "      <th>5</th>\n",
       "      <td>14990</td>\n",
       "      <td>2014.0</td>\n",
       "      <td>chrysler 300</td>\n",
       "      <td>excellent</td>\n",
       "      <td>6.0</td>\n",
       "      <td>gas</td>\n",
       "      <td>57954.0</td>\n",
       "      <td>automatic</td>\n",
       "      <td>sedan</td>\n",
       "      <td>black</td>\n",
       "      <td>1.0</td>\n",
       "      <td>2018-06-20</td>\n",
       "      <td>15</td>\n",
       "    </tr>\n",
       "    <tr>\n",
       "      <th>6</th>\n",
       "      <td>12990</td>\n",
       "      <td>2015.0</td>\n",
       "      <td>toyota camry</td>\n",
       "      <td>excellent</td>\n",
       "      <td>4.0</td>\n",
       "      <td>gas</td>\n",
       "      <td>79212.0</td>\n",
       "      <td>automatic</td>\n",
       "      <td>sedan</td>\n",
       "      <td>white</td>\n",
       "      <td>NaN</td>\n",
       "      <td>2018-12-27</td>\n",
       "      <td>73</td>\n",
       "    </tr>\n",
       "    <tr>\n",
       "      <th>7</th>\n",
       "      <td>15990</td>\n",
       "      <td>2013.0</td>\n",
       "      <td>honda pilot</td>\n",
       "      <td>excellent</td>\n",
       "      <td>6.0</td>\n",
       "      <td>gas</td>\n",
       "      <td>109473.0</td>\n",
       "      <td>automatic</td>\n",
       "      <td>SUV</td>\n",
       "      <td>black</td>\n",
       "      <td>1.0</td>\n",
       "      <td>2019-01-07</td>\n",
       "      <td>68</td>\n",
       "    </tr>\n",
       "    <tr>\n",
       "      <th>8</th>\n",
       "      <td>11500</td>\n",
       "      <td>2012.0</td>\n",
       "      <td>kia sorento</td>\n",
       "      <td>excellent</td>\n",
       "      <td>4.0</td>\n",
       "      <td>gas</td>\n",
       "      <td>104174.0</td>\n",
       "      <td>automatic</td>\n",
       "      <td>SUV</td>\n",
       "      <td>NaN</td>\n",
       "      <td>1.0</td>\n",
       "      <td>2018-07-16</td>\n",
       "      <td>19</td>\n",
       "    </tr>\n",
       "    <tr>\n",
       "      <th>9</th>\n",
       "      <td>9200</td>\n",
       "      <td>2008.0</td>\n",
       "      <td>honda pilot</td>\n",
       "      <td>excellent</td>\n",
       "      <td>NaN</td>\n",
       "      <td>gas</td>\n",
       "      <td>147191.0</td>\n",
       "      <td>automatic</td>\n",
       "      <td>SUV</td>\n",
       "      <td>blue</td>\n",
       "      <td>1.0</td>\n",
       "      <td>2019-02-15</td>\n",
       "      <td>17</td>\n",
       "    </tr>\n",
       "  </tbody>\n",
       "</table>\n",
       "</div>"
      ],
      "text/plain": [
       "   price  model_year           model  condition  cylinders fuel  odometer  \\\n",
       "0   9400      2011.0          bmw x5       good        6.0  gas  145000.0   \n",
       "1  25500         NaN      ford f-150       good        6.0  gas   88705.0   \n",
       "2   5500      2013.0  hyundai sonata   like new        4.0  gas  110000.0   \n",
       "3   1500      2003.0      ford f-150       fair        8.0  gas       NaN   \n",
       "4  14900      2017.0    chrysler 200  excellent        4.0  gas   80903.0   \n",
       "5  14990      2014.0    chrysler 300  excellent        6.0  gas   57954.0   \n",
       "6  12990      2015.0    toyota camry  excellent        4.0  gas   79212.0   \n",
       "7  15990      2013.0     honda pilot  excellent        6.0  gas  109473.0   \n",
       "8  11500      2012.0     kia sorento  excellent        4.0  gas  104174.0   \n",
       "9   9200      2008.0     honda pilot  excellent        NaN  gas  147191.0   \n",
       "\n",
       "  transmission    type paint_color  is_4wd date_posted  days_listed  \n",
       "0    automatic     SUV         NaN     1.0  2018-06-23           19  \n",
       "1    automatic  pickup       white     1.0  2018-10-19           50  \n",
       "2    automatic   sedan         red     NaN  2019-02-07           79  \n",
       "3    automatic  pickup         NaN     NaN  2019-03-22            9  \n",
       "4    automatic   sedan       black     NaN  2019-04-02           28  \n",
       "5    automatic   sedan       black     1.0  2018-06-20           15  \n",
       "6    automatic   sedan       white     NaN  2018-12-27           73  \n",
       "7    automatic     SUV       black     1.0  2019-01-07           68  \n",
       "8    automatic     SUV         NaN     1.0  2018-07-16           19  \n",
       "9    automatic     SUV        blue     1.0  2019-02-15           17  "
      ]
     },
     "execution_count": 44,
     "metadata": {},
     "output_type": "execute_result"
    }
   ],
   "source": [
    "df.head(10) #printing a sample of the data"
   ]
  },
  {
   "cell_type": "markdown",
   "metadata": {},
   "source": [
    "## Initial Conclusion"
   ]
  },
  {
   "cell_type": "markdown",
   "metadata": {},
   "source": [
    "We first identify the following:\n",
    "\n",
    "- The columns model_year, cylinders, odometer, paint_color, is_4wd all have missing values. Especially the is_4wd column has the most null values\n",
    "\n",
    "- Additionally, we can notice that some columns have inappropriate data types. More specifically, the date_posted column which is currently an object data type should have been date time data type\n",
    "\n",
    "- Lastly, we notice that the column is_4wd needs to be converted correctly to Boolean values\n",
    "\n",
    "\n",
    "\n",
    "Next steps of our data preprocessing stage will include the following:\n",
    "\n",
    "- Understand and face accordingly missing values \n",
    "- Convert columns to their correct data types \n",
    "- Replace the condition column with numeric values "
   ]
  },
  {
   "cell_type": "markdown",
   "metadata": {},
   "source": [
    "# Data Preprocessing"
   ]
  },
  {
   "cell_type": "code",
   "execution_count": 45,
   "metadata": {},
   "outputs": [
    {
     "data": {
      "text/plain": [
       "price           0.0000\n",
       "model_year      0.0702\n",
       "model           0.0000\n",
       "condition       0.0000\n",
       "cylinders       0.1021\n",
       "fuel            0.0000\n",
       "odometer        0.1532\n",
       "transmission    0.0000\n",
       "type            0.0000\n",
       "paint_color     0.1799\n",
       "is_4wd          0.5037\n",
       "date_posted     0.0000\n",
       "days_listed     0.0000\n",
       "dtype: float64"
      ]
     },
     "execution_count": 45,
     "metadata": {},
     "output_type": "execute_result"
    }
   ],
   "source": [
    "(df.isnull().sum()/len(df)).round(4) #getting the % of missing values for each column"
   ]
  },
  {
   "cell_type": "markdown",
   "metadata": {},
   "source": [
    "## The 'price' column"
   ]
  },
  {
   "cell_type": "markdown",
   "metadata": {},
   "source": [
    "There's nothing to change on the 'price' column since there are no missing values and are in the correct data type (int)."
   ]
  },
  {
   "cell_type": "markdown",
   "metadata": {},
   "source": [
    "## The 'model_year' column"
   ]
  },
  {
   "cell_type": "markdown",
   "metadata": {},
   "source": [
    "Since the 'price' column is in good standing will start our data preprocessing phase with the 'model_year' column which is a numerical column (float).  "
   ]
  },
  {
   "cell_type": "code",
   "execution_count": 46,
   "metadata": {},
   "outputs": [
    {
     "data": {
      "text/plain": [
       "count    47906.000000\n",
       "mean      2009.750470\n",
       "std          6.282065\n",
       "min       1908.000000\n",
       "25%       2006.000000\n",
       "50%       2011.000000\n",
       "75%       2014.000000\n",
       "max       2019.000000\n",
       "Name: model_year, dtype: float64"
      ]
     },
     "execution_count": 46,
     "metadata": {},
     "output_type": "execute_result"
    }
   ],
   "source": [
    "df['model_year'].describe()"
   ]
  },
  {
   "cell_type": "markdown",
   "metadata": {},
   "source": [
    "Here we will use the median. The model year can be inferred from the model and condition. It's important to note that we can't just replace missing values with the median here because the model_year is dependent on the model and the condition of the vehicle. Thus, we will group our data by 'model' and 'condition' to find the median of each potential combination. Then we will create function which we will apply that median to the missing row. Once our function finds the value that matches that combination then the 'model_year' value will be filled in accordingly all based on the grouped data."
   ]
  },
  {
   "cell_type": "code",
   "execution_count": 47,
   "metadata": {},
   "outputs": [
    {
     "name": "stdout",
     "output_type": "stream",
     "text": [
      "<class 'pandas.core.frame.DataFrame'>\n",
      "RangeIndex: 51525 entries, 0 to 51524\n",
      "Data columns (total 13 columns):\n",
      " #   Column        Non-Null Count  Dtype  \n",
      "---  ------        --------------  -----  \n",
      " 0   price         51525 non-null  int64  \n",
      " 1   model_year    51519 non-null  float64\n",
      " 2   model         51525 non-null  object \n",
      " 3   condition     51525 non-null  object \n",
      " 4   cylinders     46265 non-null  float64\n",
      " 5   fuel          51525 non-null  object \n",
      " 6   odometer      43633 non-null  float64\n",
      " 7   transmission  51525 non-null  object \n",
      " 8   type          51525 non-null  object \n",
      " 9   paint_color   42258 non-null  object \n",
      " 10  is_4wd        25572 non-null  float64\n",
      " 11  date_posted   51525 non-null  object \n",
      " 12  days_listed   51525 non-null  int64  \n",
      "dtypes: float64(4), int64(2), object(7)\n",
      "memory usage: 5.1+ MB\n"
     ]
    }
   ],
   "source": [
    "model_year_grouped = df.groupby(['model', 'condition'])['model_year'].median().to_dict()\n",
    "# grouping our dataframe by model and condition to find the median model_year\n",
    "# storing the resulting dataframe into a dictionary named model_year_grouped\n",
    "\n",
    "def model_year_fill (row): \n",
    "    #creating a function called model_year_fill that takes a variable 'row' as its argument\n",
    "    \n",
    "    if np.isnan(row['model_year']): \n",
    "        #if the value of model_year is missing\n",
    "        \n",
    "        return model_year_grouped.get((row['model'], row['condition']))\n",
    "        #returning the median model_year value based on the combination of the model and condition \n",
    "    \n",
    "    return row['model_year']\n",
    "    #returning the current model_year value if value isn't na\n",
    "\n",
    "df['model_year'] = df.apply(model_year_fill, axis=1)\n",
    "#applying the model_year_fill function to the model_year column in our dataframe\n",
    "\n",
    "df.info() \n",
    "#confirming that values have been filled "
   ]
  },
  {
   "cell_type": "markdown",
   "metadata": {},
   "source": [
    "## The 'model' column"
   ]
  },
  {
   "cell_type": "markdown",
   "metadata": {},
   "source": [
    "There's nothing to change on the 'model' column since there are no missing values and are in the correct data type (object/string)."
   ]
  },
  {
   "cell_type": "markdown",
   "metadata": {},
   "source": [
    "###### The 'condition' column"
   ]
  },
  {
   "cell_type": "markdown",
   "metadata": {},
   "source": [
    "Here we don't have any missing values but we have been advised to update to numeric with the following: \n",
    "\n",
    "\n",
    "- 'salvage' to 0\n",
    "- 'fair' to 1 \n",
    "- 'good' to 2\n",
    "- 'excellent' to 3\n",
    "- 'like new' to 4\n",
    "- 'new' to 5"
   ]
  },
  {
   "cell_type": "code",
   "execution_count": 48,
   "metadata": {},
   "outputs": [
    {
     "data": {
      "text/plain": [
       "array(['good', 'like new', 'fair', 'excellent', 'salvage', 'new'],\n",
       "      dtype=object)"
      ]
     },
     "execution_count": 48,
     "metadata": {},
     "output_type": "execute_result"
    }
   ],
   "source": [
    "df['condition'].unique()"
   ]
  },
  {
   "cell_type": "markdown",
   "metadata": {},
   "source": [
    "In order to replace these values to numeric we will use the where() method."
   ]
  },
  {
   "cell_type": "code",
   "execution_count": 49,
   "metadata": {},
   "outputs": [
    {
     "data": {
      "text/plain": [
       "array([2, 4, 1, 3, 0, 5])"
      ]
     },
     "execution_count": 49,
     "metadata": {},
     "output_type": "execute_result"
    }
   ],
   "source": [
    "df['condition'] = df['condition'].where(df['condition'] != 'salvage', 0)\n",
    "#returning 0 when condition is salvage\n",
    "\n",
    "df['condition'] = df['condition'].where(df['condition'] != 'fair', 1)\n",
    "#returning 1 when condition is fair\n",
    "\n",
    "df['condition'] = df['condition'].where(df['condition'] != 'good', 2)\n",
    "#returning 2 when condition is good\n",
    "\n",
    "df['condition'] = df['condition'].where(df['condition'] != 'excellent', 3)\n",
    "#returning 3 when condition is excellent\n",
    "\n",
    "df['condition'] = df['condition'].where(df['condition'] != 'like new', 4)\n",
    "#returning 4 when condition is like new\n",
    "\n",
    "df['condition'] = df['condition'].where(df['condition'] != 'new', 5)\n",
    "#returning 5 when condition is new\n",
    "\n",
    "df['condition'] = df['condition'].astype('int')\n",
    "#converts the data type to integer\n",
    "\n",
    "df['condition'].unique()"
   ]
  },
  {
   "cell_type": "markdown",
   "metadata": {},
   "source": [
    "## The 'cylinders' column\n"
   ]
  },
  {
   "cell_type": "markdown",
   "metadata": {},
   "source": [
    "Since the 'cylinders' is a numerical column (float) we will call the describe() method to get a first idea of the data."
   ]
  },
  {
   "cell_type": "code",
   "execution_count": 50,
   "metadata": {},
   "outputs": [
    {
     "data": {
      "text/plain": [
       "count    46265.000000\n",
       "mean         6.125235\n",
       "std          1.660360\n",
       "min          3.000000\n",
       "25%          4.000000\n",
       "50%          6.000000\n",
       "75%          8.000000\n",
       "max         12.000000\n",
       "Name: cylinders, dtype: float64"
      ]
     },
     "execution_count": 50,
     "metadata": {},
     "output_type": "execute_result"
    }
   ],
   "source": [
    "df['cylinders'].describe()"
   ]
  },
  {
   "cell_type": "markdown",
   "metadata": {},
   "source": [
    "Here we will follow the same strategy as we did for the 'model_year' column. We will also use the median. The cylinders can be inferred from the model of the vehicle. Thus we will group the data accordingly and then apply it to fill in the missing values. "
   ]
  },
  {
   "cell_type": "code",
   "execution_count": 51,
   "metadata": {},
   "outputs": [
    {
     "name": "stdout",
     "output_type": "stream",
     "text": [
      "<class 'pandas.core.frame.DataFrame'>\n",
      "RangeIndex: 51525 entries, 0 to 51524\n",
      "Data columns (total 13 columns):\n",
      " #   Column        Non-Null Count  Dtype  \n",
      "---  ------        --------------  -----  \n",
      " 0   price         51525 non-null  int64  \n",
      " 1   model_year    51519 non-null  float64\n",
      " 2   model         51525 non-null  object \n",
      " 3   condition     51525 non-null  int64  \n",
      " 4   cylinders     51525 non-null  float64\n",
      " 5   fuel          51525 non-null  object \n",
      " 6   odometer      43633 non-null  float64\n",
      " 7   transmission  51525 non-null  object \n",
      " 8   type          51525 non-null  object \n",
      " 9   paint_color   42258 non-null  object \n",
      " 10  is_4wd        25572 non-null  float64\n",
      " 11  date_posted   51525 non-null  object \n",
      " 12  days_listed   51525 non-null  int64  \n",
      "dtypes: float64(4), int64(3), object(6)\n",
      "memory usage: 5.1+ MB\n"
     ]
    }
   ],
   "source": [
    "cylinders_grouped = df.groupby(['model'])['cylinders'].median().to_dict()\n",
    "# grouping our dataframe by model to find the median cylinders\n",
    "# storing the resulting dataframe into a dictionary named cylinders_grouped\n",
    "\n",
    "def cylinders_fill (row): \n",
    "    #creating a function called cylinders_fill that takes a variable 'row' as its argument\n",
    "    \n",
    "    if np.isnan(row['cylinders']): \n",
    "        #if the value of cylinders is missing\n",
    "        \n",
    "        return cylinders_grouped.get(row['model'])\n",
    "        #returning the median cylinders value based on the model\n",
    "    \n",
    "    return row['cylinders']\n",
    "    #returning the current cylinders value if value isn't na\n",
    "\n",
    "df['cylinders'] = df.apply(cylinders_fill, axis=1)\n",
    "#applying the cylinders_fill function to the cylinders column in our dataframe\n",
    "\n",
    "df.info() \n",
    "#confirming that values have been filled "
   ]
  },
  {
   "cell_type": "markdown",
   "metadata": {},
   "source": [
    "## The 'fuel' column\n"
   ]
  },
  {
   "cell_type": "markdown",
   "metadata": {},
   "source": [
    "There's nothing to change on the 'fuel' column since there are no missing values and are in the correct data type (object/string)."
   ]
  },
  {
   "cell_type": "markdown",
   "metadata": {},
   "source": [
    "## The 'odometer' column\n"
   ]
  },
  {
   "cell_type": "markdown",
   "metadata": {},
   "source": [
    "Since the 'odometer' is a numerical column (float) we will call the describe() method to get a first idea of the data."
   ]
  },
  {
   "cell_type": "code",
   "execution_count": 52,
   "metadata": {},
   "outputs": [
    {
     "data": {
      "text/plain": [
       "count     43633.000000\n",
       "mean     115553.461738\n",
       "std       65094.611341\n",
       "min           0.000000\n",
       "25%       70000.000000\n",
       "50%      113000.000000\n",
       "75%      155000.000000\n",
       "max      990000.000000\n",
       "Name: odometer, dtype: float64"
      ]
     },
     "execution_count": 52,
     "metadata": {},
     "output_type": "execute_result"
    }
   ],
   "source": [
    "df['odometer'].describe()"
   ]
  },
  {
   "cell_type": "markdown",
   "metadata": {},
   "source": [
    "Here we notice a major standard deviation which represents the dispersion of our data. Since the gap is significant we can understand that there are probably lots of outliers and thus we will use the median to fill in missing values. The odometer values (mileage) can be inferred by the model_year and condition so those are the columns in which will group our data by."
   ]
  },
  {
   "cell_type": "code",
   "execution_count": 53,
   "metadata": {},
   "outputs": [
    {
     "name": "stdout",
     "output_type": "stream",
     "text": [
      "<class 'pandas.core.frame.DataFrame'>\n",
      "RangeIndex: 51525 entries, 0 to 51524\n",
      "Data columns (total 13 columns):\n",
      " #   Column        Non-Null Count  Dtype  \n",
      "---  ------        --------------  -----  \n",
      " 0   price         51525 non-null  int64  \n",
      " 1   model_year    51519 non-null  float64\n",
      " 2   model         51525 non-null  object \n",
      " 3   condition     51525 non-null  int64  \n",
      " 4   cylinders     51525 non-null  float64\n",
      " 5   fuel          51525 non-null  object \n",
      " 6   odometer      51517 non-null  float64\n",
      " 7   transmission  51525 non-null  object \n",
      " 8   type          51525 non-null  object \n",
      " 9   paint_color   42258 non-null  object \n",
      " 10  is_4wd        25572 non-null  float64\n",
      " 11  date_posted   51525 non-null  object \n",
      " 12  days_listed   51525 non-null  int64  \n",
      "dtypes: float64(4), int64(3), object(6)\n",
      "memory usage: 5.1+ MB\n"
     ]
    }
   ],
   "source": [
    "odometer_grouped = df.groupby(['model_year', 'condition'])['odometer'].median().to_dict()\n",
    "# grouping our dataframe by model and condition to find the median value of odometer\n",
    "# storing the resulting dataframe into a dictionary named odometer_grouped\n",
    "\n",
    "def odometer_fill (row):\n",
    "    if np.isnan(row['odometer']):\n",
    "    #if the value of odometer is missing\n",
    "\n",
    "        return odometer_grouped.get((row['model_year'], row['condition']))\n",
    "        #returning the median odometer value based on the model_year and condition\n",
    "\n",
    "    return row['odometer']\n",
    "    #returning the current odometer value if value isn't na\n",
    "\n",
    "df['odometer'] = df.apply(odometer_fill, axis=1)\n",
    "#applying the odometer_fill function to the odometer column in our dataframe\n",
    "\n",
    "df.info()\n",
    "#confirming that values have been filled "
   ]
  },
  {
   "cell_type": "markdown",
   "metadata": {},
   "source": [
    "## The 'transmission' column\n"
   ]
  },
  {
   "cell_type": "markdown",
   "metadata": {},
   "source": [
    "There's nothing to change on the 'transmission' column since there are no missing values and are in the correct data type (object/string)."
   ]
  },
  {
   "cell_type": "markdown",
   "metadata": {},
   "source": [
    "## The 'type' column\n"
   ]
  },
  {
   "cell_type": "markdown",
   "metadata": {},
   "source": [
    "There's nothing to change on the 'type' column since there are no missing values and are in the correct data type (object/string)."
   ]
  },
  {
   "cell_type": "markdown",
   "metadata": {},
   "source": [
    "## The 'paint_color' column"
   ]
  },
  {
   "cell_type": "markdown",
   "metadata": {},
   "source": [
    "This is a unique column because there's nothing that we can use in order to infer what the missing values would have been. Thus, we are accross a big dilemma - should we keep these values as NaN or simply delete the rows? Even though others can have a different view we believe that these rows store extremely important data that would be essential for our analysis and so we will keep them. If we would get rid of these rows (9267 rows to be exact) then our results could be skewered. So will keep it as it is."
   ]
  },
  {
   "cell_type": "code",
   "execution_count": 54,
   "metadata": {},
   "outputs": [
    {
     "data": {
      "text/plain": [
       "array([nan, 'white', 'red', 'black', 'blue', 'grey', 'silver', 'custom',\n",
       "       'orange', 'yellow', 'brown', 'green', 'purple'], dtype=object)"
      ]
     },
     "execution_count": 54,
     "metadata": {},
     "output_type": "execute_result"
    }
   ],
   "source": [
    "df['paint_color'].unique()\n",
    "#getting the unique values of the column to confirm we don't have any misspelled words"
   ]
  },
  {
   "cell_type": "markdown",
   "metadata": {},
   "source": [
    "## The 'is_4wd' column"
   ]
  },
  {
   "cell_type": "markdown",
   "metadata": {},
   "source": [
    "This column faces 2 issues, first it has missing values which will have to be filled in and secondly the data should be Boolean type (True/False) which will have to convert with the help of the .where() method. "
   ]
  },
  {
   "cell_type": "code",
   "execution_count": 55,
   "metadata": {},
   "outputs": [
    {
     "data": {
      "text/plain": [
       "array([ 1., nan])"
      ]
     },
     "execution_count": 55,
     "metadata": {},
     "output_type": "execute_result"
    }
   ],
   "source": [
    "df['is_4wd'].unique() \n",
    "#printing each unique value in the is_4wd column"
   ]
  },
  {
   "cell_type": "markdown",
   "metadata": {},
   "source": [
    "This columns shows whether a car is 4wd (four-wheel drive) or not. The current value 1 stands for True and since there is only one option left that means that nan would be 0 so False as a Boolean data type. Let's fill the value accordingly and the convert to the correct data type. "
   ]
  },
  {
   "cell_type": "code",
   "execution_count": 56,
   "metadata": {},
   "outputs": [
    {
     "name": "stdout",
     "output_type": "stream",
     "text": [
      "<class 'pandas.core.frame.DataFrame'>\n",
      "RangeIndex: 51525 entries, 0 to 51524\n",
      "Data columns (total 13 columns):\n",
      " #   Column        Non-Null Count  Dtype  \n",
      "---  ------        --------------  -----  \n",
      " 0   price         51525 non-null  int64  \n",
      " 1   model_year    51519 non-null  float64\n",
      " 2   model         51525 non-null  object \n",
      " 3   condition     51525 non-null  int64  \n",
      " 4   cylinders     51525 non-null  float64\n",
      " 5   fuel          51525 non-null  object \n",
      " 6   odometer      51517 non-null  float64\n",
      " 7   transmission  51525 non-null  object \n",
      " 8   type          51525 non-null  object \n",
      " 9   paint_color   42258 non-null  object \n",
      " 10  is_4wd        51525 non-null  bool   \n",
      " 11  date_posted   51525 non-null  object \n",
      " 12  days_listed   51525 non-null  int64  \n",
      "dtypes: bool(1), float64(3), int64(3), object(6)\n",
      "memory usage: 4.8+ MB\n"
     ]
    }
   ],
   "source": [
    "df['is_4wd'] = df['is_4wd'].where(df['is_4wd'] == 1, 0)\n",
    "#returning 0 wherever the value is NOT equal to 1\n",
    "\n",
    "df['is_4wd'] = df['is_4wd'].astype('bool')\n",
    "#converting the data type from float to Boolean\n",
    "\n",
    "df.info()\n",
    "#confirming that values have been filled and data type changed"
   ]
  },
  {
   "cell_type": "markdown",
   "metadata": {},
   "source": [
    "## The 'date_posted' column"
   ]
  },
  {
   "cell_type": "markdown",
   "metadata": {},
   "source": [
    "In this column we don't have any missing values but we have to change the data type from object/string to date time data type. First we will study the current dates to understand their current format that we will later need for the data type conversiom."
   ]
  },
  {
   "cell_type": "code",
   "execution_count": 57,
   "metadata": {},
   "outputs": [
    {
     "data": {
      "text/plain": [
       "0    2018-06-23\n",
       "1    2018-10-19\n",
       "2    2019-02-07\n",
       "3    2019-03-22\n",
       "4    2019-04-02\n",
       "Name: date_posted, dtype: object"
      ]
     },
     "execution_count": 57,
     "metadata": {},
     "output_type": "execute_result"
    }
   ],
   "source": [
    "df['date_posted'].head()"
   ]
  },
  {
   "cell_type": "markdown",
   "metadata": {},
   "source": [
    "After having a look in the data we can understand that the format will be; %Y-%m-%d "
   ]
  },
  {
   "cell_type": "code",
   "execution_count": 58,
   "metadata": {},
   "outputs": [
    {
     "name": "stdout",
     "output_type": "stream",
     "text": [
      "<class 'pandas.core.frame.DataFrame'>\n",
      "RangeIndex: 51525 entries, 0 to 51524\n",
      "Data columns (total 13 columns):\n",
      " #   Column        Non-Null Count  Dtype         \n",
      "---  ------        --------------  -----         \n",
      " 0   price         51525 non-null  int64         \n",
      " 1   model_year    51519 non-null  float64       \n",
      " 2   model         51525 non-null  object        \n",
      " 3   condition     51525 non-null  int64         \n",
      " 4   cylinders     51525 non-null  float64       \n",
      " 5   fuel          51525 non-null  object        \n",
      " 6   odometer      51517 non-null  float64       \n",
      " 7   transmission  51525 non-null  object        \n",
      " 8   type          51525 non-null  object        \n",
      " 9   paint_color   42258 non-null  object        \n",
      " 10  is_4wd        51525 non-null  bool          \n",
      " 11  date_posted   51525 non-null  datetime64[ns]\n",
      " 12  days_listed   51525 non-null  int64         \n",
      "dtypes: bool(1), datetime64[ns](1), float64(3), int64(3), object(5)\n",
      "memory usage: 4.8+ MB\n"
     ]
    }
   ],
   "source": [
    "df['date_posted'] = pd.to_datetime(df['date_posted'], format='%Y-%m-%d')\n",
    "\n",
    "df.info()"
   ]
  },
  {
   "cell_type": "markdown",
   "metadata": {},
   "source": [
    "## The 'days_listed' column"
   ]
  },
  {
   "cell_type": "markdown",
   "metadata": {},
   "source": [
    "There's nothing to change on the 'days_listed' column since there are no missing values and are in the correct data type (int)."
   ]
  },
  {
   "cell_type": "markdown",
   "metadata": {},
   "source": [
    "## Adding new columns"
   ]
  },
  {
   "cell_type": "markdown",
   "metadata": {},
   "source": [
    "We will add the following columns to our table to help us further with our analysis:\n",
    "    \n",
    "- Day of the week, month, and year the ad was placed\n",
    "- The vehicle's age (in years) when the ad was placed\n",
    "- The vehicle's average mileage per year"
   ]
  },
  {
   "cell_type": "code",
   "execution_count": 59,
   "metadata": {},
   "outputs": [
    {
     "data": {
      "text/html": [
       "<div>\n",
       "<style scoped>\n",
       "    .dataframe tbody tr th:only-of-type {\n",
       "        vertical-align: middle;\n",
       "    }\n",
       "\n",
       "    .dataframe tbody tr th {\n",
       "        vertical-align: top;\n",
       "    }\n",
       "\n",
       "    .dataframe thead th {\n",
       "        text-align: right;\n",
       "    }\n",
       "</style>\n",
       "<table border=\"1\" class=\"dataframe\">\n",
       "  <thead>\n",
       "    <tr style=\"text-align: right;\">\n",
       "      <th></th>\n",
       "      <th>price</th>\n",
       "      <th>model_year</th>\n",
       "      <th>model</th>\n",
       "      <th>condition</th>\n",
       "      <th>cylinders</th>\n",
       "      <th>fuel</th>\n",
       "      <th>odometer</th>\n",
       "      <th>transmission</th>\n",
       "      <th>type</th>\n",
       "      <th>paint_color</th>\n",
       "      <th>is_4wd</th>\n",
       "      <th>date_posted</th>\n",
       "      <th>days_listed</th>\n",
       "      <th>ad_weekday</th>\n",
       "      <th>ad_month</th>\n",
       "      <th>ad_year</th>\n",
       "      <th>vehicle_age</th>\n",
       "      <th>avg_annual_odometer</th>\n",
       "    </tr>\n",
       "  </thead>\n",
       "  <tbody>\n",
       "    <tr>\n",
       "      <th>0</th>\n",
       "      <td>9400</td>\n",
       "      <td>2011.0</td>\n",
       "      <td>bmw x5</td>\n",
       "      <td>2</td>\n",
       "      <td>6.0</td>\n",
       "      <td>gas</td>\n",
       "      <td>145000.0</td>\n",
       "      <td>automatic</td>\n",
       "      <td>SUV</td>\n",
       "      <td>NaN</td>\n",
       "      <td>True</td>\n",
       "      <td>2018-06-23</td>\n",
       "      <td>19</td>\n",
       "      <td>Saturday</td>\n",
       "      <td>June</td>\n",
       "      <td>2018</td>\n",
       "      <td>7.0</td>\n",
       "      <td>20714.0</td>\n",
       "    </tr>\n",
       "    <tr>\n",
       "      <th>1</th>\n",
       "      <td>25500</td>\n",
       "      <td>2008.0</td>\n",
       "      <td>ford f-150</td>\n",
       "      <td>2</td>\n",
       "      <td>6.0</td>\n",
       "      <td>gas</td>\n",
       "      <td>88705.0</td>\n",
       "      <td>automatic</td>\n",
       "      <td>pickup</td>\n",
       "      <td>white</td>\n",
       "      <td>True</td>\n",
       "      <td>2018-10-19</td>\n",
       "      <td>50</td>\n",
       "      <td>Friday</td>\n",
       "      <td>October</td>\n",
       "      <td>2018</td>\n",
       "      <td>10.0</td>\n",
       "      <td>8870.0</td>\n",
       "    </tr>\n",
       "    <tr>\n",
       "      <th>2</th>\n",
       "      <td>5500</td>\n",
       "      <td>2013.0</td>\n",
       "      <td>hyundai sonata</td>\n",
       "      <td>4</td>\n",
       "      <td>4.0</td>\n",
       "      <td>gas</td>\n",
       "      <td>110000.0</td>\n",
       "      <td>automatic</td>\n",
       "      <td>sedan</td>\n",
       "      <td>red</td>\n",
       "      <td>False</td>\n",
       "      <td>2019-02-07</td>\n",
       "      <td>79</td>\n",
       "      <td>Thursday</td>\n",
       "      <td>February</td>\n",
       "      <td>2019</td>\n",
       "      <td>6.0</td>\n",
       "      <td>18333.0</td>\n",
       "    </tr>\n",
       "    <tr>\n",
       "      <th>3</th>\n",
       "      <td>1500</td>\n",
       "      <td>2003.0</td>\n",
       "      <td>ford f-150</td>\n",
       "      <td>1</td>\n",
       "      <td>8.0</td>\n",
       "      <td>gas</td>\n",
       "      <td>188000.0</td>\n",
       "      <td>automatic</td>\n",
       "      <td>pickup</td>\n",
       "      <td>NaN</td>\n",
       "      <td>False</td>\n",
       "      <td>2019-03-22</td>\n",
       "      <td>9</td>\n",
       "      <td>Friday</td>\n",
       "      <td>March</td>\n",
       "      <td>2019</td>\n",
       "      <td>16.0</td>\n",
       "      <td>11750.0</td>\n",
       "    </tr>\n",
       "    <tr>\n",
       "      <th>4</th>\n",
       "      <td>14900</td>\n",
       "      <td>2017.0</td>\n",
       "      <td>chrysler 200</td>\n",
       "      <td>3</td>\n",
       "      <td>4.0</td>\n",
       "      <td>gas</td>\n",
       "      <td>80903.0</td>\n",
       "      <td>automatic</td>\n",
       "      <td>sedan</td>\n",
       "      <td>black</td>\n",
       "      <td>False</td>\n",
       "      <td>2019-04-02</td>\n",
       "      <td>28</td>\n",
       "      <td>Tuesday</td>\n",
       "      <td>April</td>\n",
       "      <td>2019</td>\n",
       "      <td>2.0</td>\n",
       "      <td>40452.0</td>\n",
       "    </tr>\n",
       "  </tbody>\n",
       "</table>\n",
       "</div>"
      ],
      "text/plain": [
       "   price  model_year           model  condition  cylinders fuel  odometer  \\\n",
       "0   9400      2011.0          bmw x5          2        6.0  gas  145000.0   \n",
       "1  25500      2008.0      ford f-150          2        6.0  gas   88705.0   \n",
       "2   5500      2013.0  hyundai sonata          4        4.0  gas  110000.0   \n",
       "3   1500      2003.0      ford f-150          1        8.0  gas  188000.0   \n",
       "4  14900      2017.0    chrysler 200          3        4.0  gas   80903.0   \n",
       "\n",
       "  transmission    type paint_color  is_4wd date_posted  days_listed  \\\n",
       "0    automatic     SUV         NaN    True  2018-06-23           19   \n",
       "1    automatic  pickup       white    True  2018-10-19           50   \n",
       "2    automatic   sedan         red   False  2019-02-07           79   \n",
       "3    automatic  pickup         NaN   False  2019-03-22            9   \n",
       "4    automatic   sedan       black   False  2019-04-02           28   \n",
       "\n",
       "  ad_weekday  ad_month  ad_year  vehicle_age  avg_annual_odometer  \n",
       "0   Saturday      June     2018          7.0              20714.0  \n",
       "1     Friday   October     2018         10.0               8870.0  \n",
       "2   Thursday  February     2019          6.0              18333.0  \n",
       "3     Friday     March     2019         16.0              11750.0  \n",
       "4    Tuesday     April     2019          2.0              40452.0  "
      ]
     },
     "execution_count": 59,
     "metadata": {},
     "output_type": "execute_result"
    }
   ],
   "source": [
    "df['ad_weekday'] = pd.DatetimeIndex(df['date_posted']).day_name()\n",
    "#adding a new column that states the day that the ad was published\n",
    "\n",
    "df['ad_month'] = pd.DatetimeIndex(df['date_posted']).month_name()\n",
    "#adding a new column that states the month that the ad was published\n",
    "\n",
    "df['ad_year'] = pd.DatetimeIndex(df['date_posted']).year\n",
    "#adding a new column that states the year that the ad was published\n",
    "\n",
    "df['vehicle_age'] = df['ad_year'] - df['model_year']\n",
    "#adding a new column that states vehicle's age when the ad was published substracting ad_year from the model_year\n",
    "\n",
    "df['avg_annual_odometer'] = (df['odometer'] / df['vehicle_age']).round(0)\n",
    "#adding a new column that states vehicle's average annual odometer from dividing odometer by the vehicle_age column\n",
    "#rounding to the nearest digit point\n",
    "\n",
    "df.head()\n",
    "#confirming that columns have been added"
   ]
  },
  {
   "cell_type": "markdown",
   "metadata": {},
   "source": [
    "## Data Preprocessing Conclusion"
   ]
  },
  {
   "cell_type": "markdown",
   "metadata": {},
   "source": [
    "We have now cleaned our data and we are ready to start our exploratory data analysis based on reliable data that we can count on. Before moving forward let's quickly summarize all the steps we have taken thus far:\n",
    "\n",
    "- We replaced the conditions on the condition column with numeric values.\n",
    "- We have updated all columns to their correct data type (such as column: is_4wd to Boolean and date_psted to datetime.\n",
    "- We have replaced all missing values with the corresponding median (after first grouping the data according to the each column's conidtion). The only column we didn't replace was the paint_color because we would lose a lot of our data that could eventually ruin our whole analysis - we kept them as it was. \n",
    "- Lastly, we added additional columns to our dataset such as the day of the week, month and year the ad was published as well as the vehicle's age and the average annual mileage for each car. "
   ]
  },
  {
   "cell_type": "markdown",
   "metadata": {},
   "source": [
    "# Exploratory Data Analysis (EDA)\n",
    "\n",
    "## Identifying Outliers"
   ]
  },
  {
   "cell_type": "markdown",
   "metadata": {},
   "source": [
    "Here we will start our exploratory data analysis by plotting histograms for each of the below parameters:\n",
    "- price\n",
    "- vehicle's age (when the ad was placed)\n",
    "- mileage\n",
    "- number of cylinders\n",
    "- condition\n",
    "\n",
    "Our goal here is to study how outliers affect the form and readability of the histograms outliers."
   ]
  },
  {
   "cell_type": "code",
   "execution_count": 60,
   "metadata": {},
   "outputs": [
    {
     "data": {
      "image/png": "[encoded data removed]",
      "text/plain": [
       "<Figure size 432x288 with 1 Axes>"
      ]
     },
     "metadata": {
      "needs_background": "light"
     },
     "output_type": "display_data"
    },
    {
     "data": {
      "image/png": "[encoded data removed]",
      "text/plain": [
       "<Figure size 432x288 with 1 Axes>"
      ]
     },
     "metadata": {
      "needs_background": "light"
     },
     "output_type": "display_data"
    },
    {
     "data": {
      "image/png": "[encoded data removed]",
      "text/plain": [
       "<Figure size 432x288 with 1 Axes>"
      ]
     },
     "metadata": {
      "needs_background": "light"
     },
     "output_type": "display_data"
    },
    {
     "data": {
      "image/png": "[encoded data removed]",
      "text/plain": [
       "<Figure size 432x288 with 1 Axes>"
      ]
     },
     "metadata": {
      "needs_background": "light"
     },
     "output_type": "display_data"
    },
    {
     "data": {
      "image/png": "[encoded data removed]",
      "text/plain": [
       "<Figure size 432x288 with 1 Axes>"
      ]
     },
     "metadata": {
      "needs_background": "light"
     },
     "output_type": "display_data"
    },
    {
     "data": {
      "image/png": "[encoded data removed]",
      "text/plain": [
       "<Figure size 432x288 with 1 Axes>"
      ]
     },
     "metadata": {
      "needs_background": "light"
     },
     "output_type": "display_data"
    }
   ],
   "source": [
    "df['price'].plot(kind='hist', bins=30, grid=True, range=(0, 70000))\n",
    "#plotting a histogram for the price column that has grid, 30 bins, and a range from 0 to 70000\n",
    "\n",
    "plt.title('price')\n",
    "#adding a title to our histogram\n",
    "\n",
    "plt.show()\n",
    "#showing the histogram\n",
    "\n",
    "\n",
    "df['vehicle_age'].plot(kind='hist', bins=20, grid=True, range=(0, 60))\n",
    "#plotting a histogram for the vehicle_age column that has grid, 30 bins, and a range from 0 to 60\n",
    "\n",
    "plt.title('vehicle\\'s age')\n",
    "#adding a title to our histogram\n",
    "\n",
    "plt.show()\n",
    "#showing the histogram\n",
    "\n",
    "\n",
    "df['odometer'].plot(kind='hist', bins=20, grid=True, range=(0, 400000))\n",
    "#plotting a histogram for the odometer column that has grid, 30 bins, and a range from 0 to 400000\n",
    "\n",
    "plt.title('odometer')\n",
    "#adding a title to our histogram\n",
    "\n",
    "plt.show()\n",
    "#showing the histogram\n",
    "\n",
    "\n",
    "df['odometer'].plot(kind='hist', bins=20, grid=True, range=(0, 400000))\n",
    "#plotting a histogram for the odometer column that has grid, 30 bins, and a range from 0 to 400000\n",
    "\n",
    "plt.title('odometer')\n",
    "#adding a title to our histogram\n",
    "\n",
    "plt.show()\n",
    "#showing the histogram\n",
    "\n",
    "\n",
    "df['cylinders'].plot(kind='hist', bins=5, grid=True, range=(0, 15))\n",
    "#plotting a histogram for the cylinders column that has grid, 5 bins, and a range from 0 to 15\n",
    "\n",
    "plt.title('cylinders')\n",
    "#adding a title to our histogram\n",
    "\n",
    "plt.show()\n",
    "#showing the histogram\n",
    "\n",
    "\n",
    "df['condition'].plot(kind='hist', bins=5, grid=True, range=(0, 5))\n",
    "#plotting a histogram for the condition column that has grid, 5 bins, and a range from 0 to 5\n",
    "\n",
    "plt.title('condition')\n",
    "#adding a title to our histogram\n",
    "\n",
    "plt.show()\n",
    "#showing the histogram"
   ]
  },
  {
   "cell_type": "markdown",
   "metadata": {},
   "source": [
    "First, in our price histogram we notice that our data starts to zero out after 40000. In the vehicle's age  this happens after 30. In the odometer histogram this can be seen after 300000. In the last two histograms cyliners and condition we can't really identify any outliers. "
   ]
  },
  {
   "cell_type": "markdown",
   "metadata": {},
   "source": [
    "## Filtering Data & Updated Histograms"
   ]
  },
  {
   "cell_type": "code",
   "execution_count": 61,
   "metadata": {},
   "outputs": [
    {
     "name": "stdout",
     "output_type": "stream",
     "text": [
      "<class 'pandas.core.frame.DataFrame'>\n",
      "Int64Index: 1 entries, 17869 to 17869\n",
      "Data columns (total 18 columns):\n",
      " #   Column               Non-Null Count  Dtype         \n",
      "---  ------               --------------  -----         \n",
      " 0   price                1 non-null      int64         \n",
      " 1   model_year           1 non-null      float64       \n",
      " 2   model                1 non-null      object        \n",
      " 3   condition            1 non-null      int64         \n",
      " 4   cylinders            1 non-null      float64       \n",
      " 5   fuel                 1 non-null      object        \n",
      " 6   odometer             1 non-null      float64       \n",
      " 7   transmission         1 non-null      object        \n",
      " 8   type                 1 non-null      object        \n",
      " 9   paint_color          1 non-null      object        \n",
      " 10  is_4wd               1 non-null      bool          \n",
      " 11  date_posted          1 non-null      datetime64[ns]\n",
      " 12  days_listed          1 non-null      int64         \n",
      " 13  ad_weekday           1 non-null      object        \n",
      " 14  ad_month             1 non-null      object        \n",
      " 15  ad_year              1 non-null      int64         \n",
      " 16  vehicle_age          1 non-null      float64       \n",
      " 17  avg_annual_odometer  1 non-null      float64       \n",
      "dtypes: bool(1), datetime64[ns](1), float64(5), int64(4), object(7)\n",
      "memory usage: 145.0+ bytes\n"
     ]
    },
    {
     "data": {
      "text/html": [
       "<div>\n",
       "<style scoped>\n",
       "    .dataframe tbody tr th:only-of-type {\n",
       "        vertical-align: middle;\n",
       "    }\n",
       "\n",
       "    .dataframe tbody tr th {\n",
       "        vertical-align: top;\n",
       "    }\n",
       "\n",
       "    .dataframe thead th {\n",
       "        text-align: right;\n",
       "    }\n",
       "</style>\n",
       "<table border=\"1\" class=\"dataframe\">\n",
       "  <thead>\n",
       "    <tr style=\"text-align: right;\">\n",
       "      <th></th>\n",
       "      <th>price</th>\n",
       "      <th>model_year</th>\n",
       "      <th>model</th>\n",
       "      <th>condition</th>\n",
       "      <th>cylinders</th>\n",
       "      <th>fuel</th>\n",
       "      <th>odometer</th>\n",
       "      <th>transmission</th>\n",
       "      <th>type</th>\n",
       "      <th>paint_color</th>\n",
       "      <th>is_4wd</th>\n",
       "      <th>date_posted</th>\n",
       "      <th>days_listed</th>\n",
       "      <th>ad_weekday</th>\n",
       "      <th>ad_month</th>\n",
       "      <th>ad_year</th>\n",
       "      <th>vehicle_age</th>\n",
       "      <th>avg_annual_odometer</th>\n",
       "    </tr>\n",
       "  </thead>\n",
       "  <tbody>\n",
       "    <tr>\n",
       "      <th>17869</th>\n",
       "      <td>59900</td>\n",
       "      <td>1964.0</td>\n",
       "      <td>chevrolet corvette</td>\n",
       "      <td>4</td>\n",
       "      <td>8.0</td>\n",
       "      <td>gas</td>\n",
       "      <td>990000.0</td>\n",
       "      <td>automatic</td>\n",
       "      <td>convertible</td>\n",
       "      <td>red</td>\n",
       "      <td>False</td>\n",
       "      <td>2018-06-17</td>\n",
       "      <td>28</td>\n",
       "      <td>Sunday</td>\n",
       "      <td>June</td>\n",
       "      <td>2018</td>\n",
       "      <td>54.0</td>\n",
       "      <td>18333.0</td>\n",
       "    </tr>\n",
       "  </tbody>\n",
       "</table>\n",
       "</div>"
      ],
      "text/plain": [
       "       price  model_year               model  condition  cylinders fuel  \\\n",
       "17869  59900      1964.0  chevrolet corvette          4        8.0  gas   \n",
       "\n",
       "       odometer transmission         type paint_color  is_4wd date_posted  \\\n",
       "17869  990000.0    automatic  convertible         red   False  2018-06-17   \n",
       "\n",
       "       days_listed ad_weekday ad_month  ad_year  vehicle_age  \\\n",
       "17869           28     Sunday     June     2018         54.0   \n",
       "\n",
       "       avg_annual_odometer  \n",
       "17869              18333.0  "
      ]
     },
     "execution_count": 61,
     "metadata": {},
     "output_type": "execute_result"
    }
   ],
   "source": [
    "outlier_df = df[(df['price'] > 40000) & (df['vehicle_age'] > 30) & (df['odometer'] > 300000)]\n",
    "#creating a new dataframe where we only include the outliers \n",
    "\n",
    "outlier_df.info()\n",
    "#printing the info of this new dataframe\n",
    "\n",
    "outlier_df\n",
    "#printing the dataframe"
   ]
  },
  {
   "cell_type": "markdown",
   "metadata": {},
   "source": [
    "Now that we have succesfully created a dataframe with our outliers, which appears to just be one we will also need to create a new dataframe that will have no outliers at all - our filtered dataframe. \n",
    "\n",
    "This filtered dataframe will be the one we will work with moving forward. "
   ]
  },
  {
   "cell_type": "code",
   "execution_count": 62,
   "metadata": {},
   "outputs": [
    {
     "name": "stdout",
     "output_type": "stream",
     "text": [
      "<class 'pandas.core.frame.DataFrame'>\n",
      "Int64Index: 50092 entries, 0 to 51524\n",
      "Data columns (total 18 columns):\n",
      " #   Column               Non-Null Count  Dtype         \n",
      "---  ------               --------------  -----         \n",
      " 0   price                50092 non-null  int64         \n",
      " 1   model_year           50092 non-null  float64       \n",
      " 2   model                50092 non-null  object        \n",
      " 3   condition            50092 non-null  int64         \n",
      " 4   cylinders            50092 non-null  float64       \n",
      " 5   fuel                 50092 non-null  object        \n",
      " 6   odometer             50092 non-null  float64       \n",
      " 7   transmission         50092 non-null  object        \n",
      " 8   type                 50092 non-null  object        \n",
      " 9   paint_color          41064 non-null  object        \n",
      " 10  is_4wd               50092 non-null  bool          \n",
      " 11  date_posted          50092 non-null  datetime64[ns]\n",
      " 12  days_listed          50092 non-null  int64         \n",
      " 13  ad_weekday           50092 non-null  object        \n",
      " 14  ad_month             50092 non-null  object        \n",
      " 15  ad_year              50092 non-null  int64         \n",
      " 16  vehicle_age          50092 non-null  float64       \n",
      " 17  avg_annual_odometer  50091 non-null  float64       \n",
      "dtypes: bool(1), datetime64[ns](1), float64(5), int64(4), object(7)\n",
      "memory usage: 6.9+ MB\n"
     ]
    },
    {
     "data": {
      "text/html": [
       "<div>\n",
       "<style scoped>\n",
       "    .dataframe tbody tr th:only-of-type {\n",
       "        vertical-align: middle;\n",
       "    }\n",
       "\n",
       "    .dataframe tbody tr th {\n",
       "        vertical-align: top;\n",
       "    }\n",
       "\n",
       "    .dataframe thead th {\n",
       "        text-align: right;\n",
       "    }\n",
       "</style>\n",
       "<table border=\"1\" class=\"dataframe\">\n",
       "  <thead>\n",
       "    <tr style=\"text-align: right;\">\n",
       "      <th></th>\n",
       "      <th>price</th>\n",
       "      <th>model_year</th>\n",
       "      <th>model</th>\n",
       "      <th>condition</th>\n",
       "      <th>cylinders</th>\n",
       "      <th>fuel</th>\n",
       "      <th>odometer</th>\n",
       "      <th>transmission</th>\n",
       "      <th>type</th>\n",
       "      <th>paint_color</th>\n",
       "      <th>is_4wd</th>\n",
       "      <th>date_posted</th>\n",
       "      <th>days_listed</th>\n",
       "      <th>ad_weekday</th>\n",
       "      <th>ad_month</th>\n",
       "      <th>ad_year</th>\n",
       "      <th>vehicle_age</th>\n",
       "      <th>avg_annual_odometer</th>\n",
       "    </tr>\n",
       "  </thead>\n",
       "  <tbody>\n",
       "    <tr>\n",
       "      <th>0</th>\n",
       "      <td>9400</td>\n",
       "      <td>2011.0</td>\n",
       "      <td>bmw x5</td>\n",
       "      <td>2</td>\n",
       "      <td>6.0</td>\n",
       "      <td>gas</td>\n",
       "      <td>145000.0</td>\n",
       "      <td>automatic</td>\n",
       "      <td>SUV</td>\n",
       "      <td>NaN</td>\n",
       "      <td>True</td>\n",
       "      <td>2018-06-23</td>\n",
       "      <td>19</td>\n",
       "      <td>Saturday</td>\n",
       "      <td>June</td>\n",
       "      <td>2018</td>\n",
       "      <td>7.0</td>\n",
       "      <td>20714.0</td>\n",
       "    </tr>\n",
       "    <tr>\n",
       "      <th>1</th>\n",
       "      <td>25500</td>\n",
       "      <td>2008.0</td>\n",
       "      <td>ford f-150</td>\n",
       "      <td>2</td>\n",
       "      <td>6.0</td>\n",
       "      <td>gas</td>\n",
       "      <td>88705.0</td>\n",
       "      <td>automatic</td>\n",
       "      <td>pickup</td>\n",
       "      <td>white</td>\n",
       "      <td>True</td>\n",
       "      <td>2018-10-19</td>\n",
       "      <td>50</td>\n",
       "      <td>Friday</td>\n",
       "      <td>October</td>\n",
       "      <td>2018</td>\n",
       "      <td>10.0</td>\n",
       "      <td>8870.0</td>\n",
       "    </tr>\n",
       "    <tr>\n",
       "      <th>2</th>\n",
       "      <td>5500</td>\n",
       "      <td>2013.0</td>\n",
       "      <td>hyundai sonata</td>\n",
       "      <td>4</td>\n",
       "      <td>4.0</td>\n",
       "      <td>gas</td>\n",
       "      <td>110000.0</td>\n",
       "      <td>automatic</td>\n",
       "      <td>sedan</td>\n",
       "      <td>red</td>\n",
       "      <td>False</td>\n",
       "      <td>2019-02-07</td>\n",
       "      <td>79</td>\n",
       "      <td>Thursday</td>\n",
       "      <td>February</td>\n",
       "      <td>2019</td>\n",
       "      <td>6.0</td>\n",
       "      <td>18333.0</td>\n",
       "    </tr>\n",
       "    <tr>\n",
       "      <th>3</th>\n",
       "      <td>1500</td>\n",
       "      <td>2003.0</td>\n",
       "      <td>ford f-150</td>\n",
       "      <td>1</td>\n",
       "      <td>8.0</td>\n",
       "      <td>gas</td>\n",
       "      <td>188000.0</td>\n",
       "      <td>automatic</td>\n",
       "      <td>pickup</td>\n",
       "      <td>NaN</td>\n",
       "      <td>False</td>\n",
       "      <td>2019-03-22</td>\n",
       "      <td>9</td>\n",
       "      <td>Friday</td>\n",
       "      <td>March</td>\n",
       "      <td>2019</td>\n",
       "      <td>16.0</td>\n",
       "      <td>11750.0</td>\n",
       "    </tr>\n",
       "    <tr>\n",
       "      <th>4</th>\n",
       "      <td>14900</td>\n",
       "      <td>2017.0</td>\n",
       "      <td>chrysler 200</td>\n",
       "      <td>3</td>\n",
       "      <td>4.0</td>\n",
       "      <td>gas</td>\n",
       "      <td>80903.0</td>\n",
       "      <td>automatic</td>\n",
       "      <td>sedan</td>\n",
       "      <td>black</td>\n",
       "      <td>False</td>\n",
       "      <td>2019-04-02</td>\n",
       "      <td>28</td>\n",
       "      <td>Tuesday</td>\n",
       "      <td>April</td>\n",
       "      <td>2019</td>\n",
       "      <td>2.0</td>\n",
       "      <td>40452.0</td>\n",
       "    </tr>\n",
       "  </tbody>\n",
       "</table>\n",
       "</div>"
      ],
      "text/plain": [
       "   price  model_year           model  condition  cylinders fuel  odometer  \\\n",
       "0   9400      2011.0          bmw x5          2        6.0  gas  145000.0   \n",
       "1  25500      2008.0      ford f-150          2        6.0  gas   88705.0   \n",
       "2   5500      2013.0  hyundai sonata          4        4.0  gas  110000.0   \n",
       "3   1500      2003.0      ford f-150          1        8.0  gas  188000.0   \n",
       "4  14900      2017.0    chrysler 200          3        4.0  gas   80903.0   \n",
       "\n",
       "  transmission    type paint_color  is_4wd date_posted  days_listed  \\\n",
       "0    automatic     SUV         NaN    True  2018-06-23           19   \n",
       "1    automatic  pickup       white    True  2018-10-19           50   \n",
       "2    automatic   sedan         red   False  2019-02-07           79   \n",
       "3    automatic  pickup         NaN   False  2019-03-22            9   \n",
       "4    automatic   sedan       black   False  2019-04-02           28   \n",
       "\n",
       "  ad_weekday  ad_month  ad_year  vehicle_age  avg_annual_odometer  \n",
       "0   Saturday      June     2018          7.0              20714.0  \n",
       "1     Friday   October     2018         10.0               8870.0  \n",
       "2   Thursday  February     2019          6.0              18333.0  \n",
       "3     Friday     March     2019         16.0              11750.0  \n",
       "4    Tuesday     April     2019          2.0              40452.0  "
      ]
     },
     "execution_count": 62,
     "metadata": {},
     "output_type": "execute_result"
    }
   ],
   "source": [
    "filtered_df = df[(df['price'] < 40000) & (df['vehicle_age'] < 30) & (df['odometer'] < 300000)]\n",
    "#creating a new dataframe where we don't have outliers - filtered data\n",
    "\n",
    "filtered_df.info()\n",
    "#printing the info of the filtered dataframe\n",
    "\n",
    "filtered_df.head()\n",
    "#printing the first 5 rows of our dataframe"
   ]
  },
  {
   "cell_type": "markdown",
   "metadata": {},
   "source": [
    "Since we now have filtered the data let's plot new histograms with the exact same parameters as we did before."
   ]
  },
  {
   "cell_type": "code",
   "execution_count": 63,
   "metadata": {},
   "outputs": [
    {
     "data": {
      "image/png": "[encoded data removed]",
      "text/plain": [
       "<Figure size 432x288 with 1 Axes>"
      ]
     },
     "metadata": {
      "needs_background": "light"
     },
     "output_type": "display_data"
    },
    {
     "data": {
      "image/png": "[encoded data removed]",
      "text/plain": [
       "<Figure size 432x288 with 1 Axes>"
      ]
     },
     "metadata": {
      "needs_background": "light"
     },
     "output_type": "display_data"
    },
    {
     "data": {
      "image/png": "[encoded data removed]",
      "text/plain": [
       "<Figure size 432x288 with 1 Axes>"
      ]
     },
     "metadata": {
      "needs_background": "light"
     },
     "output_type": "display_data"
    },
    {
     "data": {
      "image/png": "[encoded data removed]",
      "text/plain": [
       "<Figure size 432x288 with 1 Axes>"
      ]
     },
     "metadata": {
      "needs_background": "light"
     },
     "output_type": "display_data"
    },
    {
     "data": {
      "image/png": "[encoded data removed]",
      "text/plain": [
       "<Figure size 432x288 with 1 Axes>"
      ]
     },
     "metadata": {
      "needs_background": "light"
     },
     "output_type": "display_data"
    }
   ],
   "source": [
    "df['price'].plot(kind='hist', bins=30, grid=True, range=(0, 70000))\n",
    "#plotting a histogram for the price column that has grid, 30 bins, and a range from 0 to 70000\n",
    "\n",
    "filtered_df['price'].plot(kind='hist', bins=30, grid=True, range=(0, 70000))\n",
    "#plotting a histogram for the price column that has grid, 30 bins, and a range from 0 to 70000\n",
    "\n",
    "plt.title('price')\n",
    "#adding a title to our histogram\n",
    "\n",
    "plt.show()\n",
    "#showing the histogram\n",
    "\n",
    "\n",
    "df['vehicle_age'].plot(kind='hist', bins=20, grid=True, range=(0, 60))\n",
    "#plotting a histogram for the vehicle_age column that has grid, 30 bins, and a range from 0 to 60\n",
    "\n",
    "filtered_df['vehicle_age'].plot(kind='hist', bins=20, grid=True, range=(0, 60))\n",
    "#plotting a histogram for the vehicle_age column that has grid, 30 bins, and a range from 0 to 60\n",
    "\n",
    "plt.title('vehicle\\'s age')\n",
    "#adding a title to our histogram\n",
    "\n",
    "plt.show()\n",
    "#showing the histogram\n",
    "\n",
    "\n",
    "df['odometer'].plot(kind='hist', bins=20, grid=True, range=(0, 400000))\n",
    "#plotting a histogram for the odometer column that has grid, 30 bins, and a range from 0 to 400000\n",
    "\n",
    "filtered_df['odometer'].plot(kind='hist', bins=20, grid=True, range=(0, 400000))\n",
    "#plotting a histogram for the odometer column that has grid, 30 bins, and a range from 0 to 400000\n",
    "\n",
    "plt.title('odometer')\n",
    "#adding a title to our histogram\n",
    "\n",
    "plt.show()\n",
    "#showing the histogram\n",
    "\n",
    "\n",
    "filtered_df['cylinders'].plot(kind='hist', bins=5, grid=True, range=(0, 15))\n",
    "#plotting a histogram for the cylinders column that has grid, 5 bins, and a range from 0 to 15\n",
    "\n",
    "plt.title('cylinders')\n",
    "#adding a title to our histogram\n",
    "\n",
    "plt.show()\n",
    "#showing the histogram\n",
    "\n",
    "\n",
    "filtered_df['condition'].plot(kind='hist', bins=5, grid=True, range=(0, 5))\n",
    "#plotting a histogram for the condition column that has grid, 5 bins, and a range from 0 to 5\n",
    "\n",
    "plt.title('condition')\n",
    "#adding a title to our histogram\n",
    "\n",
    "plt.show()\n",
    "#showing the histogram"
   ]
  },
  {
   "cell_type": "markdown",
   "metadata": {},
   "source": [
    "In the histograms above the orange color represents the filtered data and the blue color represents the raw data. It helps seeing both graphs combined because their differences stand out. \n",
    "\n",
    "- First, at the price histograph we see that data have remained quite the same with minor differences. The most interesting part is that even though there's a continous decrease after 6000 there is a small spike again at around 35000. \n",
    "\n",
    "- Secondly, we notice that at the vehicle's age histograph there's 3-9 spike (approximately) and then starts to periodically decrease. \n",
    "\n",
    "- Lastly, in the updated odometer historgaph we notice a spike at around 100000-140000 quite similar to our first histograph. What is interesting in this one is the fact that our filtered data overall has less mileage compared to our raw data (0-75000)."
   ]
  },
  {
   "cell_type": "markdown",
   "metadata": {},
   "source": [
    "## Investigating days_listed"
   ]
  },
  {
   "cell_type": "code",
   "execution_count": 64,
   "metadata": {},
   "outputs": [
    {
     "data": {
      "text/plain": [
       "count    50092.000000\n",
       "mean        39.546814\n",
       "std         28.219892\n",
       "min          0.000000\n",
       "25%         19.000000\n",
       "50%         33.000000\n",
       "75%         53.000000\n",
       "max        271.000000\n",
       "Name: days_listed, dtype: float64"
      ]
     },
     "execution_count": 64,
     "metadata": {},
     "output_type": "execute_result"
    },
    {
     "data": {
      "image/png": "[encoded data removed]",
      "text/plain": [
       "<Figure size 432x288 with 1 Axes>"
      ]
     },
     "metadata": {
      "needs_background": "light"
     },
     "output_type": "display_data"
    }
   ],
   "source": [
    "filtered_df['days_listed'].plot(kind='hist', bins=20, range=(0,200))\n",
    "#plotting a histogram for the days_listed column that has 20 bins, and a range from 0 to 200\n",
    "\n",
    "filtered_df['days_listed'].describe()\n",
    "#getting quartile and median values for days_listed column"
   ]
  },
  {
   "cell_type": "code",
   "execution_count": 65,
   "metadata": {},
   "outputs": [
    {
     "data": {
      "image/png": "[encoded data removed]",
      "text/plain": [
       "<Figure size 720x720 with 1 Axes>"
      ]
     },
     "metadata": {
      "needs_background": "light"
     },
     "output_type": "display_data"
    }
   ],
   "source": [
    "filtered_df.boxplot(column='days_listed', figsize=(10,10))\n",
    "#plotting a boxplot for the days_listed column that has size 10 x 10 inches\n",
    "\n",
    "plt.show()\n",
    "#showing the boxplot"
   ]
  },
  {
   "cell_type": "markdown",
   "metadata": {},
   "source": [
    "We can conclude that a typical ad lasts between 19 and 53 days. The mean was found to be 40 and the median 33, which means that most ads stay online for approximately 33 days. Any ad that would be taken down within 19 days would be considered quick and anything that would last more than 100 days would be considered long. "
   ]
  },
  {
   "cell_type": "markdown",
   "metadata": {},
   "source": [
    "## Analyzing the number of ads and the average price for each vehicle type"
   ]
  },
  {
   "cell_type": "markdown",
   "metadata": {},
   "source": [
    "We will create two tables:\n",
    "\n",
    "- A pivot table that will group by vehicle type and find the average price for each. We won't use the aggfunc paremeter since the pivot_table method calculates the mean by default.\n",
    "\n",
    "- A table that will list the number of ads per vehicle type."
   ]
  },
  {
   "cell_type": "code",
   "execution_count": 66,
   "metadata": {},
   "outputs": [
    {
     "data": {
      "text/html": [
       "<div>\n",
       "<style scoped>\n",
       "    .dataframe tbody tr th:only-of-type {\n",
       "        vertical-align: middle;\n",
       "    }\n",
       "\n",
       "    .dataframe tbody tr th {\n",
       "        vertical-align: top;\n",
       "    }\n",
       "\n",
       "    .dataframe thead th {\n",
       "        text-align: right;\n",
       "    }\n",
       "</style>\n",
       "<table border=\"1\" class=\"dataframe\">\n",
       "  <thead>\n",
       "    <tr style=\"text-align: right;\">\n",
       "      <th></th>\n",
       "      <th>price</th>\n",
       "    </tr>\n",
       "    <tr>\n",
       "      <th>type</th>\n",
       "      <th></th>\n",
       "    </tr>\n",
       "  </thead>\n",
       "  <tbody>\n",
       "    <tr>\n",
       "      <th>SUV</th>\n",
       "      <td>10701.714579</td>\n",
       "    </tr>\n",
       "    <tr>\n",
       "      <th>bus</th>\n",
       "      <td>17135.666667</td>\n",
       "    </tr>\n",
       "    <tr>\n",
       "      <th>convertible</th>\n",
       "      <td>12474.605744</td>\n",
       "    </tr>\n",
       "    <tr>\n",
       "      <th>coupe</th>\n",
       "      <td>13615.978500</td>\n",
       "    </tr>\n",
       "    <tr>\n",
       "      <th>hatchback</th>\n",
       "      <td>6814.221248</td>\n",
       "    </tr>\n",
       "    <tr>\n",
       "      <th>mini-van</th>\n",
       "      <td>8043.616984</td>\n",
       "    </tr>\n",
       "    <tr>\n",
       "      <th>offroad</th>\n",
       "      <td>13804.640777</td>\n",
       "    </tr>\n",
       "    <tr>\n",
       "      <th>other</th>\n",
       "      <td>10649.663968</td>\n",
       "    </tr>\n",
       "    <tr>\n",
       "      <th>pickup</th>\n",
       "      <td>15521.425361</td>\n",
       "    </tr>\n",
       "    <tr>\n",
       "      <th>sedan</th>\n",
       "      <td>6949.626860</td>\n",
       "    </tr>\n",
       "    <tr>\n",
       "      <th>truck</th>\n",
       "      <td>15771.432020</td>\n",
       "    </tr>\n",
       "    <tr>\n",
       "      <th>van</th>\n",
       "      <td>10517.514377</td>\n",
       "    </tr>\n",
       "    <tr>\n",
       "      <th>wagon</th>\n",
       "      <td>9013.490504</td>\n",
       "    </tr>\n",
       "  </tbody>\n",
       "</table>\n",
       "</div>"
      ],
      "text/plain": [
       "                    price\n",
       "type                     \n",
       "SUV          10701.714579\n",
       "bus          17135.666667\n",
       "convertible  12474.605744\n",
       "coupe        13615.978500\n",
       "hatchback     6814.221248\n",
       "mini-van      8043.616984\n",
       "offroad      13804.640777\n",
       "other        10649.663968\n",
       "pickup       15521.425361\n",
       "sedan         6949.626860\n",
       "truck        15771.432020\n",
       "van          10517.514377\n",
       "wagon         9013.490504"
      ]
     },
     "execution_count": 66,
     "metadata": {},
     "output_type": "execute_result"
    }
   ],
   "source": [
    "vehicle_type_price_stat = filtered_df.pivot_table(index='type', values='price')\n",
    "#creating a pivot table for the vehicle types based on the average price \n",
    "#by deafult the pivot_table calculates the average \n",
    "\n",
    "vehicle_type_price_stat\n",
    "#printing the pivot table"
   ]
  },
  {
   "cell_type": "code",
   "execution_count": 67,
   "metadata": {},
   "outputs": [
    {
     "data": {
      "text/plain": [
       "SUV            12182\n",
       "sedan          12100\n",
       "truck          11805\n",
       "pickup          6719\n",
       "coupe           2093\n",
       "wagon           1527\n",
       "mini-van        1154\n",
       "hatchback       1026\n",
       "van              626\n",
       "convertible      383\n",
       "other            247\n",
       "offroad          206\n",
       "bus               24\n",
       "Name: type, dtype: int64"
      ]
     },
     "execution_count": 67,
     "metadata": {},
     "output_type": "execute_result"
    }
   ],
   "source": [
    "ads_per_vehicle_type = filtered_df['type'].value_counts()\n",
    "#creating a second table that shows the number of ads for each vehicle type\n",
    "\n",
    "ads_per_vehicle_type\n",
    "#printing the ads_per_vehicle_type table"
   ]
  },
  {
   "cell_type": "markdown",
   "metadata": {},
   "source": [
    "Now we can join the two tables that we created above since are both based on 'type' and then we will rename the columns to sort them in a descending order so that we will be able to identify the two types of vehicles that have the most ads. "
   ]
  },
  {
   "cell_type": "code",
   "execution_count": 68,
   "metadata": {},
   "outputs": [
    {
     "data": {
      "text/html": [
       "<div>\n",
       "<style scoped>\n",
       "    .dataframe tbody tr th:only-of-type {\n",
       "        vertical-align: middle;\n",
       "    }\n",
       "\n",
       "    .dataframe tbody tr th {\n",
       "        vertical-align: top;\n",
       "    }\n",
       "\n",
       "    .dataframe thead th {\n",
       "        text-align: right;\n",
       "    }\n",
       "</style>\n",
       "<table border=\"1\" class=\"dataframe\">\n",
       "  <thead>\n",
       "    <tr style=\"text-align: right;\">\n",
       "      <th></th>\n",
       "      <th>avg price per vehicle type</th>\n",
       "      <th>ads per vehicle type</th>\n",
       "    </tr>\n",
       "    <tr>\n",
       "      <th>type</th>\n",
       "      <th></th>\n",
       "      <th></th>\n",
       "    </tr>\n",
       "  </thead>\n",
       "  <tbody>\n",
       "    <tr>\n",
       "      <th>SUV</th>\n",
       "      <td>10701.714579</td>\n",
       "      <td>12182</td>\n",
       "    </tr>\n",
       "    <tr>\n",
       "      <th>sedan</th>\n",
       "      <td>6949.626860</td>\n",
       "      <td>12100</td>\n",
       "    </tr>\n",
       "    <tr>\n",
       "      <th>truck</th>\n",
       "      <td>15771.432020</td>\n",
       "      <td>11805</td>\n",
       "    </tr>\n",
       "    <tr>\n",
       "      <th>pickup</th>\n",
       "      <td>15521.425361</td>\n",
       "      <td>6719</td>\n",
       "    </tr>\n",
       "    <tr>\n",
       "      <th>coupe</th>\n",
       "      <td>13615.978500</td>\n",
       "      <td>2093</td>\n",
       "    </tr>\n",
       "    <tr>\n",
       "      <th>wagon</th>\n",
       "      <td>9013.490504</td>\n",
       "      <td>1527</td>\n",
       "    </tr>\n",
       "    <tr>\n",
       "      <th>mini-van</th>\n",
       "      <td>8043.616984</td>\n",
       "      <td>1154</td>\n",
       "    </tr>\n",
       "    <tr>\n",
       "      <th>hatchback</th>\n",
       "      <td>6814.221248</td>\n",
       "      <td>1026</td>\n",
       "    </tr>\n",
       "    <tr>\n",
       "      <th>van</th>\n",
       "      <td>10517.514377</td>\n",
       "      <td>626</td>\n",
       "    </tr>\n",
       "    <tr>\n",
       "      <th>convertible</th>\n",
       "      <td>12474.605744</td>\n",
       "      <td>383</td>\n",
       "    </tr>\n",
       "    <tr>\n",
       "      <th>other</th>\n",
       "      <td>10649.663968</td>\n",
       "      <td>247</td>\n",
       "    </tr>\n",
       "    <tr>\n",
       "      <th>offroad</th>\n",
       "      <td>13804.640777</td>\n",
       "      <td>206</td>\n",
       "    </tr>\n",
       "    <tr>\n",
       "      <th>bus</th>\n",
       "      <td>17135.666667</td>\n",
       "      <td>24</td>\n",
       "    </tr>\n",
       "  </tbody>\n",
       "</table>\n",
       "</div>"
      ],
      "text/plain": [
       "             avg price per vehicle type  ads per vehicle type\n",
       "type                                                         \n",
       "SUV                        10701.714579                 12182\n",
       "sedan                       6949.626860                 12100\n",
       "truck                      15771.432020                 11805\n",
       "pickup                     15521.425361                  6719\n",
       "coupe                      13615.978500                  2093\n",
       "wagon                       9013.490504                  1527\n",
       "mini-van                    8043.616984                  1154\n",
       "hatchback                   6814.221248                  1026\n",
       "van                        10517.514377                   626\n",
       "convertible                12474.605744                   383\n",
       "other                      10649.663968                   247\n",
       "offroad                    13804.640777                   206\n",
       "bus                        17135.666667                    24"
      ]
     },
     "execution_count": 68,
     "metadata": {},
     "output_type": "execute_result"
    }
   ],
   "source": [
    "combined_table = vehicle_type_price_stat.join(ads_per_vehicle_type)\n",
    "#combining the two tables we previously made with the join() method\n",
    "\n",
    "combined_table.columns = ['avg price per vehicle type', 'ads per vehicle type']\n",
    "#renaming the column titles to be more clear\n",
    "\n",
    "combined_table = combined_table.sort_values('ads per vehicle type', ascending = False)\n",
    "#sorting the table on a descending order based on 'ads per vehicle type' column\n",
    "\n",
    "combined_table\n",
    "#printing the table "
   ]
  },
  {
   "cell_type": "markdown",
   "metadata": {},
   "source": [
    "Based on the number of ads per vehicle type we can conclude that SUV and sedan are the ones that have the most ads published for (most popular out of all types)."
   ]
  },
  {
   "cell_type": "markdown",
   "metadata": {},
   "source": [
    "## What factors impact the price the most?"
   ]
  },
  {
   "cell_type": "markdown",
   "metadata": {},
   "source": [
    "### Price & SUV Vehicles Analysis"
   ]
  },
  {
   "cell_type": "code",
   "execution_count": 69,
   "metadata": {},
   "outputs": [
    {
     "name": "stdout",
     "output_type": "stream",
     "text": [
      "    price  vehicle_age  odometer  condition transmission paint_color\n",
      "0    9400          7.0  145000.0          2    automatic         NaN\n",
      "7   15990          6.0  109473.0          3    automatic       black\n",
      "8   11500          6.0  104174.0          3    automatic         NaN\n",
      "9    9200         11.0  147191.0          3    automatic        blue\n",
      "14  12990         10.0  132285.0          3    automatic       black\n"
     ]
    }
   ],
   "source": [
    "filtered_df_suv = filtered_df[filtered_df['type'] == 'SUV']\n",
    "#filtering a new dataset that has only SUVs since that was our most popular type of vehicle\n",
    "\n",
    "filtered_df_suv = filtered_df_suv[['price', 'vehicle_age', 'odometer', 'condition', 'transmission', 'paint_color']]\n",
    "#selecting the columns that would like to keep on our new dataset\n",
    "\n",
    "print(filtered_df_suv.head())\n",
    "#printing the first 5 rows of our SUV filtered dataset"
   ]
  },
  {
   "cell_type": "code",
   "execution_count": 70,
   "metadata": {},
   "outputs": [
    {
     "data": {
      "image/png": "[encoded data removed]",
      "text/plain": [
       "<Figure size 432x288 with 1 Axes>"
      ]
     },
     "metadata": {
      "needs_background": "light"
     },
     "output_type": "display_data"
    },
    {
     "data": {
      "image/png": "[encoded data removed]",
      "text/plain": [
       "<Figure size 432x288 with 1 Axes>"
      ]
     },
     "metadata": {
      "needs_background": "light"
     },
     "output_type": "display_data"
    },
    {
     "data": {
      "image/png": "[encoded data removed]",
      "text/plain": [
       "<Figure size 432x288 with 1 Axes>"
      ]
     },
     "metadata": {
      "needs_background": "light"
     },
     "output_type": "display_data"
    },
    {
     "data": {
      "image/png": "[encoded data removed]",
      "text/plain": [
       "<Figure size 432x288 with 1 Axes>"
      ]
     },
     "metadata": {
      "needs_background": "light"
     },
     "output_type": "display_data"
    },
    {
     "data": {
      "image/png": "[encoded data removed]",
      "text/plain": [
       "<Figure size 720x360 with 1 Axes>"
      ]
     },
     "metadata": {
      "needs_background": "light"
     },
     "output_type": "display_data"
    },
    {
     "data": {
      "image/png": "[encoded data removed]",
      "text/plain": [
       "<Figure size 720x360 with 1 Axes>"
      ]
     },
     "metadata": {
      "needs_background": "light"
     },
     "output_type": "display_data"
    }
   ],
   "source": [
    "for column in filtered_df_suv.columns:\n",
    "    #here we are creating a for loop for automation for the suv vehicles\n",
    "    if (column == 'transmission')|(column == 'paint_color'):\n",
    "        #if the column is either transmission or paint_color a boxplot will be made\n",
    "        filtered_df_suv.boxplot(column='price', by=column, figsize=(10,5))\n",
    "        plt.show()\n",
    "        \n",
    "    else:\n",
    "        #for all other columns a scatter plot will be made\n",
    "        filtered_df_suv.plot(x=column, y='price', kind='scatter')\n",
    "        plt.show()"
   ]
  },
  {
   "cell_type": "markdown",
   "metadata": {},
   "source": [
    "On our quantitative columns we can see that there's moderate negative correlation with both the vehicle's age and the odometer. On the other hand on our categorical columns (transmission and paint_color) we don't see any real correlation. Only comment that can be made here is that the cars with color yellow have more chances being pricey.\n",
    "\n",
    "\n",
    "Below we will also create a correlation matrix by using the corr() method to confirm the above conclusions. Anything either close to 1 (positive correlation) or close to -1 (negative correlation) would mean that there's a strong correlation within that value and price. "
   ]
  },
  {
   "cell_type": "code",
   "execution_count": 71,
   "metadata": {},
   "outputs": [
    {
     "data": {
      "text/html": [
       "<div>\n",
       "<style scoped>\n",
       "    .dataframe tbody tr th:only-of-type {\n",
       "        vertical-align: middle;\n",
       "    }\n",
       "\n",
       "    .dataframe tbody tr th {\n",
       "        vertical-align: top;\n",
       "    }\n",
       "\n",
       "    .dataframe thead th {\n",
       "        text-align: right;\n",
       "    }\n",
       "</style>\n",
       "<table border=\"1\" class=\"dataframe\">\n",
       "  <thead>\n",
       "    <tr style=\"text-align: right;\">\n",
       "      <th></th>\n",
       "      <th>price</th>\n",
       "      <th>vehicle_age</th>\n",
       "      <th>odometer</th>\n",
       "      <th>condition</th>\n",
       "    </tr>\n",
       "  </thead>\n",
       "  <tbody>\n",
       "    <tr>\n",
       "      <th>price</th>\n",
       "      <td>1.000000</td>\n",
       "      <td>-0.575413</td>\n",
       "      <td>-0.533358</td>\n",
       "      <td>0.275811</td>\n",
       "    </tr>\n",
       "    <tr>\n",
       "      <th>vehicle_age</th>\n",
       "      <td>-0.575413</td>\n",
       "      <td>1.000000</td>\n",
       "      <td>0.632157</td>\n",
       "      <td>-0.344917</td>\n",
       "    </tr>\n",
       "    <tr>\n",
       "      <th>odometer</th>\n",
       "      <td>-0.533358</td>\n",
       "      <td>0.632157</td>\n",
       "      <td>1.000000</td>\n",
       "      <td>-0.354166</td>\n",
       "    </tr>\n",
       "    <tr>\n",
       "      <th>condition</th>\n",
       "      <td>0.275811</td>\n",
       "      <td>-0.344917</td>\n",
       "      <td>-0.354166</td>\n",
       "      <td>1.000000</td>\n",
       "    </tr>\n",
       "  </tbody>\n",
       "</table>\n",
       "</div>"
      ],
      "text/plain": [
       "                price  vehicle_age  odometer  condition\n",
       "price        1.000000    -0.575413 -0.533358   0.275811\n",
       "vehicle_age -0.575413     1.000000  0.632157  -0.344917\n",
       "odometer    -0.533358     0.632157  1.000000  -0.354166\n",
       "condition    0.275811    -0.344917 -0.354166   1.000000"
      ]
     },
     "execution_count": 71,
     "metadata": {},
     "output_type": "execute_result"
    }
   ],
   "source": [
    "filtered_df_suv.corr()\n",
    "#creating a correlation matrix"
   ]
  },
  {
   "cell_type": "markdown",
   "metadata": {},
   "source": [
    "#### Conclusion for Price & SUV Vehicles "
   ]
  },
  {
   "cell_type": "markdown",
   "metadata": {},
   "source": [
    "On our quantitative columns we can see that there's moderate negative correlation with both the vehicle's age (-0.57) and the odometer (-0.53). Lastly, there's a weak positive correlation between price and condtion (just 0.27). \n",
    "\n",
    "On our categorical columns (transmission and paint_color) we don't see any real correlation."
   ]
  },
  {
   "cell_type": "markdown",
   "metadata": {},
   "source": [
    "### Price & Sedan Vehicles Analysis"
   ]
  },
  {
   "cell_type": "code",
   "execution_count": 72,
   "metadata": {},
   "outputs": [
    {
     "name": "stdout",
     "output_type": "stream",
     "text": [
      "    price  vehicle_age  odometer  condition transmission paint_color\n",
      "2    5500          6.0  110000.0          4    automatic         red\n",
      "4   14900          2.0   80903.0          3    automatic       black\n",
      "5   14990          4.0   57954.0          3    automatic       black\n",
      "6   12990          3.0   79212.0          3    automatic       white\n",
      "11   8990          7.0  111142.0          3    automatic        grey\n"
     ]
    }
   ],
   "source": [
    "filtered_df_sedan = filtered_df[filtered_df['type'] == 'sedan']\n",
    "#filtering a new dataset that has only sedans since that was our most popular type of vehicle\n",
    "\n",
    "filtered_df_sedan = filtered_df_sedan[['price', 'vehicle_age', 'odometer', 'condition', 'transmission', 'paint_color']]\n",
    "#selecting the columns that would like to keep on our new dataset\n",
    "\n",
    "print(filtered_df_sedan.head())\n",
    "#printing the first 5 rows of our sedan filtered dataset"
   ]
  },
  {
   "cell_type": "code",
   "execution_count": 73,
   "metadata": {},
   "outputs": [
    {
     "data": {
      "image/png": "[encoded data removed]",
      "text/plain": [
       "<Figure size 432x288 with 1 Axes>"
      ]
     },
     "metadata": {
      "needs_background": "light"
     },
     "output_type": "display_data"
    },
    {
     "data": {
      "image/png": "[encoded data removed]",
      "text/plain": [
       "<Figure size 432x288 with 1 Axes>"
      ]
     },
     "metadata": {
      "needs_background": "light"
     },
     "output_type": "display_data"
    },
    {
     "data": {
      "image/png": "[encoded data removed]",
      "text/plain": [
       "<Figure size 432x288 with 1 Axes>"
      ]
     },
     "metadata": {
      "needs_background": "light"
     },
     "output_type": "display_data"
    },
    {
     "data": {
      "image/png": "[encoded data removed]",
      "text/plain": [
       "<Figure size 432x288 with 1 Axes>"
      ]
     },
     "metadata": {
      "needs_background": "light"
     },
     "output_type": "display_data"
    },
    {
     "data": {
      "image/png": "[encoded data removed]",
      "text/plain": [
       "<Figure size 720x360 with 1 Axes>"
      ]
     },
     "metadata": {
      "needs_background": "light"
     },
     "output_type": "display_data"
    },
    {
     "data": {
      "image/png": "[encoded data removed]",
      "text/plain": [
       "<Figure size 720x360 with 1 Axes>"
      ]
     },
     "metadata": {
      "needs_background": "light"
     },
     "output_type": "display_data"
    }
   ],
   "source": [
    "for column in filtered_df_sedan.columns:\n",
    "    #here we are creating a for loop for automation for the sedan vehicles\n",
    "    if (column == 'transmission')|(column == 'paint_color'):\n",
    "        #if the column is either transmission or paint_color a boxplot will be made\n",
    "        filtered_df_sedan.boxplot(column='price', by=column, figsize=(10,5))\n",
    "        plt.show()\n",
    "        \n",
    "    else:\n",
    "        #for all other columns a scatter plot will be made\n",
    "        filtered_df_sedan.plot(x=column, y='price', kind='scatter')\n",
    "        plt.show()"
   ]
  },
  {
   "cell_type": "code",
   "execution_count": 74,
   "metadata": {},
   "outputs": [
    {
     "data": {
      "text/html": [
       "<div>\n",
       "<style scoped>\n",
       "    .dataframe tbody tr th:only-of-type {\n",
       "        vertical-align: middle;\n",
       "    }\n",
       "\n",
       "    .dataframe tbody tr th {\n",
       "        vertical-align: top;\n",
       "    }\n",
       "\n",
       "    .dataframe thead th {\n",
       "        text-align: right;\n",
       "    }\n",
       "</style>\n",
       "<table border=\"1\" class=\"dataframe\">\n",
       "  <thead>\n",
       "    <tr style=\"text-align: right;\">\n",
       "      <th></th>\n",
       "      <th>price</th>\n",
       "      <th>vehicle_age</th>\n",
       "      <th>odometer</th>\n",
       "      <th>condition</th>\n",
       "    </tr>\n",
       "  </thead>\n",
       "  <tbody>\n",
       "    <tr>\n",
       "      <th>price</th>\n",
       "      <td>1.000000</td>\n",
       "      <td>-0.619385</td>\n",
       "      <td>-0.564645</td>\n",
       "      <td>0.298919</td>\n",
       "    </tr>\n",
       "    <tr>\n",
       "      <th>vehicle_age</th>\n",
       "      <td>-0.619385</td>\n",
       "      <td>1.000000</td>\n",
       "      <td>0.630157</td>\n",
       "      <td>-0.325618</td>\n",
       "    </tr>\n",
       "    <tr>\n",
       "      <th>odometer</th>\n",
       "      <td>-0.564645</td>\n",
       "      <td>0.630157</td>\n",
       "      <td>1.000000</td>\n",
       "      <td>-0.349009</td>\n",
       "    </tr>\n",
       "    <tr>\n",
       "      <th>condition</th>\n",
       "      <td>0.298919</td>\n",
       "      <td>-0.325618</td>\n",
       "      <td>-0.349009</td>\n",
       "      <td>1.000000</td>\n",
       "    </tr>\n",
       "  </tbody>\n",
       "</table>\n",
       "</div>"
      ],
      "text/plain": [
       "                price  vehicle_age  odometer  condition\n",
       "price        1.000000    -0.619385 -0.564645   0.298919\n",
       "vehicle_age -0.619385     1.000000  0.630157  -0.325618\n",
       "odometer    -0.564645     0.630157  1.000000  -0.349009\n",
       "condition    0.298919    -0.325618 -0.349009   1.000000"
      ]
     },
     "execution_count": 74,
     "metadata": {},
     "output_type": "execute_result"
    }
   ],
   "source": [
    "filtered_df_sedan.corr()"
   ]
  },
  {
   "cell_type": "markdown",
   "metadata": {},
   "source": [
    "#### Conclusion for Price & Sedan Vehicles "
   ]
  },
  {
   "cell_type": "markdown",
   "metadata": {},
   "source": [
    "On our quantitative columns we can see that there's moderate negative correlation with both the vehicle's age (-0.62) and the odometer (-0.56). Lastly, there's a weak positive correlation between price and condtion (just 0.28). Sedans have a stronger negative correlation with price and vehicle's age than the SUV vehicles. \n",
    "\n",
    "On our categorical columns (transmission and paint_color) we don't see any real correlation. Only comment that can be made here is that the cars with color orange have more chances being pricey. On SUVs we made a similar comment but for the yellow color. It's interesting to see how the colors and type of vehicles can affect price."
   ]
  },
  {
   "cell_type": "markdown",
   "metadata": {},
   "source": [
    "# Overall Conclusion"
   ]
  },
  {
   "cell_type": "markdown",
   "metadata": {},
   "source": [
    "In our project we plotted histograms we removed outliers and also filtered data. We identified that most ads last between 19-50 days and those lasting either less than 19 or more than 100 are pretty rare. Additionally, we explored the two most popular vehicle types (SUVs and Sedans) and we investigated further our analysis by looking at these two in more detail. More specifically we looked at these two popular vehicles and found their correlation with price, vehicle's age, odometer, condition, transmission and paint accordingly. Both vehicles have a moderate negative correlation between price and vehicle's age as well as with vehicle's odometer."
   ]
  }
 ],
 "metadata": {
  "ExecuteTimeLog": [
   {
    "duration": 828,
    "start_time": "2021-11-16T09:21:11.304Z"
   },
   {
    "duration": 893,
    "start_time": "2021-11-16T09:21:17.728Z"
   },
   {
    "duration": 1150,
    "start_time": "2021-11-16T09:21:29.568Z"
   },
   {
    "duration": 3,
    "start_time": "2021-11-16T09:24:14.495Z"
   },
   {
    "duration": 120,
    "start_time": "2021-11-16T09:24:46.630Z"
   },
   {
    "duration": 3,
    "start_time": "2021-11-16T09:28:27.882Z"
   },
   {
    "duration": 4,
    "start_time": "2021-11-16T09:29:54.281Z"
   },
   {
    "duration": 3,
    "start_time": "2021-11-16T09:30:45.936Z"
   },
   {
    "duration": 4,
    "start_time": "2021-11-16T09:31:06.300Z"
   },
   {
    "duration": 113,
    "start_time": "2021-11-16T09:31:37.208Z"
   },
   {
    "duration": 143,
    "start_time": "2021-11-16T09:31:48.656Z"
   },
   {
    "duration": 98,
    "start_time": "2021-11-16T09:31:55.678Z"
   },
   {
    "duration": 3,
    "start_time": "2021-11-16T09:32:08.535Z"
   },
   {
    "duration": 111,
    "start_time": "2021-11-16T09:32:10.120Z"
   },
   {
    "duration": 3,
    "start_time": "2021-11-16T09:32:15.732Z"
   },
   {
    "duration": 4,
    "start_time": "2021-11-16T09:32:29.423Z"
   },
   {
    "duration": 3,
    "start_time": "2021-11-16T10:03:03.074Z"
   },
   {
    "duration": 3,
    "start_time": "2021-11-16T10:10:01.288Z"
   },
   {
    "duration": 3,
    "start_time": "2021-11-16T10:10:46.923Z"
   },
   {
    "duration": 121,
    "start_time": "2021-11-16T10:37:46.494Z"
   },
   {
    "duration": 125,
    "start_time": "2021-11-16T10:38:20.632Z"
   },
   {
    "duration": 112,
    "start_time": "2021-11-16T10:46:53.001Z"
   },
   {
    "duration": 110,
    "start_time": "2021-11-16T10:48:25.775Z"
   },
   {
    "duration": 3,
    "start_time": "2021-11-16T10:50:18.720Z"
   },
   {
    "duration": 4,
    "start_time": "2021-11-16T10:50:37.649Z"
   },
   {
    "duration": 2,
    "start_time": "2021-11-16T10:50:51.884Z"
   },
   {
    "duration": 3,
    "start_time": "2021-11-16T10:51:56.237Z"
   },
   {
    "duration": 101,
    "start_time": "2021-11-16T10:53:13.791Z"
   },
   {
    "duration": 3,
    "start_time": "2021-11-16T10:55:59.186Z"
   },
   {
    "duration": 3,
    "start_time": "2021-11-16T10:56:10.751Z"
   },
   {
    "duration": 3,
    "start_time": "2021-11-16T10:56:49.038Z"
   },
   {
    "duration": 3,
    "start_time": "2021-11-16T10:56:49.174Z"
   },
   {
    "duration": 4,
    "start_time": "2021-11-16T10:56:49.414Z"
   },
   {
    "duration": 3,
    "start_time": "2021-11-16T10:56:49.680Z"
   },
   {
    "duration": 3,
    "start_time": "2021-11-16T10:56:50.370Z"
   },
   {
    "duration": 114,
    "start_time": "2021-11-16T10:59:34.518Z"
   },
   {
    "duration": 3,
    "start_time": "2021-11-16T11:01:41.201Z"
   },
   {
    "duration": 116,
    "start_time": "2021-11-16T11:01:48.754Z"
   },
   {
    "duration": 3,
    "start_time": "2021-11-16T11:02:16.685Z"
   },
   {
    "duration": 3,
    "start_time": "2021-11-16T11:02:19.479Z"
   },
   {
    "duration": 3,
    "start_time": "2021-11-16T11:02:47.067Z"
   },
   {
    "duration": 3,
    "start_time": "2021-11-16T11:02:49.353Z"
   },
   {
    "duration": 3,
    "start_time": "2021-11-16T11:03:07.835Z"
   },
   {
    "duration": 3,
    "start_time": "2021-11-16T11:03:07.953Z"
   },
   {
    "duration": 112,
    "start_time": "2021-11-16T11:07:52.072Z"
   },
   {
    "duration": 187,
    "start_time": "2021-11-16T11:09:23.468Z"
   },
   {
    "duration": 4,
    "start_time": "2021-11-16T11:10:01.455Z"
   },
   {
    "duration": 3,
    "start_time": "2021-11-16T11:10:05.069Z"
   },
   {
    "duration": 4,
    "start_time": "2021-11-16T11:10:13.376Z"
   },
   {
    "duration": 3,
    "start_time": "2021-11-16T11:10:14.434Z"
   },
   {
    "duration": 3,
    "start_time": "2021-11-16T11:10:22.853Z"
   },
   {
    "duration": 4,
    "start_time": "2021-11-16T11:27:29.279Z"
   },
   {
    "duration": 4,
    "start_time": "2021-11-16T11:29:08.919Z"
   },
   {
    "duration": 118,
    "start_time": "2021-11-16T11:29:46.703Z"
   },
   {
    "duration": 437,
    "start_time": "2021-11-16T11:36:02.181Z"
   },
   {
    "duration": 157,
    "start_time": "2021-11-16T11:36:14.388Z"
   },
   {
    "duration": 207,
    "start_time": "2021-11-16T11:47:15.898Z"
   },
   {
    "duration": 3,
    "start_time": "2021-11-16T11:53:52.092Z"
   },
   {
    "duration": 3,
    "start_time": "2021-11-16T11:53:52.236Z"
   },
   {
    "duration": 3,
    "start_time": "2021-11-16T11:59:12.005Z"
   },
   {
    "duration": 112,
    "start_time": "2021-11-16T12:00:33.446Z"
   },
   {
    "duration": 3,
    "start_time": "2021-11-16T12:02:14.453Z"
   },
   {
    "duration": 3,
    "start_time": "2021-11-16T12:02:39.512Z"
   },
   {
    "duration": 106,
    "start_time": "2021-11-16T12:03:03.460Z"
   }
  ],
  "kernelspec": {
   "display_name": "Python 3 (ipykernel)",
   "language": "python",
   "name": "python3"
  },
  "language_info": {
   "codemirror_mode": {
    "name": "ipython",
    "version": 3
   },
   "file_extension": ".py",
   "mimetype": "text/x-python",
   "name": "python",
   "nbconvert_exporter": "python",
   "pygments_lexer": "ipython3",
   "version": "3.9.5"
  },
  "toc": {
   "base_numbering": 1,
   "nav_menu": {},
   "number_sections": true,
   "sideBar": true,
   "skip_h1_title": false,
   "title_cell": "Table of Contents",
   "title_sidebar": "Contents",
   "toc_cell": false,
   "toc_position": {
    "height": "calc(100% - 180px)",
    "left": "10px",
    "top": "150px",
    "width": "290.188px"
   },
   "toc_section_display": true,
   "toc_window_display": true
  }
 },
 "nbformat": 4,
 "nbformat_minor": 2
}
