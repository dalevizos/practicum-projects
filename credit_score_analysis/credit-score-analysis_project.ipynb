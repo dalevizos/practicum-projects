{
 "cells": [
  {
   "cell_type": "markdown",
   "metadata": {},
   "source": [
    "# Analyzing borrowers’ risk of defaulting\n",
    "\n",
    "The project is to prepare a report for a bank’s loan division. We will need to find out if a customer’s marital status and number of children has an impact on whether they will default on a loan. The bank already has some data on customers’ credit worthiness."
   ]
  },
  {
   "cell_type": "markdown",
   "metadata": {},
   "source": [
    "# Step 1. Opening File & Observing Data"
   ]
  },
  {
   "cell_type": "code",
   "execution_count": 34,
   "metadata": {},
   "outputs": [
    {
     "name": "stdout",
     "output_type": "stream",
     "text": [
      "<class 'pandas.core.frame.DataFrame'>\n",
      "RangeIndex: 21525 entries, 0 to 21524\n",
      "Data columns (total 12 columns):\n",
      " #   Column            Non-Null Count  Dtype  \n",
      "---  ------            --------------  -----  \n",
      " 0   children          21525 non-null  int64  \n",
      " 1   days_employed     19351 non-null  float64\n",
      " 2   dob_years         21525 non-null  int64  \n",
      " 3   education         21525 non-null  object \n",
      " 4   education_id      21525 non-null  int64  \n",
      " 5   family_status     21525 non-null  object \n",
      " 6   family_status_id  21525 non-null  int64  \n",
      " 7   gender            21525 non-null  object \n",
      " 8   income_type       21525 non-null  object \n",
      " 9   debt              21525 non-null  int64  \n",
      " 10  total_income      19351 non-null  float64\n",
      " 11  purpose           21525 non-null  object \n",
      "dtypes: float64(2), int64(5), object(5)\n",
      "memory usage: 2.0+ MB\n"
     ]
    },
    {
     "data": {
      "text/html": [
       "<div>\n",
       "<style scoped>\n",
       "    .dataframe tbody tr th:only-of-type {\n",
       "        vertical-align: middle;\n",
       "    }\n",
       "\n",
       "    .dataframe tbody tr th {\n",
       "        vertical-align: top;\n",
       "    }\n",
       "\n",
       "    .dataframe thead th {\n",
       "        text-align: right;\n",
       "    }\n",
       "</style>\n",
       "<table border=\"1\" class=\"dataframe\">\n",
       "  <thead>\n",
       "    <tr style=\"text-align: right;\">\n",
       "      <th></th>\n",
       "      <th>children</th>\n",
       "      <th>days_employed</th>\n",
       "      <th>dob_years</th>\n",
       "      <th>education</th>\n",
       "      <th>education_id</th>\n",
       "      <th>family_status</th>\n",
       "      <th>family_status_id</th>\n",
       "      <th>gender</th>\n",
       "      <th>income_type</th>\n",
       "      <th>debt</th>\n",
       "      <th>total_income</th>\n",
       "      <th>purpose</th>\n",
       "    </tr>\n",
       "  </thead>\n",
       "  <tbody>\n",
       "    <tr>\n",
       "      <th>0</th>\n",
       "      <td>1</td>\n",
       "      <td>-8437.673028</td>\n",
       "      <td>42</td>\n",
       "      <td>bachelor's degree</td>\n",
       "      <td>0</td>\n",
       "      <td>married</td>\n",
       "      <td>0</td>\n",
       "      <td>F</td>\n",
       "      <td>employee</td>\n",
       "      <td>0</td>\n",
       "      <td>40620.102</td>\n",
       "      <td>purchase of the house</td>\n",
       "    </tr>\n",
       "    <tr>\n",
       "      <th>1</th>\n",
       "      <td>1</td>\n",
       "      <td>-4024.803754</td>\n",
       "      <td>36</td>\n",
       "      <td>secondary education</td>\n",
       "      <td>1</td>\n",
       "      <td>married</td>\n",
       "      <td>0</td>\n",
       "      <td>F</td>\n",
       "      <td>employee</td>\n",
       "      <td>0</td>\n",
       "      <td>17932.802</td>\n",
       "      <td>car purchase</td>\n",
       "    </tr>\n",
       "    <tr>\n",
       "      <th>2</th>\n",
       "      <td>0</td>\n",
       "      <td>-5623.422610</td>\n",
       "      <td>33</td>\n",
       "      <td>Secondary Education</td>\n",
       "      <td>1</td>\n",
       "      <td>married</td>\n",
       "      <td>0</td>\n",
       "      <td>M</td>\n",
       "      <td>employee</td>\n",
       "      <td>0</td>\n",
       "      <td>23341.752</td>\n",
       "      <td>purchase of the house</td>\n",
       "    </tr>\n",
       "    <tr>\n",
       "      <th>3</th>\n",
       "      <td>3</td>\n",
       "      <td>-4124.747207</td>\n",
       "      <td>32</td>\n",
       "      <td>secondary education</td>\n",
       "      <td>1</td>\n",
       "      <td>married</td>\n",
       "      <td>0</td>\n",
       "      <td>M</td>\n",
       "      <td>employee</td>\n",
       "      <td>0</td>\n",
       "      <td>42820.568</td>\n",
       "      <td>supplementary education</td>\n",
       "    </tr>\n",
       "    <tr>\n",
       "      <th>4</th>\n",
       "      <td>0</td>\n",
       "      <td>340266.072047</td>\n",
       "      <td>53</td>\n",
       "      <td>secondary education</td>\n",
       "      <td>1</td>\n",
       "      <td>civil partnership</td>\n",
       "      <td>1</td>\n",
       "      <td>F</td>\n",
       "      <td>retiree</td>\n",
       "      <td>0</td>\n",
       "      <td>25378.572</td>\n",
       "      <td>to have a wedding</td>\n",
       "    </tr>\n",
       "  </tbody>\n",
       "</table>\n",
       "</div>"
      ],
      "text/plain": [
       "   children  days_employed  dob_years            education  education_id  \\\n",
       "0         1   -8437.673028         42    bachelor's degree             0   \n",
       "1         1   -4024.803754         36  secondary education             1   \n",
       "2         0   -5623.422610         33  Secondary Education             1   \n",
       "3         3   -4124.747207         32  secondary education             1   \n",
       "4         0  340266.072047         53  secondary education             1   \n",
       "\n",
       "       family_status  family_status_id gender income_type  debt  total_income  \\\n",
       "0            married                 0      F    employee     0     40620.102   \n",
       "1            married                 0      F    employee     0     17932.802   \n",
       "2            married                 0      M    employee     0     23341.752   \n",
       "3            married                 0      M    employee     0     42820.568   \n",
       "4  civil partnership                 1      F     retiree     0     25378.572   \n",
       "\n",
       "                   purpose  \n",
       "0    purchase of the house  \n",
       "1             car purchase  \n",
       "2    purchase of the house  \n",
       "3  supplementary education  \n",
       "4        to have a wedding  "
      ]
     },
     "execution_count": 34,
     "metadata": {},
     "output_type": "execute_result"
    }
   ],
   "source": [
    "import pandas as pd \n",
    "import numpy as np\n",
    "\n",
    "df = pd.read_csv ('/datasets/credit_scoring_eng.csv')\n",
    "df.info()\n",
    "\n",
    "df.head()"
   ]
  },
  {
   "cell_type": "markdown",
   "metadata": {},
   "source": [
    "**Conclusion: at first glance on the data using the panda's info() method, we can see that two columns have less values than the rest, more specifically the columns: 'days_employed', and 'total_income', with values 19351, compared to 21525. The ~2000 null values in each column will need to be filled. But first let's describe our takeaways for each column in our dataset.**\n",
    "\n",
    "\n",
    "**Children:** no obvious issues. \n",
    "\n",
    "**Days employed:** in addition to null values, there are also negative values. These need to be converted to positive values. Type can also be converted from float to int, since we're just counting days. \n",
    "\n",
    "**DOB years:** no obvious issues. \n",
    "\n",
    "**Education:** strings aren't normalized. We need to normalize all string values. \n",
    "\n",
    "**Education ID:** Education corresponds to an ID. We can use this ID to analyze data rather than using the education column, to prevent errors from potentially malformed strings. Other than that, no obvious issues. \n",
    "\n",
    "**Family status/Family ID:** Family status is similar to education, a categorical variable corresponding to an ID. Both have no obvious issues. \n",
    "\n",
    "**Gender:** no obvious issues. \n",
    "\n",
    "**Income Type:** no obvious issues. \n",
    "\n",
    "**Debt:** binary with 0 representing no defaults on loans, and 1 representing past default(s) on loan(s). No obvious issues. \n",
    "\n",
    "**Total Income:** null values as mentioned previously. \n",
    "\n",
    "**Purpose:** random string inputted by user. This needs to be caregorized for a better understanding.\n",
    "\n",
    "\n",
    "Now that we have a good idea of what the main issues are with our data we will need to take care of them before we can start our analysis. Our first step will be to fill in missing values in the columns that have null values; 'days_employed' and 'total_income'. Since these are both quantitative variables we will fill them in with the median value. The reason that will fill these values using the median and not the mean is because we can identify major ourliers and thus the median is a better indicator. Lastly, we will need to changed the negative values to positive values in the 'days_employed' column since a negative value is unrealistic and probably happened due to some technincal erros."
   ]
  },
  {
   "cell_type": "markdown",
   "metadata": {},
   "source": [
    "# Step 2. Data Preprocessing \n",
    "\n",
    "# Data Exploration"
   ]
  },
  {
   "cell_type": "code",
   "execution_count": 35,
   "metadata": {},
   "outputs": [
    {
     "name": "stdout",
     "output_type": "stream",
     "text": [
      "10.099883855981417\n",
      "\n",
      "10.099883855981417\n",
      "\n",
      "2174\n",
      "\n"
     ]
    }
   ],
   "source": [
    "(df.isnull().sum()/len(df)).round(4) \n",
    "#getting the % of missing values and rounding accordingly \n",
    "\n",
    "print(df['days_employed'].isna().sum() * 100 / len(df)) \n",
    "#finding the percentage of missing valus \n",
    "\n",
    "print ()\n",
    "\n",
    "print(df['total_income'].isna().sum() * 100 / len(df)) \n",
    "#confirming that both columns have the exact % \n",
    "\n",
    "print ()\n",
    "\n",
    "print(len(df.loc[df['days_employed'].isna() & df['total_income'].isna()])) \n",
    "#confirming the pattern that we identified\n",
    "\n",
    "print ()\n",
    "\n",
    "days_employed_na = df.loc[df['days_employed'].isna()] \n",
    "#here we are creating a variable that will store our na data\n",
    "days_employed_not_na = df.loc[~df['days_employed'].isna()] \n",
    "#here we are creating a variable that will store our not na data"
   ]
  },
  {
   "cell_type": "markdown",
   "metadata": {},
   "source": [
    "# Understanding Missing Data "
   ]
  },
  {
   "cell_type": "code",
   "execution_count": 36,
   "metadata": {},
   "outputs": [
    {
     "name": "stdout",
     "output_type": "stream",
     "text": [
      "family_status\n",
      "civil partnership    20.331187\n",
      "divorced              5.151794\n",
      "married              56.899724\n",
      "unmarried            13.247470\n",
      "widow / widower       4.369825\n",
      "Name: dob_years, dtype: float64\n",
      "\n",
      "children\n",
      "-1      0.137994\n",
      " 0     66.191352\n",
      " 1     21.849126\n",
      " 2      9.383625\n",
      " 3      1.655934\n",
      " 4      0.321987\n",
      " 5      0.045998\n",
      " 20     0.413983\n",
      "Name: dob_years, dtype: float64\n",
      "\n",
      "debt\n",
      "0    92.180313\n",
      "1     7.819687\n",
      "Name: dob_years, dtype: float64\n",
      "\n",
      "gender\n",
      "F    68.26127\n",
      "M    31.73873\n",
      "Name: dob_years, dtype: float64\n"
     ]
    }
   ],
   "source": [
    "print(days_employed_na.groupby('family_status')['dob_years'].count() * 100 / len(days_employed_na)) \n",
    "#we can tell that most of the missing values are related to married individuals 57% \n",
    "\n",
    "print () \n",
    "\n",
    "print(days_employed_na.groupby('children')['dob_years'].count() * 100 / len(days_employed_na)) \n",
    "#we can tell that most of the missing values are related to individuals that have no kids 66%\n",
    " \n",
    "print () \n",
    "\n",
    "print(days_employed_na.groupby('debt')['dob_years'].count() * 100 / len(days_employed_na)) \n",
    "#we can tell that most of the missing values are related to individuals that have no debt 92%\n",
    "\n",
    "print () \n",
    "\n",
    "print(days_employed_na.groupby('gender')['dob_years'].count() * 100 / len(days_employed_na)) \n",
    "#we can tell that most of the missing values are related to women 68%"
   ]
  },
  {
   "cell_type": "markdown",
   "metadata": {},
   "source": [
    "# Data Transformation"
   ]
  },
  {
   "cell_type": "code",
   "execution_count": 37,
   "metadata": {},
   "outputs": [
    {
     "name": "stdout",
     "output_type": "stream",
     "text": [
      "secondary education    13750\n",
      "bachelor's degree       4718\n",
      "SECONDARY EDUCATION      772\n",
      "Secondary Education      711\n",
      "some college             668\n",
      "BACHELOR'S DEGREE        274\n",
      "Bachelor's Degree        268\n",
      "primary education        250\n",
      "Some College              47\n",
      "SOME COLLEGE              29\n",
      "PRIMARY EDUCATION         17\n",
      "Primary Education         15\n",
      "graduate degree            4\n",
      "GRADUATE DEGREE            1\n",
      "Graduate Degree            1\n",
      "Name: education, dtype: int64\n",
      "\n",
      "secondary education    15233\n",
      "bachelor's degree       5260\n",
      "some college             744\n",
      "primary education        282\n",
      "graduate degree            6\n",
      "Name: education, dtype: int64\n"
     ]
    }
   ],
   "source": [
    "print(df['education'].value_counts(dropna=False)) \n",
    "#checking all unique values in the education column\n",
    "\n",
    "df['education']=df['education'].str.lower() \n",
    "#fixing capitalization issue\n",
    "\n",
    "print () \n",
    "\n",
    "print(df['education'].value_counts()) \n",
    "#confirming that changes have been made successfully"
   ]
  },
  {
   "cell_type": "code",
   "execution_count": 38,
   "metadata": {},
   "outputs": [
    {
     "name": "stdout",
     "output_type": "stream",
     "text": [
      "F      14236\n",
      "M       7288\n",
      "XNA        1\n",
      "Name: gender, dtype: int64\n",
      "F      66.137050\n",
      "M      33.858304\n",
      "XNA     0.004646\n",
      "Name: gender, dtype: float64\n"
     ]
    }
   ],
   "source": [
    "print(df['gender'].value_counts()) \n",
    "#checking all unique values in the gender column\n",
    "\n",
    "print(df['gender'].value_counts() * 100 / len(df)) \n",
    "#finding the % of appearance for each single value"
   ]
  },
  {
   "cell_type": "markdown",
   "metadata": {},
   "source": [
    "Here we can identify a third gender called XNA, this is not a valid gender. Since is such only one value (0.004% of our column's data) we can delete it."
   ]
  },
  {
   "cell_type": "code",
   "execution_count": 39,
   "metadata": {},
   "outputs": [
    {
     "name": "stdout",
     "output_type": "stream",
     "text": [
      "F    14236\n",
      "M     7288\n",
      "Name: gender, dtype: int64\n"
     ]
    }
   ],
   "source": [
    "df= df[df['gender']!= 'XNA'] \n",
    "#deleting invalid value\n",
    "\n",
    "print(df['gender'].value_counts()) \n",
    "#confirming that changes have been made successfully"
   ]
  },
  {
   "cell_type": "code",
   "execution_count": 40,
   "metadata": {},
   "outputs": [
    {
     "name": "stdout",
     "output_type": "stream",
     "text": [
      " 0     14148\n",
      " 1      4818\n",
      " 2      2055\n",
      " 3       330\n",
      " 20       76\n",
      "-1        47\n",
      " 4        41\n",
      " 5         9\n",
      "Name: children, dtype: int64\n",
      "\n",
      " 0     65.731277\n",
      " 1     22.384315\n",
      " 2      9.547482\n",
      " 3      1.533172\n",
      " 20     0.353094\n",
      "-1      0.218361\n",
      " 4      0.190485\n",
      " 5      0.041814\n",
      "Name: children, dtype: float64\n",
      "\n",
      "0    14271\n",
      "1     4818\n",
      "2     2055\n",
      "3      330\n",
      "4       41\n",
      "5        9\n",
      "Name: children, dtype: int64\n"
     ]
    }
   ],
   "source": [
    "print(df['children'].value_counts()) \n",
    "#checking all unique values in the children column\n",
    "\n",
    "print ()\n",
    "\n",
    "print(df['children'].value_counts()  * 100 / len(df)) \n",
    "#finding the % of appearance for each single value\n",
    "\n",
    "df['children'] = df['children'].replace(20, 0) \n",
    "#doing the corresponding changes/replacements\n",
    "\n",
    "df['children'] = df['children'].replace(-1, 0) \n",
    "#doing the corresponding changes/replacements\n",
    "\n",
    "print ()\n",
    "\n",
    "print(df['children'].value_counts()) \n",
    "#confirming that changes have been made successfully"
   ]
  },
  {
   "cell_type": "code",
   "execution_count": 41,
   "metadata": {},
   "outputs": [
    {
     "name": "stdout",
     "output_type": "stream",
     "text": [
      "The percentage of negative values is: 74%\n"
     ]
    }
   ],
   "source": [
    "all_negative_values = (len(df.loc[df['days_employed'] < 0])) \n",
    "#finding the number of negative values to use later\n",
    "\n",
    "all_values = df['days_employed'].size \n",
    "#finding the number of total values to use later\n",
    "\n",
    "amount_of_neg_values= all_negative_values/all_values \n",
    "#dividing the negatives with the total to find the % of neg values\n",
    "\n",
    "print (f'The percentage of negative values is: {amount_of_neg_values:.0%}') \n",
    "#printing the % result using f strings"
   ]
  },
  {
   "cell_type": "markdown",
   "metadata": {},
   "source": [
    "# Data Type Replacement"
   ]
  },
  {
   "cell_type": "code",
   "execution_count": 42,
   "metadata": {},
   "outputs": [
    {
     "name": "stdout",
     "output_type": "stream",
     "text": [
      "0       8437.673028\n",
      "1       4024.803754\n",
      "2       5623.422610\n",
      "3       4124.747207\n",
      "4     340266.072047\n",
      "5        926.185831\n",
      "6       2879.202052\n",
      "7        152.779569\n",
      "8       6929.865299\n",
      "9       2188.756445\n",
      "10      4171.483647\n",
      "11       792.701887\n",
      "12              NaN\n",
      "13      1846.641941\n",
      "14      1844.956182\n",
      "Name: days_employed, dtype: float64\n"
     ]
    }
   ],
   "source": [
    "df['days_employed'] = df['days_employed'].abs() \n",
    "#fixing negative values to positive\n",
    "\n",
    "print(df['days_employed'].head(15)) \n",
    "#confirming that changes have been made successfully by printing first 15 rows"
   ]
  },
  {
   "cell_type": "code",
   "execution_count": 43,
   "metadata": {},
   "outputs": [
    {
     "name": "stdout",
     "output_type": "stream",
     "text": [
      "Empty DataFrame\n",
      "Columns: [children, days_employed, dob_years, education, education_id, family_status, family_status_id, gender, income_type, debt, total_income, purpose]\n",
      "Index: []\n"
     ]
    }
   ],
   "source": [
    "mean_dob_years = (df['dob_years'].mean()) \n",
    "#creating a variable to store the mean of the dob_years column\n",
    "\n",
    "df['dob_years'] = df['dob_years'].replace(0, mean_dob_years) \n",
    "#replacing 0 inputs with the mean\n",
    "\n",
    "df['dob_years'] = df['dob_years'].astype (int) \n",
    "#since the mean was a float, we are converting the column back to integer\n",
    "\n",
    "print (df[df['dob_years']==0])\n",
    "#confirming that changes have been made successfully since it results to an empty dataframe"
   ]
  },
  {
   "cell_type": "markdown",
   "metadata": {},
   "source": [
    "# Processing Duplicates"
   ]
  },
  {
   "cell_type": "code",
   "execution_count": 44,
   "metadata": {},
   "outputs": [
    {
     "name": "stdout",
     "output_type": "stream",
     "text": [
      "71\n"
     ]
    }
   ],
   "source": [
    "print(df.duplicated().sum()) \n",
    "#checking for duplicates in our dataset\n",
    "\n",
    "duplicated_df = df[df.duplicated()] \n",
    "#creating a variable with all of our duplicates \n",
    "\n",
    "df = df.drop_duplicates() \n",
    "#confirming that changes have been made successfully since it results to empty dataframe"
   ]
  },
  {
   "cell_type": "markdown",
   "metadata": {},
   "source": [
    "# Categorizing Data\n"
   ]
  },
  {
   "cell_type": "code",
   "execution_count": 45,
   "metadata": {},
   "outputs": [],
   "source": [
    "def age_category (age): \n",
    "    #creating a function to organize age to 4 different categories\n",
    "    \n",
    "    if age <= 18:\n",
    "        return 'children'\n",
    "\n",
    "    elif age <= 30:\n",
    "        return 'young adult'\n",
    "    \n",
    "    elif age <= 60:\n",
    "        return 'middle-aged adult'\n",
    "    \n",
    "    else:\n",
    "        return 'old adult'\n",
    "    \n",
    "df['age_group'] = df ['dob_years'].apply(age_category) \n",
    "#applying our function to our dob_years column"
   ]
  },
  {
   "cell_type": "code",
   "execution_count": 46,
   "metadata": {},
   "outputs": [],
   "source": [
    "real_estate_stuff = ['purchase of the house', 'housing transactions', 'purchase of the house for my family', 'buy real estate', 'buy commercial real estate', 'buy residential real estate estate', 'construction of own property', 'property', 'building a property', 'transactions with commercial real estate', 'buy residential real estate', 'building a real estate', 'housing','transactions with my real estate', 'purchase of my own house', 'real estate transactions', 'buying property for renting out', 'housing renovation']\n",
    "car_stuff = ['car purchase', 'buying a second-hand car', 'buying my own car', 'cars', 'second-hand car purchase', 'car', 'to own a car', 'purchase of a car', 'to buy a car']\n",
    "edu_stuff = ['supplementary education', 'education', 'to become educated', 'getting an education', 'to get a supplementary education', 'getting higher education', 'profile education', 'university education', 'going to university']\n",
    "wed_stuff = ['to have a wedding', 'having a wedding', 'wedding ceremony']\n",
    "\n",
    "def purpose_grouped (row):\n",
    "    #creating a function to categorize our data based on loan purpose\n",
    "        \n",
    "    purpose = row['purpose']\n",
    "    \n",
    "    if purpose in real_estate_stuff:\n",
    "        return 'real estate'\n",
    "    \n",
    "    elif purpose in car_stuff:\n",
    "        return 'car'\n",
    "    \n",
    "    elif purpose in edu_stuff:\n",
    "        return 'education'\n",
    "\n",
    "    elif purpose in wed_stuff:\n",
    "        return 'wedding'\n",
    "    \n",
    "    else:\n",
    "        return 'other'\n",
    "    \n",
    "df['purpose_group'] = df.apply(purpose_grouped, axis=1)\n",
    "#applying the function to our dataset and adding column"
   ]
  },
  {
   "cell_type": "code",
   "execution_count": 47,
   "metadata": {},
   "outputs": [],
   "source": [
    "def children_group (children): \n",
    "    #creating a function to categorize our data based on kids vs no kids\n",
    "        \n",
    "    if children > 0:\n",
    "        return 'kids'\n",
    "\n",
    "    else:\n",
    "        return 'no kids'\n",
    "    \n",
    "df['children_group'] = df['children'].apply(children_group) \n",
    "#applying the function to our dataset and adding column"
   ]
  },
  {
   "cell_type": "code",
   "execution_count": 48,
   "metadata": {},
   "outputs": [
    {
     "name": "stdout",
     "output_type": "stream",
     "text": [
      "lower class           18030\n",
      "lower middle class     1221\n",
      "upper middle class       71\n",
      "upper class              28\n",
      "Name: income_group, dtype: int64\n"
     ]
    }
   ],
   "source": [
    "def categorization (income): \n",
    "    #creating a function to categorize classes based on the amount of income\n",
    "        \n",
    "    if income <= 50000:\n",
    "        return 'lower class'\n",
    "    \n",
    "    elif income <= 100000:\n",
    "        return 'lower middle class'\n",
    "            \n",
    "    elif income <= 150000:\n",
    "        return 'upper middle class'\n",
    "           \n",
    "    elif income > 150000:\n",
    "        return 'upper class'\n",
    "    \n",
    "df['income_group'] = df['total_income'].apply(categorization) \n",
    "print (df['income_group'].value_counts())\n",
    "#applying the function to our dataset and adding column"
   ]
  },
  {
   "cell_type": "markdown",
   "metadata": {},
   "source": [
    "# Filling In Missing Values"
   ]
  },
  {
   "cell_type": "code",
   "execution_count": 49,
   "metadata": {},
   "outputs": [],
   "source": [
    "grouped_df = df.groupby(['family_status', 'age_group', 'education'])['total_income'].median() \n",
    "#finding the total_income median by grouping the columns; family_status, age_group and education\n",
    "\n",
    "def filling_na (row): \n",
    "    #writing a function that will fill in missing values by the grouped median\n",
    "    median_total_income = grouped_df[row['family_status']][row['age_group']][row['education']]\n",
    "    return median_total_income \n",
    "\n",
    "df['total_income_without_na'] = df.apply(filling_na, axis=1) \n",
    "#applying to every row in our new column\n",
    "\n",
    "df['total_income'] = df['total_income'].fillna(df['total_income_without_na']) \n",
    "#replacing the total_income column\n",
    "\n",
    "df ['total_income'] = df['total_income'].fillna(df['total_income'].median())\n",
    "#replacing the total_income column with the median\n",
    "\n",
    "df ['total_income_without_na'] = df['total_income_without_na'].fillna(df['total_income_without_na'].median())\n",
    "#replacing the total_income_without_na column with the median\n",
    "\n",
    "\n",
    "grouped_df2 = df.groupby(['family_status', 'age_group', 'education'])['days_employed'].median() \n",
    "#finding the days_employed median by grouping the columns; family_status, age_group and education\n",
    "\n",
    "def filling_na2 (row): \n",
    "    #writing a function that will fill in missing values by the grouped median\n",
    "    median_total_days_employed = grouped_df2[row['family_status']][row['age_group']][row['education']]\n",
    "    return median_total_days_employed \n",
    "\n",
    "df['total_days_employed_without_na'] = df.apply(filling_na2, axis=1) \n",
    "#applying to every row in our new column\n",
    "\n",
    "df['days_employed'] = df['days_employed'].fillna(df['total_days_employed_without_na']) \n",
    "#replacing the days_employed column"
   ]
  },
  {
   "cell_type": "markdown",
   "metadata": {},
   "source": [
    "# Conclusion\n",
    "\n",
    "The questions that need to be answered are:\n",
    "\n",
    "- Is there a relation between having kids and repaying a loan on time?\n",
    "- Is there a relation between marital status and repaying a loan on time?\n",
    "- Is there a relation between income level and repaying a loan on time?\n",
    "- How do different loan purposes affect on-time repayment of the loan?"
   ]
  },
  {
   "cell_type": "markdown",
   "metadata": {},
   "source": [
    "# Step 3. Answering the Questions"
   ]
  },
  {
   "cell_type": "markdown",
   "metadata": {},
   "source": [
    "**Is there a relation between marital status and repaying a loan on time?**\n",
    "\n",
    "As we can see there's clear correlation that the more kids an individual has the more chances to be in debt. We used the aggfunc parameter on the pivot_table() method and we can tell by looking at the mean that proportionally more individuals with kids have debt. More specifically 9.2% are the chances of someone being in debt while also being a parent vs 7.5% of being in debt without having a kid - almost 2% difference. We can explain this by saying that a parent has additional financial obligations thus might have more chances on taking out a loan."
   ]
  },
  {
   "cell_type": "code",
   "execution_count": 50,
   "metadata": {},
   "outputs": [
    {
     "name": "stdout",
     "output_type": "stream",
     "text": [
      "                count   sum      mean\n",
      "                 debt  debt      debt\n",
      "children_group                       \n",
      "kids             7240   669  0.092403\n",
      "no kids         14213  1072  0.075424\n",
      "\n",
      "          count   sum      mean\n",
      "           debt  debt      debt\n",
      "children                       \n",
      "0         14213  1072  0.075424\n",
      "1          4808   444  0.092346\n",
      "2          2052   194  0.094542\n",
      "3           330    27  0.081818\n",
      "4            41     4  0.097561\n",
      "5             9     0  0.000000\n"
     ]
    }
   ],
   "source": [
    "data_pivot_children = df.pivot_table(index='children_group', values='debt', aggfunc=['count', 'sum', 'mean'])\n",
    "#creating pivot table with the family status and another to compare\n",
    "print(data_pivot_children)\n",
    "\n",
    "print ()\n",
    "\n",
    "data_pivot_children2 = df.pivot_table(index='children', values='debt', aggfunc=['count', 'sum', 'mean'])\n",
    "#calculating default-rate based on the number of children\n",
    "print(data_pivot_children2)"
   ]
  },
  {
   "cell_type": "markdown",
   "metadata": {},
   "source": [
    "**Is there a correlation between family status and paying back on time?**"
   ]
  },
  {
   "cell_type": "markdown",
   "metadata": {},
   "source": [
    "As we can see there's clear correlation that being married has a higher chance of being in debt. Potentially that could be because as a couple the possibility of one person being in debt increases."
   ]
  },
  {
   "cell_type": "code",
   "execution_count": 51,
   "metadata": {},
   "outputs": [
    {
     "name": "stdout",
     "output_type": "stream",
     "text": [
      "                   count  sum      mean\n",
      "                    debt debt      debt\n",
      "family_status                          \n",
      "civil partnership   4150  388  0.093494\n",
      "divorced            1195   85  0.071130\n",
      "married            12339  931  0.075452\n",
      "unmarried           2810  274  0.097509\n",
      "widow / widower      959   63  0.065693\n"
     ]
    }
   ],
   "source": [
    "data_pivot_family = df.pivot_table(index='family_status', values='debt', aggfunc=['count', 'sum', 'mean'])\n",
    "#calculating default-rate based on family status\n",
    "\n",
    "print(data_pivot_family)"
   ]
  },
  {
   "cell_type": "markdown",
   "metadata": {},
   "source": [
    "**Is there a correlation between income level and paying back on time?**"
   ]
  },
  {
   "cell_type": "markdown",
   "metadata": {},
   "source": [
    "Here we also used the aggfunc parameter on the pivot_table() method and we can tell by looking at the mean that proportionally more individuals that fall under the lower class categories are in debt. Expected but always good to be able to justify concepts using data."
   ]
  },
  {
   "cell_type": "code",
   "execution_count": 52,
   "metadata": {},
   "outputs": [
    {
     "name": "stdout",
     "output_type": "stream",
     "text": [
      "                    count   sum      mean\n",
      "                     debt  debt      debt\n",
      "income_group                             \n",
      "lower class         18030  1479  0.082030\n",
      "lower middle class   1221    86  0.070434\n",
      "upper class            28     2  0.071429\n",
      "upper middle class     71     4  0.056338\n"
     ]
    }
   ],
   "source": [
    "data_pivot_income = df.pivot_table(index='income_group', values='debt', aggfunc=['count', 'sum', 'mean'])\n",
    "#calculating default-rate based on income level \n",
    "\n",
    "print(data_pivot_income)"
   ]
  },
  {
   "cell_type": "markdown",
   "metadata": {},
   "source": [
    "**How does credit purpose affect the default rate?**"
   ]
  },
  {
   "cell_type": "markdown",
   "metadata": {},
   "source": [
    "Lastly, also by calling the aggfunc parameter on the pivot_table() method and looking at the mean we can tell that individuals that are in debt are usually found for either car or education purposes - 9.3% and 9.2& respectively. However, the wedding category falls close to these specificially at 8% and lastly we observe the real estate category which comes at 7.2%. "
   ]
  },
  {
   "cell_type": "code",
   "execution_count": 53,
   "metadata": {},
   "outputs": [
    {
     "name": "stdout",
     "output_type": "stream",
     "text": [
      "               count  sum      mean\n",
      "                debt debt      debt\n",
      "purpose_group                      \n",
      "car             4306  403  0.093590\n",
      "education       4013  370  0.092200\n",
      "real estate    10810  782  0.072340\n",
      "wedding         2324  186  0.080034\n"
     ]
    }
   ],
   "source": [
    "data_pivot_income = df.pivot_table(index='purpose_group', values='debt', aggfunc=['count', 'sum', 'mean'])\n",
    "#calculating default-rate based on the purpose of the loan \n",
    "\n",
    "print(data_pivot_income)"
   ]
  },
  {
   "cell_type": "markdown",
   "metadata": {},
   "source": [
    "# Step 4. General Conclusion"
   ]
  },
  {
   "cell_type": "markdown",
   "metadata": {},
   "source": [
    "We identified that default rates for car loans and education loans are the highest (above 9%), followed by wedding loans (about 8%), and the lowest being real estate loans (just above 7%). Customers whose income level is categorized in either lower class/lower middle class are more likely to default on their loans vs customers whose income level is categorized in either upper middle class/upper class. Additionally, the highest default rates with respect to family status belong to the \"unmarried\" and \"civil partnership\" groups (both over 9%), followed by the married and divorced groups (7.5% and 7.1% respectively). Customers with kids are more likely (9.2%) to default on their loan than customers without kids(7.5%), especially customers with 4 kids have the highest chance to default (9.7%). \n",
    "\n",
    "After the above results the bank institution will find the categories with lower default rates more credit worthy, more specifically the ones that meet: no kids, high income, widowed, and taking a loan for real estate purpose. On the other hand the most risky customers are the ones from from high default rate categories such having kids, low incone, unmarried or in a civil partnership, and taking a car or education loan. "
   ]
  },
  {
   "cell_type": "markdown",
   "metadata": {},
   "source": [
    "**Project Recap**\n",
    "\n",
    "- We worked with missing values. \n",
    "\n",
    "\n",
    "- We used the apply() method to fill in missing values. Firstly though, we created a function that organized our main interest column by 'family_status', 'age_group', 'education' and found its median accordingly. We decided to replace missing values by the median instead of the mean because it is common in salaries to have major outliers. As shown also in our case the salaries varied from 3,306 to 36,2496 (per month) so we can clearly identify that we have inviduals of all types of social classes thus we have outliers, and median is the best for this scenario. We applied similar logic to the missing values of the days_employed mcolumn. \n",
    "\n",
    "\n",
    "- Additionally, the duplicated() and drop_duplicates() methods were used to find and delete duplicates accordingly. The reason that we used these methods is because are quick and reliable. We also stored all the duplicates in a new variable for having them in case we would need to go back to these.\n",
    "\n",
    "\n",
    "- We created dictionaries for family status, children, and debt. \n",
    "\n",
    "\n",
    "- We categorized the loan purposes into car, education, real estare and wedding purchase. Additionally, we categorized income, age, kids vs no kids for a cleaner and more efficient analysis. \n",
    "\n",
    "\n",
    "- Lastly, we used pivot table/s to support our analysis and come to conclusions."
   ]
  }
 ],
 "metadata": {
  "ExecuteTimeLog": [
   {
    "duration": 2741,
    "start_time": "2021-10-21T01:08:49.480Z"
   },
   {
    "duration": 52,
    "start_time": "2021-10-21T01:08:53.315Z"
   },
   {
    "duration": 49,
    "start_time": "2021-10-21T01:08:57.432Z"
   },
   {
    "duration": 70,
    "start_time": "2021-10-21T01:09:07.706Z"
   },
   {
    "duration": 661,
    "start_time": "2022-08-23T21:25:00.231Z"
   },
   {
    "duration": 4,
    "start_time": "2022-08-23T21:29:20.245Z"
   },
   {
    "duration": 4,
    "start_time": "2022-08-23T21:29:39.552Z"
   },
   {
    "duration": 14,
    "start_time": "2022-08-23T21:30:04.502Z"
   },
   {
    "duration": 17,
    "start_time": "2022-08-23T21:32:15.787Z"
   },
   {
    "duration": 23,
    "start_time": "2022-08-23T21:37:35.334Z"
   },
   {
    "duration": 16,
    "start_time": "2022-08-23T21:55:45.055Z"
   },
   {
    "duration": 19,
    "start_time": "2022-08-23T22:00:30.106Z"
   },
   {
    "duration": 18,
    "start_time": "2022-08-23T22:00:38.784Z"
   },
   {
    "duration": 23,
    "start_time": "2022-08-23T22:03:22.049Z"
   },
   {
    "duration": 5,
    "start_time": "2022-08-23T22:09:31.561Z"
   },
   {
    "duration": 5,
    "start_time": "2022-08-23T22:09:35.254Z"
   },
   {
    "duration": 9,
    "start_time": "2022-08-23T22:09:44.415Z"
   },
   {
    "duration": 7,
    "start_time": "2022-08-23T22:09:53.214Z"
   },
   {
    "duration": 67,
    "start_time": "2022-08-23T22:10:28.876Z"
   },
   {
    "duration": 98,
    "start_time": "2022-08-23T22:10:34.304Z"
   },
   {
    "duration": 7,
    "start_time": "2022-08-23T22:10:45.558Z"
   },
   {
    "duration": 6,
    "start_time": "2022-08-23T22:10:51.637Z"
   },
   {
    "duration": 6,
    "start_time": "2022-08-23T22:11:14.896Z"
   },
   {
    "duration": 6,
    "start_time": "2022-08-23T22:11:56.276Z"
   },
   {
    "duration": 6,
    "start_time": "2022-08-23T22:12:03.693Z"
   },
   {
    "duration": 4,
    "start_time": "2022-08-23T22:12:16.581Z"
   },
   {
    "duration": 6,
    "start_time": "2022-08-23T22:13:11.764Z"
   },
   {
    "duration": 7,
    "start_time": "2022-08-23T22:13:23.250Z"
   },
   {
    "duration": 6,
    "start_time": "2022-08-23T22:13:34.994Z"
   },
   {
    "duration": 4,
    "start_time": "2022-08-23T22:24:14.705Z"
   },
   {
    "duration": 6,
    "start_time": "2022-08-23T22:24:39.644Z"
   },
   {
    "duration": 5,
    "start_time": "2022-08-23T22:34:01.714Z"
   },
   {
    "duration": 5,
    "start_time": "2022-08-23T22:34:23.870Z"
   },
   {
    "duration": 16,
    "start_time": "2022-08-23T22:44:22.587Z"
   },
   {
    "duration": 19,
    "start_time": "2022-08-23T22:44:35.363Z"
   },
   {
    "duration": 11,
    "start_time": "2022-08-23T22:46:00.680Z"
   },
   {
    "duration": 10,
    "start_time": "2022-08-23T22:46:05.247Z"
   },
   {
    "duration": 8,
    "start_time": "2022-08-23T22:46:09.047Z"
   },
   {
    "duration": 12,
    "start_time": "2022-08-23T22:49:12.578Z"
   },
   {
    "duration": 18,
    "start_time": "2022-08-23T22:49:39.451Z"
   },
   {
    "duration": 19,
    "start_time": "2022-08-23T22:50:46.166Z"
   },
   {
    "duration": 553,
    "start_time": "2022-08-23T22:50:56.467Z"
   },
   {
    "duration": 3,
    "start_time": "2022-08-23T22:50:57.022Z"
   },
   {
    "duration": 27,
    "start_time": "2022-08-23T22:50:57.027Z"
   },
   {
    "duration": 20,
    "start_time": "2022-08-23T22:50:57.056Z"
   },
   {
    "duration": 15,
    "start_time": "2022-08-23T22:50:57.078Z"
   },
   {
    "duration": 5,
    "start_time": "2022-08-23T22:50:57.094Z"
   },
   {
    "duration": 20,
    "start_time": "2022-08-23T22:50:57.101Z"
   },
   {
    "duration": 9,
    "start_time": "2022-08-23T22:50:57.123Z"
   },
   {
    "duration": 26,
    "start_time": "2022-08-23T22:50:57.134Z"
   },
   {
    "duration": 2,
    "start_time": "2022-08-23T22:50:57.162Z"
   },
   {
    "duration": 28,
    "start_time": "2022-08-23T22:50:57.166Z"
   },
   {
    "duration": 9,
    "start_time": "2022-08-23T22:50:57.195Z"
   },
   {
    "duration": 8,
    "start_time": "2022-08-23T22:50:57.205Z"
   },
   {
    "duration": 8,
    "start_time": "2022-08-23T22:50:57.214Z"
   },
   {
    "duration": 7,
    "start_time": "2022-08-23T22:50:57.223Z"
   },
   {
    "duration": 5,
    "start_time": "2022-08-23T22:50:57.231Z"
   },
   {
    "duration": 5,
    "start_time": "2022-08-23T22:50:57.238Z"
   },
   {
    "duration": 4,
    "start_time": "2022-08-23T22:50:57.245Z"
   },
   {
    "duration": 10,
    "start_time": "2022-08-23T22:50:57.251Z"
   },
   {
    "duration": 12,
    "start_time": "2022-08-23T22:50:57.263Z"
   },
   {
    "duration": 6,
    "start_time": "2022-08-23T22:50:57.277Z"
   },
   {
    "duration": 25,
    "start_time": "2022-08-23T22:50:57.285Z"
   },
   {
    "duration": 9,
    "start_time": "2022-08-23T22:50:57.312Z"
   },
   {
    "duration": 13,
    "start_time": "2022-08-23T22:50:57.322Z"
   },
   {
    "duration": 5,
    "start_time": "2022-08-23T22:50:57.337Z"
   },
   {
    "duration": 12,
    "start_time": "2022-08-23T22:50:57.344Z"
   },
   {
    "duration": 10,
    "start_time": "2022-08-23T22:50:57.358Z"
   },
   {
    "duration": 7,
    "start_time": "2022-08-23T22:50:57.372Z"
   },
   {
    "duration": 11,
    "start_time": "2022-08-23T22:50:57.380Z"
   },
   {
    "duration": 14,
    "start_time": "2022-08-23T22:50:57.393Z"
   },
   {
    "duration": 5,
    "start_time": "2022-08-23T22:50:57.409Z"
   },
   {
    "duration": 10,
    "start_time": "2022-08-23T22:50:57.416Z"
   },
   {
    "duration": 6,
    "start_time": "2022-08-23T22:50:57.427Z"
   },
   {
    "duration": 7,
    "start_time": "2022-08-23T22:50:57.435Z"
   },
   {
    "duration": 5,
    "start_time": "2022-08-23T22:50:57.444Z"
   },
   {
    "duration": 8,
    "start_time": "2022-08-23T22:50:57.451Z"
   },
   {
    "duration": 5,
    "start_time": "2022-08-23T22:50:57.461Z"
   },
   {
    "duration": 7,
    "start_time": "2022-08-23T22:50:57.467Z"
   },
   {
    "duration": 6,
    "start_time": "2022-08-23T22:50:57.475Z"
   },
   {
    "duration": 23,
    "start_time": "2022-08-23T22:50:57.483Z"
   },
   {
    "duration": 8,
    "start_time": "2022-08-23T22:50:57.508Z"
   },
   {
    "duration": 9,
    "start_time": "2022-08-23T22:50:57.518Z"
   },
   {
    "duration": 10,
    "start_time": "2022-08-23T22:50:57.529Z"
   },
   {
    "duration": 6,
    "start_time": "2022-08-23T22:50:57.541Z"
   },
   {
    "duration": 7,
    "start_time": "2022-08-23T22:50:57.549Z"
   },
   {
    "duration": 6,
    "start_time": "2022-08-23T22:50:57.558Z"
   },
   {
    "duration": 7,
    "start_time": "2022-08-23T22:50:57.566Z"
   },
   {
    "duration": 8,
    "start_time": "2022-08-23T22:50:57.575Z"
   },
   {
    "duration": 5,
    "start_time": "2022-08-23T22:50:57.584Z"
   },
   {
    "duration": 8,
    "start_time": "2022-08-23T22:50:57.591Z"
   },
   {
    "duration": 6,
    "start_time": "2022-08-23T22:50:57.600Z"
   },
   {
    "duration": 9,
    "start_time": "2022-08-23T22:50:57.607Z"
   },
   {
    "duration": 4,
    "start_time": "2022-08-23T22:50:57.618Z"
   },
   {
    "duration": 5,
    "start_time": "2022-08-23T22:50:57.624Z"
   },
   {
    "duration": 5,
    "start_time": "2022-08-23T22:50:57.631Z"
   },
   {
    "duration": 5,
    "start_time": "2022-08-23T22:50:57.637Z"
   },
   {
    "duration": 6,
    "start_time": "2022-08-23T22:50:57.643Z"
   },
   {
    "duration": 5,
    "start_time": "2022-08-23T22:50:57.650Z"
   },
   {
    "duration": 5,
    "start_time": "2022-08-23T22:50:57.656Z"
   },
   {
    "duration": 5,
    "start_time": "2022-08-23T22:50:57.663Z"
   },
   {
    "duration": 4,
    "start_time": "2022-08-23T22:50:57.670Z"
   },
   {
    "duration": 17,
    "start_time": "2022-08-23T22:50:57.675Z"
   },
   {
    "duration": 2,
    "start_time": "2022-08-23T22:50:57.693Z"
   },
   {
    "duration": 6,
    "start_time": "2022-08-23T22:50:57.697Z"
   },
   {
    "duration": 6,
    "start_time": "2022-08-23T22:50:57.705Z"
   },
   {
    "duration": 6,
    "start_time": "2022-08-23T22:50:57.712Z"
   },
   {
    "duration": 6,
    "start_time": "2022-08-23T22:50:57.719Z"
   },
   {
    "duration": 10,
    "start_time": "2022-08-23T22:50:57.727Z"
   },
   {
    "duration": 7,
    "start_time": "2022-08-23T22:50:57.739Z"
   },
   {
    "duration": 5,
    "start_time": "2022-08-23T22:50:57.748Z"
   },
   {
    "duration": 5,
    "start_time": "2022-08-23T22:50:57.754Z"
   },
   {
    "duration": 20,
    "start_time": "2022-08-23T22:54:54.807Z"
   },
   {
    "duration": 19,
    "start_time": "2022-08-23T22:55:09.463Z"
   },
   {
    "duration": 9,
    "start_time": "2022-08-23T22:55:27.749Z"
   },
   {
    "duration": 4,
    "start_time": "2022-08-23T23:55:55.348Z"
   },
   {
    "duration": 5,
    "start_time": "2022-08-23T23:55:59.975Z"
   },
   {
    "duration": 5,
    "start_time": "2022-08-23T23:56:24.127Z"
   },
   {
    "duration": 476,
    "start_time": "2022-08-23T23:56:37.230Z"
   },
   {
    "duration": 3,
    "start_time": "2022-08-23T23:56:37.709Z"
   },
   {
    "duration": 28,
    "start_time": "2022-08-23T23:56:37.714Z"
   },
   {
    "duration": 18,
    "start_time": "2022-08-23T23:56:37.744Z"
   },
   {
    "duration": 4,
    "start_time": "2022-08-23T23:56:37.764Z"
   },
   {
    "duration": 25,
    "start_time": "2022-08-23T23:56:37.769Z"
   },
   {
    "duration": 12,
    "start_time": "2022-08-23T23:56:37.796Z"
   },
   {
    "duration": 8,
    "start_time": "2022-08-23T23:56:37.810Z"
   },
   {
    "duration": 14,
    "start_time": "2022-08-23T23:56:37.820Z"
   },
   {
    "duration": 3,
    "start_time": "2022-08-23T23:56:37.836Z"
   },
   {
    "duration": 5,
    "start_time": "2022-08-23T23:56:37.841Z"
   },
   {
    "duration": 4,
    "start_time": "2022-08-23T23:56:37.848Z"
   },
   {
    "duration": 2,
    "start_time": "2022-08-23T23:56:37.893Z"
   },
   {
    "duration": 3,
    "start_time": "2022-08-23T23:56:37.899Z"
   },
   {
    "duration": 4,
    "start_time": "2022-08-23T23:56:37.904Z"
   },
   {
    "duration": 4,
    "start_time": "2022-08-23T23:56:37.910Z"
   },
   {
    "duration": 6,
    "start_time": "2022-08-23T23:56:37.915Z"
   },
   {
    "duration": 5,
    "start_time": "2022-08-23T23:56:37.922Z"
   },
   {
    "duration": 5,
    "start_time": "2022-08-23T23:56:37.929Z"
   },
   {
    "duration": 4,
    "start_time": "2022-08-23T23:56:37.936Z"
   },
   {
    "duration": 4,
    "start_time": "2022-08-23T23:56:37.941Z"
   },
   {
    "duration": 11,
    "start_time": "2022-08-23T23:56:37.947Z"
   },
   {
    "duration": 9,
    "start_time": "2022-08-23T23:56:37.960Z"
   },
   {
    "duration": 22,
    "start_time": "2022-08-23T23:56:37.970Z"
   },
   {
    "duration": 7,
    "start_time": "2022-08-23T23:56:37.994Z"
   },
   {
    "duration": 8,
    "start_time": "2022-08-23T23:56:38.003Z"
   },
   {
    "duration": 5,
    "start_time": "2022-08-23T23:56:38.013Z"
   },
   {
    "duration": 14,
    "start_time": "2022-08-23T23:56:38.020Z"
   },
   {
    "duration": 5,
    "start_time": "2022-08-23T23:56:38.036Z"
   },
   {
    "duration": 5,
    "start_time": "2022-08-23T23:56:38.042Z"
   },
   {
    "duration": 4,
    "start_time": "2022-08-23T23:56:38.049Z"
   },
   {
    "duration": 5,
    "start_time": "2022-08-23T23:56:38.054Z"
   },
   {
    "duration": 12,
    "start_time": "2022-08-23T23:56:38.060Z"
   },
   {
    "duration": 5,
    "start_time": "2022-08-23T23:56:38.073Z"
   },
   {
    "duration": 12,
    "start_time": "2022-08-23T23:56:38.079Z"
   },
   {
    "duration": 3,
    "start_time": "2022-08-23T23:56:38.093Z"
   },
   {
    "duration": 5,
    "start_time": "2022-08-23T23:56:38.097Z"
   },
   {
    "duration": 4,
    "start_time": "2022-08-23T23:56:38.103Z"
   },
   {
    "duration": 4,
    "start_time": "2022-08-23T23:56:38.109Z"
   },
   {
    "duration": 4,
    "start_time": "2022-08-23T23:56:38.115Z"
   },
   {
    "duration": 3,
    "start_time": "2022-08-23T23:56:38.123Z"
   },
   {
    "duration": 5,
    "start_time": "2022-08-23T23:56:38.128Z"
   },
   {
    "duration": 6,
    "start_time": "2022-08-23T23:56:38.134Z"
   },
   {
    "duration": 4,
    "start_time": "2022-08-23T23:56:38.141Z"
   },
   {
    "duration": 4,
    "start_time": "2022-08-23T23:56:38.147Z"
   },
   {
    "duration": 4,
    "start_time": "2022-08-23T23:56:38.153Z"
   },
   {
    "duration": 4,
    "start_time": "2022-08-23T23:56:38.159Z"
   },
   {
    "duration": 2,
    "start_time": "2022-08-23T23:56:38.192Z"
   },
   {
    "duration": 5,
    "start_time": "2022-08-23T23:56:38.196Z"
   },
   {
    "duration": 6,
    "start_time": "2022-08-23T23:56:38.202Z"
   },
   {
    "duration": 5,
    "start_time": "2022-08-23T23:56:38.210Z"
   },
   {
    "duration": 4,
    "start_time": "2022-08-23T23:56:38.217Z"
   },
   {
    "duration": 4,
    "start_time": "2022-08-23T23:56:38.223Z"
   },
   {
    "duration": 4,
    "start_time": "2022-08-23T23:56:38.229Z"
   },
   {
    "duration": 4,
    "start_time": "2022-08-23T23:56:38.234Z"
   },
   {
    "duration": 5,
    "start_time": "2022-08-23T23:56:38.240Z"
   },
   {
    "duration": 4,
    "start_time": "2022-08-23T23:56:38.246Z"
   },
   {
    "duration": 4,
    "start_time": "2022-08-23T23:56:38.252Z"
   },
   {
    "duration": 34,
    "start_time": "2022-08-23T23:56:38.258Z"
   },
   {
    "duration": 5,
    "start_time": "2022-08-23T23:56:38.294Z"
   },
   {
    "duration": 4,
    "start_time": "2022-08-23T23:56:38.301Z"
   },
   {
    "duration": 5,
    "start_time": "2022-08-23T23:56:38.307Z"
   },
   {
    "duration": 5,
    "start_time": "2022-08-23T23:56:38.313Z"
   },
   {
    "duration": 6,
    "start_time": "2022-08-23T23:56:38.319Z"
   },
   {
    "duration": 4,
    "start_time": "2022-08-23T23:56:38.327Z"
   },
   {
    "duration": 4,
    "start_time": "2022-08-23T23:56:38.333Z"
   },
   {
    "duration": 4,
    "start_time": "2022-08-23T23:56:38.339Z"
   },
   {
    "duration": 7,
    "start_time": "2022-08-23T23:56:38.345Z"
   },
   {
    "duration": 6,
    "start_time": "2022-08-23T23:56:38.353Z"
   },
   {
    "duration": 5,
    "start_time": "2022-08-23T23:56:38.361Z"
   },
   {
    "duration": 3,
    "start_time": "2022-08-23T23:56:38.391Z"
   },
   {
    "duration": 9,
    "start_time": "2022-08-23T23:59:07.629Z"
   },
   {
    "duration": 7,
    "start_time": "2022-08-24T00:06:34.512Z"
   },
   {
    "duration": 10,
    "start_time": "2022-08-24T00:07:43.457Z"
   },
   {
    "duration": 16,
    "start_time": "2022-08-24T00:07:55.790Z"
   },
   {
    "duration": 16,
    "start_time": "2022-08-24T00:09:07.417Z"
   },
   {
    "duration": 10,
    "start_time": "2022-08-24T00:09:17.363Z"
   },
   {
    "duration": 8,
    "start_time": "2022-08-24T00:09:20.185Z"
   },
   {
    "duration": 17,
    "start_time": "2022-08-24T00:10:07.954Z"
   },
   {
    "duration": 11,
    "start_time": "2022-08-24T00:10:21.466Z"
   },
   {
    "duration": 6,
    "start_time": "2022-08-24T00:10:30.181Z"
   },
   {
    "duration": 5,
    "start_time": "2022-08-24T00:10:49.302Z"
   },
   {
    "duration": 6,
    "start_time": "2022-08-24T00:17:32.074Z"
   },
   {
    "duration": 4,
    "start_time": "2022-08-24T00:17:49.769Z"
   },
   {
    "duration": 5,
    "start_time": "2022-08-24T00:17:57.913Z"
   },
   {
    "duration": 15,
    "start_time": "2022-08-24T00:19:15.212Z"
   },
   {
    "duration": 2607,
    "start_time": "2022-08-24T00:27:28.270Z"
   },
   {
    "duration": 4,
    "start_time": "2022-08-24T00:27:37.452Z"
   },
   {
    "duration": 4,
    "start_time": "2022-08-24T00:27:59.292Z"
   },
   {
    "duration": 4,
    "start_time": "2022-08-24T00:29:37.132Z"
   },
   {
    "duration": 705,
    "start_time": "2022-08-24T00:29:52.022Z"
   },
   {
    "duration": 7,
    "start_time": "2022-08-24T00:30:44.194Z"
   },
   {
    "duration": 7,
    "start_time": "2022-08-24T00:30:52.001Z"
   },
   {
    "duration": 12,
    "start_time": "2022-08-24T00:31:20.639Z"
   },
   {
    "duration": 10,
    "start_time": "2022-08-24T00:36:58.712Z"
   },
   {
    "duration": 12,
    "start_time": "2022-08-24T00:37:32.853Z"
   },
   {
    "duration": 532,
    "start_time": "2022-08-24T00:37:41.422Z"
   },
   {
    "duration": 6,
    "start_time": "2022-08-24T00:37:41.956Z"
   },
   {
    "duration": 36,
    "start_time": "2022-08-24T00:37:41.964Z"
   },
   {
    "duration": 27,
    "start_time": "2022-08-24T00:37:42.002Z"
   },
   {
    "duration": 4,
    "start_time": "2022-08-24T00:37:42.032Z"
   },
   {
    "duration": 9,
    "start_time": "2022-08-24T00:37:42.038Z"
   },
   {
    "duration": 17,
    "start_time": "2022-08-24T00:37:42.049Z"
   },
   {
    "duration": 28,
    "start_time": "2022-08-24T00:37:42.068Z"
   },
   {
    "duration": 45,
    "start_time": "2022-08-24T00:37:42.099Z"
   },
   {
    "duration": 3,
    "start_time": "2022-08-24T00:37:42.146Z"
   },
   {
    "duration": 31,
    "start_time": "2022-08-24T00:37:42.151Z"
   },
   {
    "duration": 11,
    "start_time": "2022-08-24T00:37:42.184Z"
   },
   {
    "duration": 15,
    "start_time": "2022-08-24T00:37:42.197Z"
   },
   {
    "duration": 25,
    "start_time": "2022-08-24T00:37:42.218Z"
   },
   {
    "duration": 6,
    "start_time": "2022-08-24T00:37:42.245Z"
   },
   {
    "duration": 6,
    "start_time": "2022-08-24T00:37:42.253Z"
   },
   {
    "duration": 15,
    "start_time": "2022-08-24T00:37:42.261Z"
   },
   {
    "duration": 18,
    "start_time": "2022-08-24T00:37:42.277Z"
   },
   {
    "duration": 73,
    "start_time": "2022-08-24T00:37:42.297Z"
   },
   {
    "duration": 0,
    "start_time": "2022-08-24T00:37:42.373Z"
   },
   {
    "duration": 0,
    "start_time": "2022-08-24T00:37:42.374Z"
   },
   {
    "duration": 0,
    "start_time": "2022-08-24T00:37:42.375Z"
   },
   {
    "duration": 0,
    "start_time": "2022-08-24T00:37:42.376Z"
   },
   {
    "duration": 0,
    "start_time": "2022-08-24T00:37:42.377Z"
   },
   {
    "duration": 0,
    "start_time": "2022-08-24T00:37:42.391Z"
   },
   {
    "duration": 0,
    "start_time": "2022-08-24T00:37:42.392Z"
   },
   {
    "duration": 0,
    "start_time": "2022-08-24T00:37:42.393Z"
   },
   {
    "duration": 0,
    "start_time": "2022-08-24T00:37:42.394Z"
   },
   {
    "duration": 0,
    "start_time": "2022-08-24T00:37:42.395Z"
   },
   {
    "duration": 0,
    "start_time": "2022-08-24T00:37:42.396Z"
   },
   {
    "duration": 0,
    "start_time": "2022-08-24T00:37:42.397Z"
   },
   {
    "duration": 0,
    "start_time": "2022-08-24T00:37:42.398Z"
   },
   {
    "duration": 0,
    "start_time": "2022-08-24T00:37:42.399Z"
   },
   {
    "duration": 0,
    "start_time": "2022-08-24T00:37:42.400Z"
   },
   {
    "duration": 0,
    "start_time": "2022-08-24T00:37:42.401Z"
   },
   {
    "duration": 0,
    "start_time": "2022-08-24T00:37:42.402Z"
   },
   {
    "duration": 0,
    "start_time": "2022-08-24T00:37:42.403Z"
   },
   {
    "duration": 0,
    "start_time": "2022-08-24T00:37:42.404Z"
   },
   {
    "duration": 0,
    "start_time": "2022-08-24T00:37:42.404Z"
   },
   {
    "duration": 1,
    "start_time": "2022-08-24T00:37:42.405Z"
   },
   {
    "duration": 0,
    "start_time": "2022-08-24T00:37:42.406Z"
   },
   {
    "duration": 0,
    "start_time": "2022-08-24T00:37:42.407Z"
   },
   {
    "duration": 0,
    "start_time": "2022-08-24T00:37:42.408Z"
   },
   {
    "duration": 0,
    "start_time": "2022-08-24T00:37:42.409Z"
   },
   {
    "duration": 0,
    "start_time": "2022-08-24T00:37:42.410Z"
   },
   {
    "duration": 0,
    "start_time": "2022-08-24T00:37:42.411Z"
   },
   {
    "duration": 0,
    "start_time": "2022-08-24T00:37:42.412Z"
   },
   {
    "duration": 0,
    "start_time": "2022-08-24T00:37:42.413Z"
   },
   {
    "duration": 0,
    "start_time": "2022-08-24T00:37:42.414Z"
   },
   {
    "duration": 0,
    "start_time": "2022-08-24T00:37:42.415Z"
   },
   {
    "duration": 0,
    "start_time": "2022-08-24T00:37:42.417Z"
   },
   {
    "duration": 0,
    "start_time": "2022-08-24T00:37:42.417Z"
   },
   {
    "duration": 0,
    "start_time": "2022-08-24T00:37:42.418Z"
   },
   {
    "duration": 0,
    "start_time": "2022-08-24T00:37:42.419Z"
   },
   {
    "duration": 0,
    "start_time": "2022-08-24T00:37:42.420Z"
   },
   {
    "duration": 0,
    "start_time": "2022-08-24T00:37:42.421Z"
   },
   {
    "duration": 0,
    "start_time": "2022-08-24T00:37:42.422Z"
   },
   {
    "duration": 0,
    "start_time": "2022-08-24T00:37:42.423Z"
   },
   {
    "duration": 0,
    "start_time": "2022-08-24T00:37:42.424Z"
   },
   {
    "duration": 0,
    "start_time": "2022-08-24T00:37:42.425Z"
   },
   {
    "duration": 0,
    "start_time": "2022-08-24T00:37:42.426Z"
   },
   {
    "duration": 0,
    "start_time": "2022-08-24T00:37:42.427Z"
   },
   {
    "duration": 0,
    "start_time": "2022-08-24T00:37:42.428Z"
   },
   {
    "duration": 0,
    "start_time": "2022-08-24T00:37:42.429Z"
   },
   {
    "duration": 0,
    "start_time": "2022-08-24T00:37:42.492Z"
   },
   {
    "duration": 0,
    "start_time": "2022-08-24T00:37:42.493Z"
   },
   {
    "duration": 0,
    "start_time": "2022-08-24T00:37:42.494Z"
   },
   {
    "duration": 0,
    "start_time": "2022-08-24T00:37:42.495Z"
   },
   {
    "duration": 0,
    "start_time": "2022-08-24T00:37:42.497Z"
   },
   {
    "duration": 0,
    "start_time": "2022-08-24T00:37:42.498Z"
   },
   {
    "duration": 0,
    "start_time": "2022-08-24T00:37:42.499Z"
   },
   {
    "duration": 70,
    "start_time": "2022-08-24T00:38:18.431Z"
   },
   {
    "duration": 481,
    "start_time": "2022-08-24T00:38:27.051Z"
   },
   {
    "duration": 4,
    "start_time": "2022-08-24T00:38:27.534Z"
   },
   {
    "duration": 26,
    "start_time": "2022-08-24T00:38:27.540Z"
   },
   {
    "duration": 32,
    "start_time": "2022-08-24T00:38:27.568Z"
   },
   {
    "duration": 4,
    "start_time": "2022-08-24T00:38:27.603Z"
   },
   {
    "duration": 8,
    "start_time": "2022-08-24T00:38:27.608Z"
   },
   {
    "duration": 13,
    "start_time": "2022-08-24T00:38:27.618Z"
   },
   {
    "duration": 8,
    "start_time": "2022-08-24T00:38:27.632Z"
   },
   {
    "duration": 15,
    "start_time": "2022-08-24T00:38:27.641Z"
   },
   {
    "duration": 36,
    "start_time": "2022-08-24T00:38:27.657Z"
   },
   {
    "duration": 5,
    "start_time": "2022-08-24T00:38:27.695Z"
   },
   {
    "duration": 10,
    "start_time": "2022-08-24T00:38:27.701Z"
   },
   {
    "duration": 15,
    "start_time": "2022-08-24T00:38:27.712Z"
   },
   {
    "duration": 8,
    "start_time": "2022-08-24T00:38:27.731Z"
   },
   {
    "duration": 7,
    "start_time": "2022-08-24T00:38:27.740Z"
   },
   {
    "duration": 6,
    "start_time": "2022-08-24T00:38:27.749Z"
   },
   {
    "duration": 41,
    "start_time": "2022-08-24T00:38:27.757Z"
   },
   {
    "duration": 8,
    "start_time": "2022-08-24T00:38:27.800Z"
   },
   {
    "duration": 84,
    "start_time": "2022-08-24T00:38:27.810Z"
   },
   {
    "duration": 0,
    "start_time": "2022-08-24T00:38:27.899Z"
   },
   {
    "duration": 0,
    "start_time": "2022-08-24T00:38:27.900Z"
   },
   {
    "duration": 0,
    "start_time": "2022-08-24T00:38:27.902Z"
   },
   {
    "duration": 0,
    "start_time": "2022-08-24T00:38:27.904Z"
   },
   {
    "duration": 0,
    "start_time": "2022-08-24T00:38:27.905Z"
   },
   {
    "duration": 0,
    "start_time": "2022-08-24T00:38:27.907Z"
   },
   {
    "duration": 0,
    "start_time": "2022-08-24T00:38:27.908Z"
   },
   {
    "duration": 0,
    "start_time": "2022-08-24T00:38:27.909Z"
   },
   {
    "duration": 0,
    "start_time": "2022-08-24T00:38:27.910Z"
   },
   {
    "duration": 0,
    "start_time": "2022-08-24T00:38:27.911Z"
   },
   {
    "duration": 0,
    "start_time": "2022-08-24T00:38:27.912Z"
   },
   {
    "duration": 0,
    "start_time": "2022-08-24T00:38:27.913Z"
   },
   {
    "duration": 0,
    "start_time": "2022-08-24T00:38:27.915Z"
   },
   {
    "duration": 0,
    "start_time": "2022-08-24T00:38:27.915Z"
   },
   {
    "duration": 0,
    "start_time": "2022-08-24T00:38:27.916Z"
   },
   {
    "duration": 0,
    "start_time": "2022-08-24T00:38:27.917Z"
   },
   {
    "duration": 0,
    "start_time": "2022-08-24T00:38:27.918Z"
   },
   {
    "duration": 0,
    "start_time": "2022-08-24T00:38:27.919Z"
   },
   {
    "duration": 0,
    "start_time": "2022-08-24T00:38:27.920Z"
   },
   {
    "duration": 0,
    "start_time": "2022-08-24T00:38:27.921Z"
   },
   {
    "duration": 0,
    "start_time": "2022-08-24T00:38:27.923Z"
   },
   {
    "duration": 0,
    "start_time": "2022-08-24T00:38:27.923Z"
   },
   {
    "duration": 0,
    "start_time": "2022-08-24T00:38:27.925Z"
   },
   {
    "duration": 0,
    "start_time": "2022-08-24T00:38:27.926Z"
   },
   {
    "duration": 0,
    "start_time": "2022-08-24T00:38:27.927Z"
   },
   {
    "duration": 0,
    "start_time": "2022-08-24T00:38:27.928Z"
   },
   {
    "duration": 0,
    "start_time": "2022-08-24T00:38:27.929Z"
   },
   {
    "duration": 0,
    "start_time": "2022-08-24T00:38:27.930Z"
   },
   {
    "duration": 0,
    "start_time": "2022-08-24T00:38:27.931Z"
   },
   {
    "duration": 0,
    "start_time": "2022-08-24T00:38:27.932Z"
   },
   {
    "duration": 0,
    "start_time": "2022-08-24T00:38:27.933Z"
   },
   {
    "duration": 0,
    "start_time": "2022-08-24T00:38:27.934Z"
   },
   {
    "duration": 0,
    "start_time": "2022-08-24T00:38:27.992Z"
   },
   {
    "duration": 0,
    "start_time": "2022-08-24T00:38:27.993Z"
   },
   {
    "duration": 0,
    "start_time": "2022-08-24T00:38:27.994Z"
   },
   {
    "duration": 0,
    "start_time": "2022-08-24T00:38:27.996Z"
   },
   {
    "duration": 0,
    "start_time": "2022-08-24T00:38:27.997Z"
   },
   {
    "duration": 0,
    "start_time": "2022-08-24T00:38:27.998Z"
   },
   {
    "duration": 0,
    "start_time": "2022-08-24T00:38:27.999Z"
   },
   {
    "duration": 0,
    "start_time": "2022-08-24T00:38:28.000Z"
   },
   {
    "duration": 0,
    "start_time": "2022-08-24T00:38:28.001Z"
   },
   {
    "duration": 0,
    "start_time": "2022-08-24T00:38:28.002Z"
   },
   {
    "duration": 0,
    "start_time": "2022-08-24T00:38:28.004Z"
   },
   {
    "duration": 0,
    "start_time": "2022-08-24T00:38:28.004Z"
   },
   {
    "duration": 0,
    "start_time": "2022-08-24T00:38:28.006Z"
   },
   {
    "duration": 0,
    "start_time": "2022-08-24T00:38:28.007Z"
   },
   {
    "duration": 0,
    "start_time": "2022-08-24T00:38:28.008Z"
   },
   {
    "duration": 0,
    "start_time": "2022-08-24T00:38:28.008Z"
   },
   {
    "duration": 0,
    "start_time": "2022-08-24T00:38:28.009Z"
   },
   {
    "duration": 0,
    "start_time": "2022-08-24T00:38:28.011Z"
   },
   {
    "duration": 0,
    "start_time": "2022-08-24T00:38:28.012Z"
   },
   {
    "duration": 0,
    "start_time": "2022-08-24T00:38:28.012Z"
   },
   {
    "duration": 15,
    "start_time": "2022-08-24T00:40:50.016Z"
   },
   {
    "duration": 8,
    "start_time": "2022-08-24T00:41:32.145Z"
   },
   {
    "duration": 4,
    "start_time": "2022-08-24T00:41:35.265Z"
   },
   {
    "duration": 5,
    "start_time": "2022-08-24T00:41:44.231Z"
   },
   {
    "duration": 4,
    "start_time": "2022-08-24T00:43:02.871Z"
   },
   {
    "duration": 5,
    "start_time": "2022-08-24T00:44:01.345Z"
   },
   {
    "duration": 6,
    "start_time": "2022-08-24T00:45:12.934Z"
   },
   {
    "duration": 75,
    "start_time": "2022-08-24T00:51:41.366Z"
   },
   {
    "duration": 8,
    "start_time": "2022-08-24T00:53:03.502Z"
   },
   {
    "duration": 9,
    "start_time": "2022-08-24T00:53:22.634Z"
   },
   {
    "duration": 6,
    "start_time": "2022-08-24T00:53:46.249Z"
   },
   {
    "duration": 6,
    "start_time": "2022-08-24T00:56:58.540Z"
   },
   {
    "duration": 6,
    "start_time": "2022-08-24T15:11:25.760Z"
   },
   {
    "duration": 17,
    "start_time": "2022-08-24T15:11:29.423Z"
   },
   {
    "duration": 653,
    "start_time": "2022-08-24T15:11:41.756Z"
   },
   {
    "duration": 5,
    "start_time": "2022-08-24T15:11:42.415Z"
   },
   {
    "duration": 40,
    "start_time": "2022-08-24T15:11:42.426Z"
   },
   {
    "duration": 43,
    "start_time": "2022-08-24T15:11:42.469Z"
   },
   {
    "duration": 28,
    "start_time": "2022-08-24T15:11:42.514Z"
   },
   {
    "duration": 12,
    "start_time": "2022-08-24T15:11:42.544Z"
   },
   {
    "duration": 19,
    "start_time": "2022-08-24T15:11:42.558Z"
   },
   {
    "duration": 19,
    "start_time": "2022-08-24T15:11:42.579Z"
   },
   {
    "duration": 48,
    "start_time": "2022-08-24T15:11:42.601Z"
   },
   {
    "duration": 5,
    "start_time": "2022-08-24T15:11:42.652Z"
   },
   {
    "duration": 8,
    "start_time": "2022-08-24T15:11:42.659Z"
   },
   {
    "duration": 21,
    "start_time": "2022-08-24T15:11:42.669Z"
   },
   {
    "duration": 51,
    "start_time": "2022-08-24T15:11:42.691Z"
   },
   {
    "duration": 13,
    "start_time": "2022-08-24T15:11:42.744Z"
   },
   {
    "duration": 15,
    "start_time": "2022-08-24T15:11:42.759Z"
   },
   {
    "duration": 15,
    "start_time": "2022-08-24T15:11:42.775Z"
   },
   {
    "duration": 37,
    "start_time": "2022-08-24T15:11:42.798Z"
   },
   {
    "duration": 12,
    "start_time": "2022-08-24T15:11:42.837Z"
   },
   {
    "duration": 13,
    "start_time": "2022-08-24T15:11:42.851Z"
   },
   {
    "duration": 15,
    "start_time": "2022-08-24T15:11:42.866Z"
   },
   {
    "duration": 17,
    "start_time": "2022-08-24T15:11:42.883Z"
   },
   {
    "duration": 29,
    "start_time": "2022-08-24T15:11:42.903Z"
   },
   {
    "duration": 4,
    "start_time": "2022-08-24T15:11:42.935Z"
   },
   {
    "duration": 12,
    "start_time": "2022-08-24T15:11:42.941Z"
   },
   {
    "duration": 8,
    "start_time": "2022-08-24T15:11:42.955Z"
   },
   {
    "duration": 8,
    "start_time": "2022-08-24T15:11:42.965Z"
   },
   {
    "duration": 16,
    "start_time": "2022-08-24T15:11:42.975Z"
   },
   {
    "duration": 37,
    "start_time": "2022-08-24T15:11:42.999Z"
   },
   {
    "duration": 10,
    "start_time": "2022-08-24T15:11:43.038Z"
   },
   {
    "duration": 10,
    "start_time": "2022-08-24T15:11:43.050Z"
   },
   {
    "duration": 10,
    "start_time": "2022-08-24T15:11:43.062Z"
   },
   {
    "duration": 10,
    "start_time": "2022-08-24T15:11:43.074Z"
   },
   {
    "duration": 37,
    "start_time": "2022-08-24T15:11:43.086Z"
   },
   {
    "duration": 10,
    "start_time": "2022-08-24T15:11:43.125Z"
   },
   {
    "duration": 9,
    "start_time": "2022-08-24T15:11:43.137Z"
   },
   {
    "duration": 13,
    "start_time": "2022-08-24T15:11:43.148Z"
   },
   {
    "duration": 5,
    "start_time": "2022-08-24T15:11:43.163Z"
   },
   {
    "duration": 9,
    "start_time": "2022-08-24T15:11:43.170Z"
   },
   {
    "duration": 9,
    "start_time": "2022-08-24T15:11:43.181Z"
   },
   {
    "duration": 37,
    "start_time": "2022-08-24T15:11:43.194Z"
   },
   {
    "duration": 15,
    "start_time": "2022-08-24T15:11:43.233Z"
   },
   {
    "duration": 8,
    "start_time": "2022-08-24T15:11:43.251Z"
   },
   {
    "duration": 11,
    "start_time": "2022-08-24T15:11:43.261Z"
   },
   {
    "duration": 13,
    "start_time": "2022-08-24T15:11:43.274Z"
   },
   {
    "duration": 39,
    "start_time": "2022-08-24T15:11:43.288Z"
   },
   {
    "duration": 9,
    "start_time": "2022-08-24T15:11:43.328Z"
   },
   {
    "duration": 16,
    "start_time": "2022-08-24T15:11:43.339Z"
   },
   {
    "duration": 15,
    "start_time": "2022-08-24T15:11:43.357Z"
   },
   {
    "duration": 15,
    "start_time": "2022-08-24T15:11:43.374Z"
   },
   {
    "duration": 37,
    "start_time": "2022-08-24T15:11:43.394Z"
   },
   {
    "duration": 10,
    "start_time": "2022-08-24T15:11:43.433Z"
   },
   {
    "duration": 6,
    "start_time": "2022-08-24T15:11:43.445Z"
   },
   {
    "duration": 11,
    "start_time": "2022-08-24T15:11:43.452Z"
   },
   {
    "duration": 6,
    "start_time": "2022-08-24T15:11:43.465Z"
   },
   {
    "duration": 8,
    "start_time": "2022-08-24T15:11:43.473Z"
   },
   {
    "duration": 12,
    "start_time": "2022-08-24T15:11:43.483Z"
   },
   {
    "duration": 29,
    "start_time": "2022-08-24T15:11:43.499Z"
   },
   {
    "duration": 34,
    "start_time": "2022-08-24T15:11:43.531Z"
   },
   {
    "duration": 14,
    "start_time": "2022-08-24T15:11:43.568Z"
   },
   {
    "duration": 27,
    "start_time": "2022-08-24T15:11:43.584Z"
   },
   {
    "duration": 17,
    "start_time": "2022-08-24T15:11:43.613Z"
   },
   {
    "duration": 11,
    "start_time": "2022-08-24T15:11:43.632Z"
   },
   {
    "duration": 32,
    "start_time": "2022-08-24T15:11:43.645Z"
   },
   {
    "duration": 47,
    "start_time": "2022-08-24T15:11:43.679Z"
   },
   {
    "duration": 12,
    "start_time": "2022-08-24T15:11:43.728Z"
   },
   {
    "duration": 20,
    "start_time": "2022-08-24T15:11:43.742Z"
   },
   {
    "duration": 21,
    "start_time": "2022-08-24T15:11:43.764Z"
   },
   {
    "duration": 37,
    "start_time": "2022-08-24T15:11:43.787Z"
   },
   {
    "duration": 9,
    "start_time": "2022-08-24T15:11:43.827Z"
   },
   {
    "duration": 11,
    "start_time": "2022-08-24T15:11:43.838Z"
   },
   {
    "duration": 9,
    "start_time": "2022-08-24T15:11:43.852Z"
   },
   {
    "duration": 123,
    "start_time": "2022-08-24T15:29:04.923Z"
   },
   {
    "duration": 6,
    "start_time": "2022-08-24T15:30:21.159Z"
   },
   {
    "duration": 9,
    "start_time": "2022-08-24T15:31:29.007Z"
   },
   {
    "duration": 15,
    "start_time": "2022-08-24T15:31:37.416Z"
   },
   {
    "duration": 10,
    "start_time": "2022-08-24T15:31:40.150Z"
   },
   {
    "duration": 6,
    "start_time": "2022-08-24T15:32:02.831Z"
   },
   {
    "duration": 8,
    "start_time": "2022-08-24T15:32:19.018Z"
   },
   {
    "duration": 10,
    "start_time": "2022-08-24T15:32:21.821Z"
   },
   {
    "duration": 7,
    "start_time": "2022-08-24T15:32:25.117Z"
   },
   {
    "duration": 11,
    "start_time": "2022-08-24T15:32:27.013Z"
   },
   {
    "duration": 740,
    "start_time": "2022-08-24T15:32:33.105Z"
   },
   {
    "duration": 5,
    "start_time": "2022-08-24T15:32:33.848Z"
   },
   {
    "duration": 31,
    "start_time": "2022-08-24T15:32:33.855Z"
   },
   {
    "duration": 76,
    "start_time": "2022-08-24T15:32:33.889Z"
   },
   {
    "duration": 22,
    "start_time": "2022-08-24T15:32:33.968Z"
   },
   {
    "duration": 76,
    "start_time": "2022-08-24T15:32:33.992Z"
   },
   {
    "duration": 17,
    "start_time": "2022-08-24T15:32:34.070Z"
   },
   {
    "duration": 21,
    "start_time": "2022-08-24T15:32:34.089Z"
   },
   {
    "duration": 35,
    "start_time": "2022-08-24T15:32:34.113Z"
   },
   {
    "duration": 4,
    "start_time": "2022-08-24T15:32:34.152Z"
   },
   {
    "duration": 6,
    "start_time": "2022-08-24T15:32:34.158Z"
   },
   {
    "duration": 18,
    "start_time": "2022-08-24T15:32:34.166Z"
   },
   {
    "duration": 50,
    "start_time": "2022-08-24T15:32:34.187Z"
   },
   {
    "duration": 12,
    "start_time": "2022-08-24T15:32:34.239Z"
   },
   {
    "duration": 9,
    "start_time": "2022-08-24T15:32:34.253Z"
   },
   {
    "duration": 9,
    "start_time": "2022-08-24T15:32:34.264Z"
   },
   {
    "duration": 8,
    "start_time": "2022-08-24T15:32:34.274Z"
   },
   {
    "duration": 45,
    "start_time": "2022-08-24T15:32:34.283Z"
   },
   {
    "duration": 9,
    "start_time": "2022-08-24T15:32:34.330Z"
   },
   {
    "duration": 10,
    "start_time": "2022-08-24T15:32:34.341Z"
   },
   {
    "duration": 9,
    "start_time": "2022-08-24T15:32:34.353Z"
   },
   {
    "duration": 8,
    "start_time": "2022-08-24T15:32:34.363Z"
   },
   {
    "duration": 7,
    "start_time": "2022-08-24T15:32:34.372Z"
   },
   {
    "duration": 6,
    "start_time": "2022-08-24T15:32:34.381Z"
   },
   {
    "duration": 42,
    "start_time": "2022-08-24T15:32:34.389Z"
   },
   {
    "duration": 9,
    "start_time": "2022-08-24T15:32:34.432Z"
   },
   {
    "duration": 6,
    "start_time": "2022-08-24T15:32:34.443Z"
   },
   {
    "duration": 3,
    "start_time": "2022-08-24T15:32:34.454Z"
   },
   {
    "duration": 7,
    "start_time": "2022-08-24T15:32:34.459Z"
   },
   {
    "duration": 6,
    "start_time": "2022-08-24T15:32:34.468Z"
   },
   {
    "duration": 6,
    "start_time": "2022-08-24T15:32:34.475Z"
   },
   {
    "duration": 11,
    "start_time": "2022-08-24T15:32:34.483Z"
   },
   {
    "duration": 40,
    "start_time": "2022-08-24T15:32:34.495Z"
   },
   {
    "duration": 7,
    "start_time": "2022-08-24T15:32:34.537Z"
   },
   {
    "duration": 7,
    "start_time": "2022-08-24T15:32:34.546Z"
   },
   {
    "duration": 5,
    "start_time": "2022-08-24T15:32:34.555Z"
   },
   {
    "duration": 6,
    "start_time": "2022-08-24T15:32:34.562Z"
   },
   {
    "duration": 5,
    "start_time": "2022-08-24T15:32:34.570Z"
   },
   {
    "duration": 8,
    "start_time": "2022-08-24T15:32:34.577Z"
   },
   {
    "duration": 29,
    "start_time": "2022-08-24T15:32:34.588Z"
   },
   {
    "duration": 7,
    "start_time": "2022-08-24T15:32:34.622Z"
   },
   {
    "duration": 9,
    "start_time": "2022-08-24T15:32:34.631Z"
   },
   {
    "duration": 7,
    "start_time": "2022-08-24T15:32:34.642Z"
   },
   {
    "duration": 4,
    "start_time": "2022-08-24T15:32:34.651Z"
   },
   {
    "duration": 8,
    "start_time": "2022-08-24T15:32:34.658Z"
   },
   {
    "duration": 7,
    "start_time": "2022-08-24T15:32:34.668Z"
   },
   {
    "duration": 7,
    "start_time": "2022-08-24T15:32:34.677Z"
   },
   {
    "duration": 36,
    "start_time": "2022-08-24T15:32:34.686Z"
   },
   {
    "duration": 4,
    "start_time": "2022-08-24T15:32:34.724Z"
   },
   {
    "duration": 7,
    "start_time": "2022-08-24T15:32:34.731Z"
   },
   {
    "duration": 5,
    "start_time": "2022-08-24T15:32:34.741Z"
   },
   {
    "duration": 6,
    "start_time": "2022-08-24T15:32:34.748Z"
   },
   {
    "duration": 5,
    "start_time": "2022-08-24T15:32:34.756Z"
   },
   {
    "duration": 5,
    "start_time": "2022-08-24T15:32:34.763Z"
   },
   {
    "duration": 8,
    "start_time": "2022-08-24T15:32:34.771Z"
   },
   {
    "duration": 9,
    "start_time": "2022-08-24T15:32:34.781Z"
   },
   {
    "duration": 34,
    "start_time": "2022-08-24T15:32:34.794Z"
   },
   {
    "duration": 4,
    "start_time": "2022-08-24T15:32:34.831Z"
   },
   {
    "duration": 4,
    "start_time": "2022-08-24T15:32:34.838Z"
   },
   {
    "duration": 5,
    "start_time": "2022-08-24T15:32:34.844Z"
   },
   {
    "duration": 10,
    "start_time": "2022-08-24T15:32:34.851Z"
   },
   {
    "duration": 6,
    "start_time": "2022-08-24T15:32:34.864Z"
   },
   {
    "duration": 7,
    "start_time": "2022-08-24T15:32:34.872Z"
   },
   {
    "duration": 14,
    "start_time": "2022-08-24T15:32:34.881Z"
   },
   {
    "duration": 28,
    "start_time": "2022-08-24T15:32:34.898Z"
   },
   {
    "duration": 6,
    "start_time": "2022-08-24T15:32:34.928Z"
   },
   {
    "duration": 5,
    "start_time": "2022-08-24T15:32:34.936Z"
   },
   {
    "duration": 6,
    "start_time": "2022-08-24T15:32:34.943Z"
   },
   {
    "duration": 4,
    "start_time": "2022-08-24T15:32:34.951Z"
   },
   {
    "duration": 7,
    "start_time": "2022-08-24T15:32:34.957Z"
   },
   {
    "duration": 5,
    "start_time": "2022-08-24T15:32:34.966Z"
   },
   {
    "duration": 8,
    "start_time": "2022-08-24T15:33:06.034Z"
   },
   {
    "duration": 5,
    "start_time": "2022-08-24T15:33:15.256Z"
   },
   {
    "duration": 104,
    "start_time": "2022-08-24T15:37:08.829Z"
   },
   {
    "duration": 100,
    "start_time": "2022-08-24T15:37:17.163Z"
   },
   {
    "duration": 6,
    "start_time": "2022-08-24T15:37:29.953Z"
   },
   {
    "duration": 5,
    "start_time": "2022-08-24T15:37:34.368Z"
   },
   {
    "duration": 6,
    "start_time": "2022-08-24T15:39:30.761Z"
   },
   {
    "duration": 12,
    "start_time": "2022-08-24T15:43:05.188Z"
   },
   {
    "duration": 85,
    "start_time": "2022-08-24T15:43:07.752Z"
   },
   {
    "duration": 10,
    "start_time": "2022-08-24T15:43:15.448Z"
   },
   {
    "duration": 17,
    "start_time": "2022-08-24T15:43:17.691Z"
   },
   {
    "duration": 7,
    "start_time": "2022-08-24T15:44:48.976Z"
   },
   {
    "duration": 5,
    "start_time": "2022-08-24T15:51:23.274Z"
   },
   {
    "duration": 6,
    "start_time": "2022-08-24T15:51:24.484Z"
   },
   {
    "duration": 7,
    "start_time": "2022-08-24T15:52:28.663Z"
   },
   {
    "duration": 19,
    "start_time": "2022-08-24T15:53:18.584Z"
   },
   {
    "duration": 23,
    "start_time": "2022-08-24T15:53:38.775Z"
   },
   {
    "duration": 10,
    "start_time": "2022-08-24T15:54:25.836Z"
   },
   {
    "duration": 6,
    "start_time": "2022-08-24T15:57:07.225Z"
   },
   {
    "duration": 12,
    "start_time": "2022-08-24T15:57:08.117Z"
   },
   {
    "duration": 31,
    "start_time": "2022-08-24T16:03:35.171Z"
   },
   {
    "duration": 47,
    "start_time": "2022-08-24T16:04:29.311Z"
   },
   {
    "duration": 34,
    "start_time": "2022-08-24T16:05:11.320Z"
   },
   {
    "duration": 44,
    "start_time": "2022-08-24T16:05:25.981Z"
   },
   {
    "duration": 68,
    "start_time": "2022-08-24T16:05:43.863Z"
   },
   {
    "duration": 33,
    "start_time": "2022-08-24T16:05:54.834Z"
   },
   {
    "duration": 44,
    "start_time": "2022-08-24T16:05:58.016Z"
   },
   {
    "duration": 9,
    "start_time": "2022-08-24T16:07:25.761Z"
   },
   {
    "duration": 17,
    "start_time": "2022-08-24T16:07:35.771Z"
   },
   {
    "duration": 11,
    "start_time": "2022-08-24T16:08:59.417Z"
   },
   {
    "duration": 6,
    "start_time": "2022-08-24T16:09:00.535Z"
   },
   {
    "duration": 555,
    "start_time": "2022-08-24T16:09:09.410Z"
   },
   {
    "duration": 9,
    "start_time": "2022-08-24T16:09:09.968Z"
   },
   {
    "duration": 61,
    "start_time": "2022-08-24T16:09:09.979Z"
   },
   {
    "duration": 44,
    "start_time": "2022-08-24T16:09:10.042Z"
   },
   {
    "duration": 50,
    "start_time": "2022-08-24T16:09:10.089Z"
   },
   {
    "duration": 34,
    "start_time": "2022-08-24T16:09:10.141Z"
   },
   {
    "duration": 84,
    "start_time": "2022-08-24T16:09:10.178Z"
   },
   {
    "duration": 11,
    "start_time": "2022-08-24T16:09:10.264Z"
   },
   {
    "duration": 83,
    "start_time": "2022-08-24T16:09:10.277Z"
   },
   {
    "duration": 16,
    "start_time": "2022-08-24T16:09:10.365Z"
   },
   {
    "duration": 56,
    "start_time": "2022-08-24T16:09:10.384Z"
   },
   {
    "duration": 33,
    "start_time": "2022-08-24T16:09:10.443Z"
   },
   {
    "duration": 99,
    "start_time": "2022-08-24T16:09:10.478Z"
   },
   {
    "duration": 75,
    "start_time": "2022-08-24T16:09:10.580Z"
   },
   {
    "duration": 39,
    "start_time": "2022-08-24T16:09:10.658Z"
   },
   {
    "duration": 76,
    "start_time": "2022-08-24T16:09:10.699Z"
   },
   {
    "duration": 79,
    "start_time": "2022-08-24T16:09:10.777Z"
   },
   {
    "duration": 22,
    "start_time": "2022-08-24T16:09:10.858Z"
   },
   {
    "duration": 67,
    "start_time": "2022-08-24T16:09:10.882Z"
   },
   {
    "duration": 15,
    "start_time": "2022-08-24T16:09:10.951Z"
   },
   {
    "duration": 13,
    "start_time": "2022-08-24T16:09:10.969Z"
   },
   {
    "duration": 19,
    "start_time": "2022-08-24T16:09:10.984Z"
   },
   {
    "duration": 48,
    "start_time": "2022-08-24T16:09:11.010Z"
   },
   {
    "duration": 9,
    "start_time": "2022-08-24T16:09:11.060Z"
   },
   {
    "duration": 8,
    "start_time": "2022-08-24T16:09:11.071Z"
   },
   {
    "duration": 16,
    "start_time": "2022-08-24T16:09:11.081Z"
   },
   {
    "duration": 50,
    "start_time": "2022-08-24T16:09:11.098Z"
   },
   {
    "duration": 10,
    "start_time": "2022-08-24T16:09:11.156Z"
   },
   {
    "duration": 21,
    "start_time": "2022-08-24T16:09:11.168Z"
   },
   {
    "duration": 49,
    "start_time": "2022-08-24T16:09:11.193Z"
   },
   {
    "duration": 8,
    "start_time": "2022-08-24T16:09:11.244Z"
   },
   {
    "duration": 11,
    "start_time": "2022-08-24T16:09:11.254Z"
   },
   {
    "duration": 36,
    "start_time": "2022-08-24T16:09:11.267Z"
   },
   {
    "duration": 63,
    "start_time": "2022-08-24T16:09:11.311Z"
   },
   {
    "duration": 51,
    "start_time": "2022-08-24T16:09:11.376Z"
   },
   {
    "duration": 34,
    "start_time": "2022-08-24T16:09:11.431Z"
   },
   {
    "duration": 4,
    "start_time": "2022-08-24T16:09:11.467Z"
   },
   {
    "duration": 16,
    "start_time": "2022-08-24T16:09:11.473Z"
   },
   {
    "duration": 43,
    "start_time": "2022-08-24T16:09:11.494Z"
   },
   {
    "duration": 10,
    "start_time": "2022-08-24T16:09:11.541Z"
   },
   {
    "duration": 5,
    "start_time": "2022-08-24T16:09:11.554Z"
   },
   {
    "duration": 5,
    "start_time": "2022-08-24T16:09:11.561Z"
   },
   {
    "duration": 8,
    "start_time": "2022-08-24T16:09:11.569Z"
   },
   {
    "duration": 7,
    "start_time": "2022-08-24T16:09:11.579Z"
   },
   {
    "duration": 8,
    "start_time": "2022-08-24T16:09:11.588Z"
   },
   {
    "duration": 4,
    "start_time": "2022-08-24T16:09:11.599Z"
   },
   {
    "duration": 36,
    "start_time": "2022-08-24T16:09:11.610Z"
   },
   {
    "duration": 6,
    "start_time": "2022-08-24T16:09:11.648Z"
   },
   {
    "duration": 7,
    "start_time": "2022-08-24T16:09:11.656Z"
   },
   {
    "duration": 5,
    "start_time": "2022-08-24T16:09:11.665Z"
   },
   {
    "duration": 6,
    "start_time": "2022-08-24T16:09:11.672Z"
   },
   {
    "duration": 5,
    "start_time": "2022-08-24T16:09:11.681Z"
   },
   {
    "duration": 7,
    "start_time": "2022-08-24T16:09:11.688Z"
   },
   {
    "duration": 24,
    "start_time": "2022-08-24T16:09:11.696Z"
   },
   {
    "duration": 21,
    "start_time": "2022-08-24T16:09:11.722Z"
   },
   {
    "duration": 6,
    "start_time": "2022-08-24T16:09:11.746Z"
   },
   {
    "duration": 4,
    "start_time": "2022-08-24T16:09:11.755Z"
   },
   {
    "duration": 12,
    "start_time": "2022-08-24T16:09:11.760Z"
   },
   {
    "duration": 70,
    "start_time": "2022-08-24T16:09:11.775Z"
   },
   {
    "duration": 22,
    "start_time": "2022-08-24T16:09:11.847Z"
   },
   {
    "duration": 84,
    "start_time": "2022-08-24T16:09:11.871Z"
   },
   {
    "duration": 29,
    "start_time": "2022-08-24T16:09:11.957Z"
   },
   {
    "duration": 79,
    "start_time": "2022-08-24T16:09:11.989Z"
   },
   {
    "duration": 20,
    "start_time": "2022-08-24T16:09:12.071Z"
   },
   {
    "duration": 58,
    "start_time": "2022-08-24T16:09:12.095Z"
   },
   {
    "duration": 6,
    "start_time": "2022-08-24T16:09:12.157Z"
   },
   {
    "duration": 10,
    "start_time": "2022-08-24T16:09:12.166Z"
   },
   {
    "duration": 10,
    "start_time": "2022-08-24T16:09:12.179Z"
   },
   {
    "duration": 58,
    "start_time": "2022-08-24T16:09:12.192Z"
   },
   {
    "duration": 14,
    "start_time": "2022-08-24T16:09:12.252Z"
   },
   {
    "duration": 11,
    "start_time": "2022-08-24T16:09:12.268Z"
   },
   {
    "duration": 29,
    "start_time": "2022-08-24T16:14:03.583Z"
   },
   {
    "duration": 6,
    "start_time": "2022-08-24T16:27:50.533Z"
   },
   {
    "duration": 7,
    "start_time": "2022-08-24T16:27:53.370Z"
   },
   {
    "duration": 102,
    "start_time": "2022-08-24T16:28:09.761Z"
   },
   {
    "duration": 6,
    "start_time": "2022-08-24T16:28:22.486Z"
   },
   {
    "duration": 19,
    "start_time": "2022-08-24T16:28:23.868Z"
   },
   {
    "duration": 13,
    "start_time": "2022-08-24T16:28:52.239Z"
   },
   {
    "duration": 8,
    "start_time": "2022-08-24T16:29:05.530Z"
   },
   {
    "duration": 119,
    "start_time": "2022-08-24T16:30:32.206Z"
   },
   {
    "duration": 8,
    "start_time": "2022-08-24T16:30:51.513Z"
   },
   {
    "duration": 15,
    "start_time": "2022-08-24T16:31:01.391Z"
   },
   {
    "duration": 10,
    "start_time": "2022-08-24T16:44:49.364Z"
   },
   {
    "duration": 6,
    "start_time": "2022-08-24T16:44:54.703Z"
   },
   {
    "duration": 4,
    "start_time": "2022-08-24T16:44:55.660Z"
   },
   {
    "duration": 7,
    "start_time": "2022-08-24T16:47:55.669Z"
   },
   {
    "duration": 9,
    "start_time": "2022-08-24T16:47:56.315Z"
   },
   {
    "duration": 4,
    "start_time": "2022-08-24T16:50:01.275Z"
   },
   {
    "duration": 4,
    "start_time": "2022-08-24T16:50:01.833Z"
   },
   {
    "duration": 11,
    "start_time": "2022-08-24T16:50:07.483Z"
   },
   {
    "duration": 18,
    "start_time": "2022-08-24T16:50:12.588Z"
   },
   {
    "duration": 9,
    "start_time": "2022-08-24T16:50:13.184Z"
   },
   {
    "duration": 21,
    "start_time": "2022-08-24T16:52:30.963Z"
   },
   {
    "duration": 76,
    "start_time": "2022-08-24T16:52:40.812Z"
   },
   {
    "duration": 78,
    "start_time": "2022-08-24T16:52:51.842Z"
   },
   {
    "duration": 13,
    "start_time": "2022-08-24T16:52:57.342Z"
   },
   {
    "duration": 18,
    "start_time": "2022-08-24T16:54:06.752Z"
   },
   {
    "duration": 18,
    "start_time": "2022-08-24T16:54:53.318Z"
   },
   {
    "duration": 7,
    "start_time": "2022-08-24T16:55:22.160Z"
   },
   {
    "duration": 19,
    "start_time": "2022-08-24T16:56:07.310Z"
   },
   {
    "duration": 28,
    "start_time": "2022-08-24T16:56:32.586Z"
   },
   {
    "duration": 25,
    "start_time": "2022-08-24T16:59:02.558Z"
   },
   {
    "duration": 5,
    "start_time": "2022-08-24T16:59:23.179Z"
   },
   {
    "duration": 21,
    "start_time": "2022-08-24T17:00:14.940Z"
   },
   {
    "duration": 4,
    "start_time": "2022-08-24T17:00:25.756Z"
   },
   {
    "duration": 8,
    "start_time": "2022-08-24T17:00:38.985Z"
   },
   {
    "duration": 20,
    "start_time": "2022-08-24T17:01:55.240Z"
   },
   {
    "duration": 19,
    "start_time": "2022-08-24T17:02:01.395Z"
   },
   {
    "duration": 19,
    "start_time": "2022-08-24T17:02:19.159Z"
   },
   {
    "duration": 6,
    "start_time": "2022-08-24T18:55:07.182Z"
   },
   {
    "duration": 9,
    "start_time": "2022-08-24T18:55:18.224Z"
   },
   {
    "duration": 17,
    "start_time": "2022-08-24T18:59:43.434Z"
   },
   {
    "duration": 14,
    "start_time": "2022-08-24T18:59:49.799Z"
   },
   {
    "duration": 18,
    "start_time": "2022-08-24T18:59:59.572Z"
   },
   {
    "duration": 1944,
    "start_time": "2022-08-24T19:00:03.448Z"
   },
   {
    "duration": 10,
    "start_time": "2022-08-24T19:03:38.746Z"
   },
   {
    "duration": 12,
    "start_time": "2022-08-24T19:03:47.874Z"
   },
   {
    "duration": 15,
    "start_time": "2022-08-24T19:04:10.998Z"
   },
   {
    "duration": 15,
    "start_time": "2022-08-24T19:04:18.401Z"
   },
   {
    "duration": 26,
    "start_time": "2022-08-24T19:06:26.992Z"
   },
   {
    "duration": 25,
    "start_time": "2022-08-24T19:06:33.686Z"
   },
   {
    "duration": 34,
    "start_time": "2022-08-24T19:06:59.955Z"
   },
   {
    "duration": 30,
    "start_time": "2022-08-24T19:08:08.482Z"
   },
   {
    "duration": 29,
    "start_time": "2022-08-24T19:10:40.817Z"
   },
   {
    "duration": 30,
    "start_time": "2022-08-24T19:11:06.737Z"
   },
   {
    "duration": 48,
    "start_time": "2022-08-24T19:13:00.273Z"
   },
   {
    "duration": 36,
    "start_time": "2022-08-24T19:13:13.429Z"
   },
   {
    "duration": 21,
    "start_time": "2022-08-24T19:20:29.637Z"
   },
   {
    "duration": 13,
    "start_time": "2022-08-24T19:23:01.855Z"
   },
   {
    "duration": 85,
    "start_time": "2022-08-24T20:15:58.342Z"
   },
   {
    "duration": 4,
    "start_time": "2022-08-24T20:16:08.334Z"
   },
   {
    "duration": 25,
    "start_time": "2022-08-24T20:16:11.217Z"
   },
   {
    "duration": 15,
    "start_time": "2022-08-24T20:26:17.189Z"
   },
   {
    "duration": 17,
    "start_time": "2022-08-24T20:26:34.575Z"
   },
   {
    "duration": 71,
    "start_time": "2022-08-24T20:26:48.104Z"
   },
   {
    "duration": 15,
    "start_time": "2022-08-24T20:26:58.020Z"
   },
   {
    "duration": 29,
    "start_time": "2022-08-24T20:27:04.788Z"
   },
   {
    "duration": 14,
    "start_time": "2022-08-24T20:27:18.559Z"
   },
   {
    "duration": 8,
    "start_time": "2022-08-24T20:27:30.157Z"
   },
   {
    "duration": 498,
    "start_time": "2022-08-24T20:27:38.142Z"
   },
   {
    "duration": 4,
    "start_time": "2022-08-24T20:27:38.642Z"
   },
   {
    "duration": 26,
    "start_time": "2022-08-24T20:27:38.648Z"
   },
   {
    "duration": 18,
    "start_time": "2022-08-24T20:27:38.692Z"
   },
   {
    "duration": 3,
    "start_time": "2022-08-24T20:27:38.712Z"
   },
   {
    "duration": 13,
    "start_time": "2022-08-24T20:27:38.717Z"
   },
   {
    "duration": 16,
    "start_time": "2022-08-24T20:27:38.732Z"
   },
   {
    "duration": 11,
    "start_time": "2022-08-24T20:27:38.750Z"
   },
   {
    "duration": 19,
    "start_time": "2022-08-24T20:27:38.791Z"
   },
   {
    "duration": 3,
    "start_time": "2022-08-24T20:27:38.813Z"
   },
   {
    "duration": 10,
    "start_time": "2022-08-24T20:27:38.817Z"
   },
   {
    "duration": 12,
    "start_time": "2022-08-24T20:27:38.829Z"
   },
   {
    "duration": 13,
    "start_time": "2022-08-24T20:27:38.842Z"
   },
   {
    "duration": 38,
    "start_time": "2022-08-24T20:27:38.857Z"
   },
   {
    "duration": 7,
    "start_time": "2022-08-24T20:27:38.897Z"
   },
   {
    "duration": 7,
    "start_time": "2022-08-24T20:27:38.905Z"
   },
   {
    "duration": 6,
    "start_time": "2022-08-24T20:27:38.914Z"
   },
   {
    "duration": 8,
    "start_time": "2022-08-24T20:27:38.921Z"
   },
   {
    "duration": 16,
    "start_time": "2022-08-24T20:27:38.931Z"
   },
   {
    "duration": 44,
    "start_time": "2022-08-24T20:27:38.949Z"
   },
   {
    "duration": 8,
    "start_time": "2022-08-24T20:27:38.995Z"
   },
   {
    "duration": 7,
    "start_time": "2022-08-24T20:27:39.006Z"
   },
   {
    "duration": 17,
    "start_time": "2022-08-24T20:27:39.015Z"
   },
   {
    "duration": 7,
    "start_time": "2022-08-24T20:27:39.034Z"
   },
   {
    "duration": 6,
    "start_time": "2022-08-24T20:27:39.043Z"
   },
   {
    "duration": 46,
    "start_time": "2022-08-24T20:27:39.051Z"
   },
   {
    "duration": 8,
    "start_time": "2022-08-24T20:27:39.099Z"
   },
   {
    "duration": 4,
    "start_time": "2022-08-24T20:27:39.112Z"
   },
   {
    "duration": 9,
    "start_time": "2022-08-24T20:27:39.118Z"
   },
   {
    "duration": 8,
    "start_time": "2022-08-24T20:27:39.129Z"
   },
   {
    "duration": 8,
    "start_time": "2022-08-24T20:27:39.139Z"
   },
   {
    "duration": 9,
    "start_time": "2022-08-24T20:27:39.149Z"
   },
   {
    "duration": 25,
    "start_time": "2022-08-24T20:27:39.192Z"
   },
   {
    "duration": 43,
    "start_time": "2022-08-24T20:27:39.220Z"
   },
   {
    "duration": 45,
    "start_time": "2022-08-24T20:27:39.265Z"
   },
   {
    "duration": 21,
    "start_time": "2022-08-24T20:27:39.311Z"
   },
   {
    "duration": 5,
    "start_time": "2022-08-24T20:27:39.334Z"
   },
   {
    "duration": 9,
    "start_time": "2022-08-24T20:27:39.342Z"
   },
   {
    "duration": 6,
    "start_time": "2022-08-24T20:27:39.353Z"
   },
   {
    "duration": 10,
    "start_time": "2022-08-24T20:27:39.391Z"
   },
   {
    "duration": 11,
    "start_time": "2022-08-24T20:27:39.403Z"
   },
   {
    "duration": 36,
    "start_time": "2022-08-24T20:27:39.417Z"
   },
   {
    "duration": 39,
    "start_time": "2022-08-24T20:27:39.456Z"
   },
   {
    "duration": 39,
    "start_time": "2022-08-24T20:27:39.497Z"
   },
   {
    "duration": 4,
    "start_time": "2022-08-24T20:27:39.538Z"
   },
   {
    "duration": 99,
    "start_time": "2022-08-24T20:27:39.544Z"
   },
   {
    "duration": 0,
    "start_time": "2022-08-24T20:27:39.645Z"
   },
   {
    "duration": 0,
    "start_time": "2022-08-24T20:27:39.646Z"
   },
   {
    "duration": 0,
    "start_time": "2022-08-24T20:27:39.647Z"
   },
   {
    "duration": 0,
    "start_time": "2022-08-24T20:27:39.648Z"
   },
   {
    "duration": 0,
    "start_time": "2022-08-24T20:27:39.649Z"
   },
   {
    "duration": 0,
    "start_time": "2022-08-24T20:27:39.651Z"
   },
   {
    "duration": 0,
    "start_time": "2022-08-24T20:27:39.652Z"
   },
   {
    "duration": 0,
    "start_time": "2022-08-24T20:27:39.653Z"
   },
   {
    "duration": 0,
    "start_time": "2022-08-24T20:27:39.653Z"
   },
   {
    "duration": 0,
    "start_time": "2022-08-24T20:27:39.654Z"
   },
   {
    "duration": 0,
    "start_time": "2022-08-24T20:27:39.656Z"
   },
   {
    "duration": 0,
    "start_time": "2022-08-24T20:27:39.657Z"
   },
   {
    "duration": 0,
    "start_time": "2022-08-24T20:27:39.658Z"
   },
   {
    "duration": 0,
    "start_time": "2022-08-24T20:27:39.659Z"
   },
   {
    "duration": 0,
    "start_time": "2022-08-24T20:27:39.660Z"
   },
   {
    "duration": 0,
    "start_time": "2022-08-24T20:27:39.661Z"
   },
   {
    "duration": 0,
    "start_time": "2022-08-24T20:27:39.692Z"
   },
   {
    "duration": 0,
    "start_time": "2022-08-24T20:27:39.694Z"
   },
   {
    "duration": 0,
    "start_time": "2022-08-24T20:27:39.695Z"
   },
   {
    "duration": 0,
    "start_time": "2022-08-24T20:27:39.696Z"
   },
   {
    "duration": 0,
    "start_time": "2022-08-24T20:27:39.697Z"
   },
   {
    "duration": 0,
    "start_time": "2022-08-24T20:27:39.698Z"
   },
   {
    "duration": 0,
    "start_time": "2022-08-24T20:27:39.699Z"
   },
   {
    "duration": 0,
    "start_time": "2022-08-24T20:27:39.700Z"
   },
   {
    "duration": 0,
    "start_time": "2022-08-24T20:27:39.702Z"
   },
   {
    "duration": 470,
    "start_time": "2022-08-24T20:40:22.270Z"
   },
   {
    "duration": 13,
    "start_time": "2022-08-24T20:40:31.864Z"
   },
   {
    "duration": 11,
    "start_time": "2022-08-24T20:41:10.672Z"
   },
   {
    "duration": 50,
    "start_time": "2022-08-25T15:09:34.870Z"
   },
   {
    "duration": 7,
    "start_time": "2022-08-25T15:09:47.390Z"
   },
   {
    "duration": 742,
    "start_time": "2022-08-25T15:10:12.128Z"
   },
   {
    "duration": 4,
    "start_time": "2022-08-25T15:10:12.871Z"
   },
   {
    "duration": 28,
    "start_time": "2022-08-25T15:10:12.876Z"
   },
   {
    "duration": 14,
    "start_time": "2022-08-25T15:10:12.907Z"
   },
   {
    "duration": 3,
    "start_time": "2022-08-25T15:10:12.923Z"
   },
   {
    "duration": 7,
    "start_time": "2022-08-25T15:10:12.927Z"
   },
   {
    "duration": 11,
    "start_time": "2022-08-25T15:10:12.936Z"
   },
   {
    "duration": 6,
    "start_time": "2022-08-25T15:10:12.948Z"
   },
   {
    "duration": 34,
    "start_time": "2022-08-25T15:10:12.956Z"
   },
   {
    "duration": 2,
    "start_time": "2022-08-25T15:10:12.992Z"
   },
   {
    "duration": 6,
    "start_time": "2022-08-25T15:10:12.995Z"
   },
   {
    "duration": 8,
    "start_time": "2022-08-25T15:10:13.002Z"
   },
   {
    "duration": 12,
    "start_time": "2022-08-25T15:10:13.011Z"
   },
   {
    "duration": 8,
    "start_time": "2022-08-25T15:10:13.024Z"
   },
   {
    "duration": 7,
    "start_time": "2022-08-25T15:10:13.033Z"
   },
   {
    "duration": 5,
    "start_time": "2022-08-25T15:10:13.041Z"
   },
   {
    "duration": 6,
    "start_time": "2022-08-25T15:10:13.047Z"
   },
   {
    "duration": 74,
    "start_time": "2022-08-25T15:10:14.405Z"
   },
   {
    "duration": 9,
    "start_time": "2022-08-25T15:10:28.679Z"
   },
   {
    "duration": 15,
    "start_time": "2022-08-25T15:11:04.494Z"
   },
   {
    "duration": 42,
    "start_time": "2022-08-25T15:14:24.726Z"
   },
   {
    "duration": 295,
    "start_time": "2022-08-25T15:14:58.217Z"
   },
   {
    "duration": 60,
    "start_time": "2022-08-25T15:16:44.208Z"
   },
   {
    "duration": 175,
    "start_time": "2022-08-25T15:18:04.458Z"
   },
   {
    "duration": 45,
    "start_time": "2022-08-25T15:20:46.604Z"
   },
   {
    "duration": 9,
    "start_time": "2022-08-25T15:20:50.875Z"
   },
   {
    "duration": 294,
    "start_time": "2022-08-25T15:20:56.797Z"
   },
   {
    "duration": 214,
    "start_time": "2022-08-25T15:21:43.604Z"
   },
   {
    "duration": 6,
    "start_time": "2022-08-25T15:22:03.414Z"
   },
   {
    "duration": 52,
    "start_time": "2022-08-25T15:23:39.786Z"
   },
   {
    "duration": 280,
    "start_time": "2022-08-25T15:23:50.961Z"
   },
   {
    "duration": 4,
    "start_time": "2022-08-25T15:26:00.323Z"
   },
   {
    "duration": 3,
    "start_time": "2022-08-25T15:26:15.559Z"
   },
   {
    "duration": 7,
    "start_time": "2022-08-25T15:26:35.708Z"
   },
   {
    "duration": 4,
    "start_time": "2022-08-25T15:27:18.684Z"
   },
   {
    "duration": 4,
    "start_time": "2022-08-25T15:27:34.767Z"
   },
   {
    "duration": 14,
    "start_time": "2022-08-25T15:27:47.267Z"
   },
   {
    "duration": 16,
    "start_time": "2022-08-25T15:28:21.050Z"
   },
   {
    "duration": 8,
    "start_time": "2022-08-25T15:29:12.982Z"
   },
   {
    "duration": 56,
    "start_time": "2022-08-25T15:31:26.651Z"
   },
   {
    "duration": 7,
    "start_time": "2022-08-25T15:31:37.629Z"
   },
   {
    "duration": 9,
    "start_time": "2022-08-25T15:33:00.732Z"
   },
   {
    "duration": 10,
    "start_time": "2022-08-25T15:33:03.877Z"
   },
   {
    "duration": 8,
    "start_time": "2022-08-25T15:33:17.410Z"
   },
   {
    "duration": 9,
    "start_time": "2022-08-25T15:36:01.914Z"
   },
   {
    "duration": 12,
    "start_time": "2022-08-25T15:36:18.398Z"
   },
   {
    "duration": 8,
    "start_time": "2022-08-25T15:36:26.990Z"
   },
   {
    "duration": 9,
    "start_time": "2022-08-25T15:37:30.046Z"
   },
   {
    "duration": 10,
    "start_time": "2022-08-25T15:38:42.053Z"
   },
   {
    "duration": 6,
    "start_time": "2022-08-25T15:39:18.039Z"
   },
   {
    "duration": 4,
    "start_time": "2022-08-25T15:39:20.810Z"
   },
   {
    "duration": 4,
    "start_time": "2022-08-25T15:39:27.656Z"
   },
   {
    "duration": 5,
    "start_time": "2022-08-25T15:39:47.869Z"
   },
   {
    "duration": 51,
    "start_time": "2022-08-25T15:40:52.479Z"
   },
   {
    "duration": 70,
    "start_time": "2022-08-25T15:40:58.224Z"
   },
   {
    "duration": 9,
    "start_time": "2022-08-25T15:41:06.539Z"
   },
   {
    "duration": 70,
    "start_time": "2022-08-25T15:41:30.626Z"
   },
   {
    "duration": 73,
    "start_time": "2022-08-25T15:41:51.471Z"
   },
   {
    "duration": 5,
    "start_time": "2022-08-25T15:42:37.366Z"
   },
   {
    "duration": 9,
    "start_time": "2022-08-25T15:43:15.548Z"
   },
   {
    "duration": 5,
    "start_time": "2022-08-25T15:43:20.832Z"
   },
   {
    "duration": 6,
    "start_time": "2022-08-25T15:43:37.451Z"
   },
   {
    "duration": 111,
    "start_time": "2022-08-25T17:06:59.946Z"
   },
   {
    "duration": 56,
    "start_time": "2022-08-25T17:07:35.300Z"
   },
   {
    "duration": 57,
    "start_time": "2022-08-25T17:07:58.436Z"
   },
   {
    "duration": 550,
    "start_time": "2022-08-25T17:08:33.141Z"
   },
   {
    "duration": 4,
    "start_time": "2022-08-25T17:08:33.693Z"
   },
   {
    "duration": 21,
    "start_time": "2022-08-25T17:08:33.699Z"
   },
   {
    "duration": 14,
    "start_time": "2022-08-25T17:08:33.722Z"
   },
   {
    "duration": 3,
    "start_time": "2022-08-25T17:08:33.738Z"
   },
   {
    "duration": 6,
    "start_time": "2022-08-25T17:08:33.743Z"
   },
   {
    "duration": 7,
    "start_time": "2022-08-25T17:08:33.750Z"
   },
   {
    "duration": 6,
    "start_time": "2022-08-25T17:08:33.759Z"
   },
   {
    "duration": 7,
    "start_time": "2022-08-25T17:08:35.616Z"
   },
   {
    "duration": 7,
    "start_time": "2022-08-25T17:09:16.411Z"
   },
   {
    "duration": 18,
    "start_time": "2022-08-25T17:12:21.307Z"
   },
   {
    "duration": 7,
    "start_time": "2022-08-25T17:17:05.758Z"
   },
   {
    "duration": 68,
    "start_time": "2022-08-25T17:19:10.140Z"
   },
   {
    "duration": 5,
    "start_time": "2022-08-25T17:19:18.260Z"
   },
   {
    "duration": 6,
    "start_time": "2022-08-25T17:20:45.464Z"
   },
   {
    "duration": 6,
    "start_time": "2022-08-25T17:21:05.312Z"
   },
   {
    "duration": 8,
    "start_time": "2022-08-25T17:21:17.564Z"
   },
   {
    "duration": 6,
    "start_time": "2022-08-25T17:21:20.133Z"
   },
   {
    "duration": 4,
    "start_time": "2022-08-25T17:21:30.380Z"
   },
   {
    "duration": 4,
    "start_time": "2022-08-25T17:22:51.070Z"
   },
   {
    "duration": 4,
    "start_time": "2022-08-25T17:22:56.019Z"
   },
   {
    "duration": 10,
    "start_time": "2022-08-25T17:23:37.247Z"
   },
   {
    "duration": 10,
    "start_time": "2022-08-25T17:23:41.358Z"
   },
   {
    "duration": 8,
    "start_time": "2022-08-25T17:24:02.891Z"
   },
   {
    "duration": 11,
    "start_time": "2022-08-25T17:24:46.340Z"
   },
   {
    "duration": 491,
    "start_time": "2022-08-25T17:25:01.274Z"
   },
   {
    "duration": 4,
    "start_time": "2022-08-25T17:25:01.767Z"
   },
   {
    "duration": 40,
    "start_time": "2022-08-25T17:25:01.773Z"
   },
   {
    "duration": 41,
    "start_time": "2022-08-25T17:25:01.815Z"
   },
   {
    "duration": 50,
    "start_time": "2022-08-25T17:25:01.858Z"
   },
   {
    "duration": 30,
    "start_time": "2022-08-25T17:25:01.910Z"
   },
   {
    "duration": 51,
    "start_time": "2022-08-25T17:25:01.941Z"
   },
   {
    "duration": 30,
    "start_time": "2022-08-25T17:25:01.993Z"
   },
   {
    "duration": 17,
    "start_time": "2022-08-25T17:25:02.024Z"
   },
   {
    "duration": 32,
    "start_time": "2022-08-25T17:25:02.044Z"
   },
   {
    "duration": 29,
    "start_time": "2022-08-25T17:25:02.078Z"
   },
   {
    "duration": 23,
    "start_time": "2022-08-25T17:25:02.108Z"
   },
   {
    "duration": 20,
    "start_time": "2022-08-25T17:25:02.132Z"
   },
   {
    "duration": 21,
    "start_time": "2022-08-25T17:25:02.153Z"
   },
   {
    "duration": 26,
    "start_time": "2022-08-25T17:25:02.176Z"
   },
   {
    "duration": 12,
    "start_time": "2022-08-25T17:25:02.204Z"
   },
   {
    "duration": 31,
    "start_time": "2022-08-25T17:25:02.217Z"
   },
   {
    "duration": 15,
    "start_time": "2022-08-25T17:25:02.249Z"
   },
   {
    "duration": 13,
    "start_time": "2022-08-25T17:25:02.266Z"
   },
   {
    "duration": 20,
    "start_time": "2022-08-25T17:25:02.280Z"
   },
   {
    "duration": 13,
    "start_time": "2022-08-25T17:25:02.302Z"
   },
   {
    "duration": 11,
    "start_time": "2022-08-25T17:25:02.317Z"
   },
   {
    "duration": 16,
    "start_time": "2022-08-25T17:25:02.329Z"
   },
   {
    "duration": 17,
    "start_time": "2022-08-25T17:25:02.347Z"
   },
   {
    "duration": 18,
    "start_time": "2022-08-25T17:25:02.366Z"
   },
   {
    "duration": 25,
    "start_time": "2022-08-25T17:25:02.386Z"
   },
   {
    "duration": 24,
    "start_time": "2022-08-25T17:25:02.413Z"
   },
   {
    "duration": 8,
    "start_time": "2022-08-25T17:25:02.443Z"
   },
   {
    "duration": 21,
    "start_time": "2022-08-25T17:25:02.452Z"
   },
   {
    "duration": 28,
    "start_time": "2022-08-25T17:25:02.475Z"
   },
   {
    "duration": 39,
    "start_time": "2022-08-25T17:25:02.506Z"
   },
   {
    "duration": 30,
    "start_time": "2022-08-25T17:25:02.547Z"
   },
   {
    "duration": 33,
    "start_time": "2022-08-25T17:25:02.579Z"
   },
   {
    "duration": 38,
    "start_time": "2022-08-25T17:25:02.614Z"
   },
   {
    "duration": 25,
    "start_time": "2022-08-25T17:25:02.654Z"
   },
   {
    "duration": 35,
    "start_time": "2022-08-25T17:25:02.681Z"
   },
   {
    "duration": 11,
    "start_time": "2022-08-25T17:25:02.718Z"
   },
   {
    "duration": 17,
    "start_time": "2022-08-25T17:25:02.730Z"
   },
   {
    "duration": 14,
    "start_time": "2022-08-25T17:25:02.749Z"
   },
   {
    "duration": 23,
    "start_time": "2022-08-25T17:25:02.764Z"
   },
   {
    "duration": 20,
    "start_time": "2022-08-25T17:25:02.788Z"
   },
   {
    "duration": 49,
    "start_time": "2022-08-25T17:25:02.810Z"
   },
   {
    "duration": 27,
    "start_time": "2022-08-25T17:25:02.861Z"
   },
   {
    "duration": 30,
    "start_time": "2022-08-25T17:25:02.890Z"
   },
   {
    "duration": 4,
    "start_time": "2022-08-25T17:25:02.922Z"
   },
   {
    "duration": 70,
    "start_time": "2022-08-25T17:25:02.927Z"
   },
   {
    "duration": 0,
    "start_time": "2022-08-25T17:25:02.999Z"
   },
   {
    "duration": 0,
    "start_time": "2022-08-25T17:25:03.000Z"
   },
   {
    "duration": 0,
    "start_time": "2022-08-25T17:25:03.010Z"
   },
   {
    "duration": 0,
    "start_time": "2022-08-25T17:25:03.011Z"
   },
   {
    "duration": 0,
    "start_time": "2022-08-25T17:25:03.012Z"
   },
   {
    "duration": 0,
    "start_time": "2022-08-25T17:25:03.013Z"
   },
   {
    "duration": 0,
    "start_time": "2022-08-25T17:25:03.014Z"
   },
   {
    "duration": 0,
    "start_time": "2022-08-25T17:25:03.016Z"
   },
   {
    "duration": 0,
    "start_time": "2022-08-25T17:25:03.017Z"
   },
   {
    "duration": 0,
    "start_time": "2022-08-25T17:25:03.018Z"
   },
   {
    "duration": 0,
    "start_time": "2022-08-25T17:25:03.019Z"
   },
   {
    "duration": 0,
    "start_time": "2022-08-25T17:25:03.020Z"
   },
   {
    "duration": 0,
    "start_time": "2022-08-25T17:25:03.021Z"
   },
   {
    "duration": 0,
    "start_time": "2022-08-25T17:25:03.023Z"
   },
   {
    "duration": 0,
    "start_time": "2022-08-25T17:25:03.024Z"
   },
   {
    "duration": 0,
    "start_time": "2022-08-25T17:25:03.025Z"
   },
   {
    "duration": 0,
    "start_time": "2022-08-25T17:25:03.026Z"
   },
   {
    "duration": 0,
    "start_time": "2022-08-25T17:25:03.027Z"
   },
   {
    "duration": 0,
    "start_time": "2022-08-25T17:25:03.028Z"
   },
   {
    "duration": 0,
    "start_time": "2022-08-25T17:25:03.029Z"
   },
   {
    "duration": 0,
    "start_time": "2022-08-25T17:25:03.031Z"
   },
   {
    "duration": 0,
    "start_time": "2022-08-25T17:25:03.032Z"
   },
   {
    "duration": 1,
    "start_time": "2022-08-25T17:25:03.033Z"
   },
   {
    "duration": 0,
    "start_time": "2022-08-25T17:25:03.034Z"
   },
   {
    "duration": 0,
    "start_time": "2022-08-25T17:25:03.036Z"
   },
   {
    "duration": 8,
    "start_time": "2022-08-25T17:26:04.190Z"
   },
   {
    "duration": 7,
    "start_time": "2022-08-25T17:26:55.299Z"
   },
   {
    "duration": 10,
    "start_time": "2022-08-25T17:27:02.399Z"
   },
   {
    "duration": 5,
    "start_time": "2022-08-25T17:27:08.019Z"
   },
   {
    "duration": 7,
    "start_time": "2022-08-25T17:28:14.599Z"
   },
   {
    "duration": 612,
    "start_time": "2022-08-25T17:28:32.884Z"
   },
   {
    "duration": 4,
    "start_time": "2022-08-25T17:28:33.498Z"
   },
   {
    "duration": 87,
    "start_time": "2022-08-25T17:28:33.509Z"
   },
   {
    "duration": 25,
    "start_time": "2022-08-25T17:28:33.598Z"
   },
   {
    "duration": 3,
    "start_time": "2022-08-25T17:28:33.631Z"
   },
   {
    "duration": 13,
    "start_time": "2022-08-25T17:28:33.636Z"
   },
   {
    "duration": 11,
    "start_time": "2022-08-25T17:28:33.651Z"
   },
   {
    "duration": 14,
    "start_time": "2022-08-25T17:28:33.664Z"
   },
   {
    "duration": 18,
    "start_time": "2022-08-25T17:28:33.680Z"
   },
   {
    "duration": 10,
    "start_time": "2022-08-25T17:28:33.700Z"
   },
   {
    "duration": 5,
    "start_time": "2022-08-25T17:28:33.714Z"
   },
   {
    "duration": 9,
    "start_time": "2022-08-25T17:28:33.721Z"
   },
   {
    "duration": 14,
    "start_time": "2022-08-25T17:28:33.732Z"
   },
   {
    "duration": 14,
    "start_time": "2022-08-25T17:28:33.749Z"
   },
   {
    "duration": 10,
    "start_time": "2022-08-25T17:28:33.765Z"
   },
   {
    "duration": 15,
    "start_time": "2022-08-25T17:28:33.777Z"
   },
   {
    "duration": 8,
    "start_time": "2022-08-25T17:28:33.794Z"
   },
   {
    "duration": 16,
    "start_time": "2022-08-25T17:28:33.804Z"
   },
   {
    "duration": 11,
    "start_time": "2022-08-25T17:28:33.822Z"
   },
   {
    "duration": 10,
    "start_time": "2022-08-25T17:28:33.834Z"
   },
   {
    "duration": 8,
    "start_time": "2022-08-25T17:28:33.846Z"
   },
   {
    "duration": 20,
    "start_time": "2022-08-25T17:28:33.855Z"
   },
   {
    "duration": 17,
    "start_time": "2022-08-25T17:28:33.877Z"
   },
   {
    "duration": 18,
    "start_time": "2022-08-25T17:28:33.896Z"
   },
   {
    "duration": 10,
    "start_time": "2022-08-25T17:28:33.919Z"
   },
   {
    "duration": 29,
    "start_time": "2022-08-25T17:28:33.931Z"
   },
   {
    "duration": 9,
    "start_time": "2022-08-25T17:28:33.962Z"
   },
   {
    "duration": 12,
    "start_time": "2022-08-25T17:28:33.973Z"
   },
   {
    "duration": 19,
    "start_time": "2022-08-25T17:28:33.987Z"
   },
   {
    "duration": 9,
    "start_time": "2022-08-25T17:28:34.008Z"
   },
   {
    "duration": 13,
    "start_time": "2022-08-25T17:28:34.019Z"
   },
   {
    "duration": 10,
    "start_time": "2022-08-25T17:28:34.034Z"
   },
   {
    "duration": 30,
    "start_time": "2022-08-25T17:28:34.046Z"
   },
   {
    "duration": 31,
    "start_time": "2022-08-25T17:28:34.077Z"
   },
   {
    "duration": 16,
    "start_time": "2022-08-25T17:28:34.110Z"
   },
   {
    "duration": 21,
    "start_time": "2022-08-25T17:28:34.128Z"
   },
   {
    "duration": 15,
    "start_time": "2022-08-25T17:28:34.151Z"
   },
   {
    "duration": 9,
    "start_time": "2022-08-25T17:28:34.168Z"
   },
   {
    "duration": 6,
    "start_time": "2022-08-25T17:28:34.179Z"
   },
   {
    "duration": 32,
    "start_time": "2022-08-25T17:28:34.187Z"
   },
   {
    "duration": 9,
    "start_time": "2022-08-25T17:28:34.224Z"
   },
   {
    "duration": 23,
    "start_time": "2022-08-25T17:28:34.235Z"
   },
   {
    "duration": 23,
    "start_time": "2022-08-25T17:28:34.260Z"
   },
   {
    "duration": 52,
    "start_time": "2022-08-25T17:28:34.285Z"
   },
   {
    "duration": 5,
    "start_time": "2022-08-25T17:28:34.339Z"
   },
   {
    "duration": 89,
    "start_time": "2022-08-25T17:28:34.345Z"
   },
   {
    "duration": 0,
    "start_time": "2022-08-25T17:28:34.435Z"
   },
   {
    "duration": 0,
    "start_time": "2022-08-25T17:28:34.437Z"
   },
   {
    "duration": 0,
    "start_time": "2022-08-25T17:28:34.438Z"
   },
   {
    "duration": 0,
    "start_time": "2022-08-25T17:28:34.439Z"
   },
   {
    "duration": 0,
    "start_time": "2022-08-25T17:28:34.440Z"
   },
   {
    "duration": 0,
    "start_time": "2022-08-25T17:28:34.441Z"
   },
   {
    "duration": 0,
    "start_time": "2022-08-25T17:28:34.442Z"
   },
   {
    "duration": 0,
    "start_time": "2022-08-25T17:28:34.443Z"
   },
   {
    "duration": 0,
    "start_time": "2022-08-25T17:28:34.444Z"
   },
   {
    "duration": 0,
    "start_time": "2022-08-25T17:28:34.445Z"
   },
   {
    "duration": 0,
    "start_time": "2022-08-25T17:28:34.446Z"
   },
   {
    "duration": 0,
    "start_time": "2022-08-25T17:28:34.447Z"
   },
   {
    "duration": 0,
    "start_time": "2022-08-25T17:28:34.448Z"
   },
   {
    "duration": 0,
    "start_time": "2022-08-25T17:28:34.450Z"
   },
   {
    "duration": 0,
    "start_time": "2022-08-25T17:28:34.451Z"
   },
   {
    "duration": 0,
    "start_time": "2022-08-25T17:28:34.452Z"
   },
   {
    "duration": 0,
    "start_time": "2022-08-25T17:28:34.454Z"
   },
   {
    "duration": 0,
    "start_time": "2022-08-25T17:28:34.455Z"
   },
   {
    "duration": 0,
    "start_time": "2022-08-25T17:28:34.457Z"
   },
   {
    "duration": 0,
    "start_time": "2022-08-25T17:28:34.459Z"
   },
   {
    "duration": 0,
    "start_time": "2022-08-25T17:28:34.460Z"
   },
   {
    "duration": 0,
    "start_time": "2022-08-25T17:28:34.461Z"
   },
   {
    "duration": 0,
    "start_time": "2022-08-25T17:28:34.462Z"
   },
   {
    "duration": 0,
    "start_time": "2022-08-25T17:28:34.463Z"
   },
   {
    "duration": 0,
    "start_time": "2022-08-25T17:28:34.464Z"
   },
   {
    "duration": 13,
    "start_time": "2022-08-25T17:35:33.486Z"
   },
   {
    "duration": 31,
    "start_time": "2022-08-25T17:38:49.706Z"
   },
   {
    "duration": 15,
    "start_time": "2022-08-25T17:46:24.724Z"
   },
   {
    "duration": 10,
    "start_time": "2022-08-25T17:46:45.358Z"
   },
   {
    "duration": 13,
    "start_time": "2022-08-25T17:47:00.871Z"
   },
   {
    "duration": 676,
    "start_time": "2022-08-25T17:47:39.130Z"
   },
   {
    "duration": 15,
    "start_time": "2022-08-25T17:48:08.581Z"
   },
   {
    "duration": 17,
    "start_time": "2022-08-25T17:48:42.740Z"
   },
   {
    "duration": 42,
    "start_time": "2022-08-25T17:50:31.654Z"
   },
   {
    "duration": 13,
    "start_time": "2022-08-25T17:51:09.525Z"
   },
   {
    "duration": 44,
    "start_time": "2022-08-25T17:59:03.329Z"
   },
   {
    "duration": 6219,
    "start_time": "2022-08-25T17:59:14.211Z"
   },
   {
    "duration": 6603,
    "start_time": "2022-08-25T17:59:28.111Z"
   },
   {
    "duration": 6354,
    "start_time": "2022-08-25T18:00:00.463Z"
   },
   {
    "duration": 6173,
    "start_time": "2022-08-25T18:00:15.586Z"
   },
   {
    "duration": 8,
    "start_time": "2022-08-25T19:01:22.942Z"
   },
   {
    "duration": 6,
    "start_time": "2022-08-25T19:01:33.955Z"
   },
   {
    "duration": 6,
    "start_time": "2022-08-25T19:01:38.945Z"
   },
   {
    "duration": 458,
    "start_time": "2022-08-25T19:01:58.577Z"
   },
   {
    "duration": 4,
    "start_time": "2022-08-25T19:02:05.438Z"
   },
   {
    "duration": 21,
    "start_time": "2022-08-25T19:02:11.403Z"
   },
   {
    "duration": 14,
    "start_time": "2022-08-25T20:22:19.321Z"
   },
   {
    "duration": 4,
    "start_time": "2022-08-25T20:22:23.602Z"
   },
   {
    "duration": 5,
    "start_time": "2022-08-25T20:22:26.275Z"
   },
   {
    "duration": 7,
    "start_time": "2022-08-25T20:22:29.009Z"
   },
   {
    "duration": 7,
    "start_time": "2022-08-25T20:23:04.983Z"
   },
   {
    "duration": 5,
    "start_time": "2022-08-25T20:23:09.908Z"
   },
   {
    "duration": 6,
    "start_time": "2022-08-25T20:24:18.834Z"
   },
   {
    "duration": 5,
    "start_time": "2022-08-25T20:26:22.037Z"
   },
   {
    "duration": 10,
    "start_time": "2022-08-25T20:30:32.659Z"
   },
   {
    "duration": 68,
    "start_time": "2022-08-25T20:30:43.059Z"
   },
   {
    "duration": 40,
    "start_time": "2022-08-25T20:30:48.436Z"
   },
   {
    "duration": 9,
    "start_time": "2022-08-25T20:30:55.647Z"
   },
   {
    "duration": 8,
    "start_time": "2022-08-25T20:31:06.094Z"
   },
   {
    "duration": 46,
    "start_time": "2022-08-25T20:33:28.593Z"
   },
   {
    "duration": 7,
    "start_time": "2022-08-25T20:33:34.432Z"
   },
   {
    "duration": 4,
    "start_time": "2022-08-25T20:34:14.522Z"
   },
   {
    "duration": 8,
    "start_time": "2022-08-25T20:34:51.280Z"
   },
   {
    "duration": 7,
    "start_time": "2022-08-25T20:34:56.294Z"
   },
   {
    "duration": 9,
    "start_time": "2022-08-25T20:36:21.182Z"
   },
   {
    "duration": 6,
    "start_time": "2022-08-25T20:37:30.228Z"
   },
   {
    "duration": 9,
    "start_time": "2022-08-25T20:38:39.989Z"
   },
   {
    "duration": 7,
    "start_time": "2022-08-25T20:38:42.106Z"
   },
   {
    "duration": 4,
    "start_time": "2022-08-25T20:38:47.472Z"
   },
   {
    "duration": 6,
    "start_time": "2022-08-25T20:39:37.898Z"
   },
   {
    "duration": 7,
    "start_time": "2022-08-25T20:40:05.133Z"
   },
   {
    "duration": 5,
    "start_time": "2022-08-25T20:50:18.593Z"
   },
   {
    "duration": 6,
    "start_time": "2022-08-25T20:50:19.735Z"
   },
   {
    "duration": 21,
    "start_time": "2022-08-25T20:56:28.965Z"
   },
   {
    "duration": 18,
    "start_time": "2022-08-25T20:56:46.153Z"
   },
   {
    "duration": 22,
    "start_time": "2022-08-25T20:57:00.227Z"
   },
   {
    "duration": 8,
    "start_time": "2022-08-25T20:57:09.091Z"
   },
   {
    "duration": 8,
    "start_time": "2022-08-25T20:57:21.736Z"
   },
   {
    "duration": 439,
    "start_time": "2022-08-25T20:58:16.149Z"
   },
   {
    "duration": 3,
    "start_time": "2022-08-25T20:58:16.591Z"
   },
   {
    "duration": 31,
    "start_time": "2022-08-25T20:58:16.595Z"
   },
   {
    "duration": 17,
    "start_time": "2022-08-25T20:58:16.628Z"
   },
   {
    "duration": 4,
    "start_time": "2022-08-25T20:58:16.647Z"
   },
   {
    "duration": 8,
    "start_time": "2022-08-25T20:58:16.653Z"
   },
   {
    "duration": 8,
    "start_time": "2022-08-25T20:58:16.663Z"
   },
   {
    "duration": 10,
    "start_time": "2022-08-25T20:58:16.672Z"
   },
   {
    "duration": 30,
    "start_time": "2022-08-25T20:58:16.684Z"
   },
   {
    "duration": 16,
    "start_time": "2022-08-25T20:58:16.716Z"
   },
   {
    "duration": 14,
    "start_time": "2022-08-25T20:58:16.733Z"
   },
   {
    "duration": 7,
    "start_time": "2022-08-25T20:58:16.750Z"
   },
   {
    "duration": 11,
    "start_time": "2022-08-25T20:58:16.759Z"
   },
   {
    "duration": 6,
    "start_time": "2022-08-25T20:58:16.772Z"
   },
   {
    "duration": 6,
    "start_time": "2022-08-25T20:58:16.780Z"
   },
   {
    "duration": 26,
    "start_time": "2022-08-25T20:58:16.787Z"
   },
   {
    "duration": 14,
    "start_time": "2022-08-25T20:58:16.815Z"
   },
   {
    "duration": 91,
    "start_time": "2022-08-25T20:58:43.627Z"
   },
   {
    "duration": 6,
    "start_time": "2022-08-25T20:59:20.053Z"
   },
   {
    "duration": 6,
    "start_time": "2022-08-25T20:59:46.444Z"
   },
   {
    "duration": 15,
    "start_time": "2022-08-25T21:00:35.908Z"
   },
   {
    "duration": 8,
    "start_time": "2022-08-25T21:00:52.834Z"
   },
   {
    "duration": 6,
    "start_time": "2022-08-25T21:09:09.779Z"
   },
   {
    "duration": 4,
    "start_time": "2022-08-25T21:09:54.737Z"
   },
   {
    "duration": 4,
    "start_time": "2022-08-25T21:11:18.576Z"
   },
   {
    "duration": 464,
    "start_time": "2022-08-25T21:11:46.924Z"
   },
   {
    "duration": 4,
    "start_time": "2022-08-25T21:11:47.389Z"
   },
   {
    "duration": 33,
    "start_time": "2022-08-25T21:11:47.394Z"
   },
   {
    "duration": 19,
    "start_time": "2022-08-25T21:11:47.429Z"
   },
   {
    "duration": 4,
    "start_time": "2022-08-25T21:11:47.450Z"
   },
   {
    "duration": 13,
    "start_time": "2022-08-25T21:11:47.456Z"
   },
   {
    "duration": 8,
    "start_time": "2022-08-25T21:11:47.471Z"
   },
   {
    "duration": 7,
    "start_time": "2022-08-25T21:11:47.481Z"
   },
   {
    "duration": 8,
    "start_time": "2022-08-25T21:11:47.489Z"
   },
   {
    "duration": 17,
    "start_time": "2022-08-25T21:11:47.498Z"
   },
   {
    "duration": 21,
    "start_time": "2022-08-25T21:11:47.517Z"
   },
   {
    "duration": 5,
    "start_time": "2022-08-25T21:11:47.540Z"
   },
   {
    "duration": 9,
    "start_time": "2022-08-25T21:11:47.546Z"
   },
   {
    "duration": 8,
    "start_time": "2022-08-25T21:11:47.557Z"
   },
   {
    "duration": 6,
    "start_time": "2022-08-25T21:11:47.567Z"
   },
   {
    "duration": 4,
    "start_time": "2022-08-25T21:11:47.575Z"
   },
   {
    "duration": 7,
    "start_time": "2022-08-25T21:11:47.580Z"
   },
   {
    "duration": 30,
    "start_time": "2022-08-25T21:11:47.588Z"
   },
   {
    "duration": 15,
    "start_time": "2022-08-25T21:11:47.619Z"
   },
   {
    "duration": 8,
    "start_time": "2022-08-25T21:11:47.635Z"
   },
   {
    "duration": 5,
    "start_time": "2022-08-25T21:11:56.330Z"
   },
   {
    "duration": 5,
    "start_time": "2022-08-25T21:12:14.735Z"
   },
   {
    "duration": 16,
    "start_time": "2022-08-25T21:13:00.839Z"
   },
   {
    "duration": 7,
    "start_time": "2022-08-25T21:13:13.442Z"
   },
   {
    "duration": 8,
    "start_time": "2022-08-25T21:13:25.530Z"
   },
   {
    "duration": 6,
    "start_time": "2022-08-25T21:15:47.132Z"
   },
   {
    "duration": 14,
    "start_time": "2022-08-25T21:17:07.596Z"
   },
   {
    "duration": 3,
    "start_time": "2022-08-25T21:18:08.660Z"
   },
   {
    "duration": 7,
    "start_time": "2022-08-25T21:18:12.126Z"
   },
   {
    "duration": 9,
    "start_time": "2022-08-25T21:19:24.164Z"
   },
   {
    "duration": 4,
    "start_time": "2022-08-25T21:20:09.033Z"
   },
   {
    "duration": 6,
    "start_time": "2022-08-25T21:20:09.832Z"
   },
   {
    "duration": 5,
    "start_time": "2022-08-25T21:20:21.683Z"
   },
   {
    "duration": 4,
    "start_time": "2022-08-25T21:20:43.806Z"
   },
   {
    "duration": 5,
    "start_time": "2022-08-25T21:20:44.467Z"
   },
   {
    "duration": 18,
    "start_time": "2022-08-25T21:21:15.638Z"
   },
   {
    "duration": 33,
    "start_time": "2022-08-25T21:21:28.091Z"
   },
   {
    "duration": 15,
    "start_time": "2022-08-25T21:21:36.028Z"
   },
   {
    "duration": 13,
    "start_time": "2022-08-25T21:22:10.966Z"
   },
   {
    "duration": 11,
    "start_time": "2022-08-25T21:22:47.852Z"
   },
   {
    "duration": 16,
    "start_time": "2022-08-25T21:23:54.289Z"
   },
   {
    "duration": 14,
    "start_time": "2022-08-25T21:24:22.268Z"
   },
   {
    "duration": 3,
    "start_time": "2022-08-25T21:27:36.694Z"
   },
   {
    "duration": 2,
    "start_time": "2022-08-25T21:27:37.881Z"
   },
   {
    "duration": 7,
    "start_time": "2022-08-25T21:27:46.206Z"
   },
   {
    "duration": 8,
    "start_time": "2022-08-25T21:27:51.454Z"
   },
   {
    "duration": 15,
    "start_time": "2022-08-25T21:29:04.226Z"
   },
   {
    "duration": 6,
    "start_time": "2022-08-25T21:30:29.387Z"
   },
   {
    "duration": 14,
    "start_time": "2022-08-25T21:31:59.680Z"
   },
   {
    "duration": 4,
    "start_time": "2022-08-25T21:32:16.182Z"
   },
   {
    "duration": 4,
    "start_time": "2022-08-25T21:32:26.183Z"
   },
   {
    "duration": 30,
    "start_time": "2022-08-25T21:32:51.559Z"
   },
   {
    "duration": 5,
    "start_time": "2022-08-25T21:33:05.874Z"
   },
   {
    "duration": 50,
    "start_time": "2022-08-26T16:28:15.049Z"
   },
   {
    "duration": 508,
    "start_time": "2022-08-26T16:28:35.055Z"
   },
   {
    "duration": 3,
    "start_time": "2022-08-26T16:28:35.565Z"
   },
   {
    "duration": 21,
    "start_time": "2022-08-26T16:28:35.569Z"
   },
   {
    "duration": 14,
    "start_time": "2022-08-26T16:28:35.592Z"
   },
   {
    "duration": 3,
    "start_time": "2022-08-26T16:28:35.607Z"
   },
   {
    "duration": 8,
    "start_time": "2022-08-26T16:28:35.611Z"
   },
   {
    "duration": 5,
    "start_time": "2022-08-26T16:28:36.863Z"
   },
   {
    "duration": 7,
    "start_time": "2022-08-26T16:28:54.666Z"
   },
   {
    "duration": 6,
    "start_time": "2022-08-26T16:29:43.902Z"
   },
   {
    "duration": 8,
    "start_time": "2022-08-26T16:30:34.795Z"
   },
   {
    "duration": 10,
    "start_time": "2022-08-26T16:31:00.265Z"
   },
   {
    "duration": 10,
    "start_time": "2022-08-26T16:31:53.606Z"
   },
   {
    "duration": 11,
    "start_time": "2022-08-26T16:32:32.300Z"
   },
   {
    "duration": 5,
    "start_time": "2022-08-26T16:33:12.937Z"
   },
   {
    "duration": 10,
    "start_time": "2022-08-26T16:34:37.079Z"
   },
   {
    "duration": 6,
    "start_time": "2022-08-26T16:34:38.536Z"
   },
   {
    "duration": 7,
    "start_time": "2022-08-26T16:35:09.111Z"
   },
   {
    "duration": 4,
    "start_time": "2022-08-26T16:37:03.501Z"
   },
   {
    "duration": 4,
    "start_time": "2022-08-26T16:37:04.117Z"
   },
   {
    "duration": 9,
    "start_time": "2022-08-26T16:42:19.173Z"
   },
   {
    "duration": 4,
    "start_time": "2022-08-26T16:44:39.895Z"
   },
   {
    "duration": 4,
    "start_time": "2022-08-26T16:44:54.048Z"
   },
   {
    "duration": 4,
    "start_time": "2022-08-26T16:44:57.198Z"
   },
   {
    "duration": 4,
    "start_time": "2022-08-26T16:45:10.535Z"
   },
   {
    "duration": 6,
    "start_time": "2022-08-26T16:48:22.799Z"
   },
   {
    "duration": 6,
    "start_time": "2022-08-26T16:48:47.459Z"
   },
   {
    "duration": 11,
    "start_time": "2022-08-26T16:49:18.335Z"
   },
   {
    "duration": 6,
    "start_time": "2022-08-26T16:51:40.974Z"
   },
   {
    "duration": 5,
    "start_time": "2022-08-26T16:52:12.404Z"
   },
   {
    "duration": 5,
    "start_time": "2022-08-26T16:52:29.633Z"
   },
   {
    "duration": 5,
    "start_time": "2022-08-26T16:53:09.593Z"
   },
   {
    "duration": 2,
    "start_time": "2022-08-26T16:55:35.871Z"
   },
   {
    "duration": 2,
    "start_time": "2022-08-26T16:55:36.500Z"
   },
   {
    "duration": 9,
    "start_time": "2022-08-26T16:55:39.792Z"
   },
   {
    "duration": 5,
    "start_time": "2022-08-26T16:57:14.746Z"
   },
   {
    "duration": 4,
    "start_time": "2022-08-26T16:57:17.894Z"
   },
   {
    "duration": 5,
    "start_time": "2022-08-26T16:57:18.655Z"
   },
   {
    "duration": 5,
    "start_time": "2022-08-26T16:58:39.764Z"
   },
   {
    "duration": 4,
    "start_time": "2022-08-26T17:00:06.098Z"
   },
   {
    "duration": 5,
    "start_time": "2022-08-26T17:00:06.664Z"
   },
   {
    "duration": 17,
    "start_time": "2022-08-26T17:00:12.902Z"
   },
   {
    "duration": 35,
    "start_time": "2022-08-26T17:00:16.679Z"
   },
   {
    "duration": 29,
    "start_time": "2022-08-26T17:01:47.180Z"
   },
   {
    "duration": 19,
    "start_time": "2022-08-26T17:02:34.604Z"
   },
   {
    "duration": 14,
    "start_time": "2022-08-26T17:03:04.228Z"
   },
   {
    "duration": 13,
    "start_time": "2022-08-26T17:03:51.427Z"
   },
   {
    "duration": 13,
    "start_time": "2022-08-26T17:07:26.580Z"
   },
   {
    "duration": 13,
    "start_time": "2022-08-26T17:09:35.920Z"
   },
   {
    "duration": 3,
    "start_time": "2022-08-26T17:10:40.385Z"
   },
   {
    "duration": 3,
    "start_time": "2022-08-26T17:10:56.890Z"
   },
   {
    "duration": 3,
    "start_time": "2022-08-26T17:11:12.091Z"
   },
   {
    "duration": 7,
    "start_time": "2022-08-26T17:11:51.269Z"
   },
   {
    "duration": 7,
    "start_time": "2022-08-26T17:11:51.861Z"
   },
   {
    "duration": 4,
    "start_time": "2022-08-26T17:12:59.157Z"
   },
   {
    "duration": 30,
    "start_time": "2022-08-26T17:17:52.243Z"
   },
   {
    "duration": 29,
    "start_time": "2022-08-26T17:24:13.815Z"
   },
   {
    "duration": 18,
    "start_time": "2022-08-26T17:26:38.244Z"
   },
   {
    "duration": 19,
    "start_time": "2022-08-26T17:26:48.119Z"
   },
   {
    "duration": 20,
    "start_time": "2022-08-26T17:28:40.930Z"
   },
   {
    "duration": 14,
    "start_time": "2022-08-26T17:29:01.778Z"
   },
   {
    "duration": 11,
    "start_time": "2022-08-26T17:29:13.134Z"
   },
   {
    "duration": 13,
    "start_time": "2022-08-26T17:29:27.020Z"
   },
   {
    "duration": 14,
    "start_time": "2022-08-26T17:29:41.530Z"
   },
   {
    "duration": 6268,
    "start_time": "2022-08-26T17:34:41.133Z"
   },
   {
    "duration": 4,
    "start_time": "2022-08-26T17:43:23.034Z"
   },
   {
    "duration": 3,
    "start_time": "2022-08-26T17:43:57.828Z"
   },
   {
    "duration": 6485,
    "start_time": "2022-08-26T17:43:57.833Z"
   },
   {
    "duration": 4,
    "start_time": "2022-08-26T17:44:09.968Z"
   },
   {
    "duration": 4,
    "start_time": "2022-08-26T17:44:17.808Z"
   },
   {
    "duration": 67,
    "start_time": "2022-08-26T17:44:49.384Z"
   },
   {
    "duration": 7,
    "start_time": "2022-08-26T17:45:00.366Z"
   },
   {
    "duration": 4,
    "start_time": "2022-08-26T17:45:05.162Z"
   },
   {
    "duration": 2,
    "start_time": "2022-08-26T17:49:13.962Z"
   },
   {
    "duration": 6381,
    "start_time": "2022-08-26T17:53:28.267Z"
   },
   {
    "duration": 4,
    "start_time": "2022-08-26T17:53:44.733Z"
   },
   {
    "duration": 14,
    "start_time": "2022-08-26T17:54:39.359Z"
   },
   {
    "duration": 18,
    "start_time": "2022-08-26T17:56:28.659Z"
   },
   {
    "duration": 16,
    "start_time": "2022-08-26T17:56:47.818Z"
   },
   {
    "duration": 13,
    "start_time": "2022-08-26T17:57:13.987Z"
   },
   {
    "duration": 801,
    "start_time": "2022-08-26T17:57:27.389Z"
   },
   {
    "duration": 7,
    "start_time": "2022-08-26T17:59:38.552Z"
   },
   {
    "duration": 8,
    "start_time": "2022-08-26T18:00:19.480Z"
   },
   {
    "duration": 4,
    "start_time": "2022-08-26T18:00:25.288Z"
   },
   {
    "duration": 4,
    "start_time": "2022-08-26T18:01:59.110Z"
   },
   {
    "duration": 5,
    "start_time": "2022-08-26T18:02:04.985Z"
   },
   {
    "duration": 6,
    "start_time": "2022-08-26T18:02:13.491Z"
   },
   {
    "duration": 7,
    "start_time": "2022-08-26T18:02:34.545Z"
   },
   {
    "duration": 5,
    "start_time": "2022-08-26T18:02:53.007Z"
   },
   {
    "duration": 9,
    "start_time": "2022-08-26T18:03:16.504Z"
   },
   {
    "duration": 14,
    "start_time": "2022-08-26T18:06:49.571Z"
   },
   {
    "duration": 9,
    "start_time": "2022-08-26T18:06:55.779Z"
   },
   {
    "duration": 13,
    "start_time": "2022-08-26T18:07:03.783Z"
   },
   {
    "duration": 9,
    "start_time": "2022-08-26T18:08:50.369Z"
   },
   {
    "duration": 34,
    "start_time": "2022-08-26T18:08:56.725Z"
   },
   {
    "duration": 4,
    "start_time": "2022-08-26T18:09:38.755Z"
   },
   {
    "duration": 9,
    "start_time": "2022-08-26T18:09:42.939Z"
   },
   {
    "duration": 16,
    "start_time": "2022-08-26T18:10:10.596Z"
   },
   {
    "duration": 478,
    "start_time": "2022-08-26T18:10:36.163Z"
   },
   {
    "duration": 4,
    "start_time": "2022-08-26T18:10:36.643Z"
   },
   {
    "duration": 42,
    "start_time": "2022-08-26T18:10:36.649Z"
   },
   {
    "duration": 28,
    "start_time": "2022-08-26T18:10:36.693Z"
   },
   {
    "duration": 3,
    "start_time": "2022-08-26T18:10:36.723Z"
   },
   {
    "duration": 9,
    "start_time": "2022-08-26T18:10:36.727Z"
   },
   {
    "duration": 4,
    "start_time": "2022-08-26T18:10:36.738Z"
   },
   {
    "duration": 9,
    "start_time": "2022-08-26T18:10:36.744Z"
   },
   {
    "duration": 9,
    "start_time": "2022-08-26T18:10:36.755Z"
   },
   {
    "duration": 32,
    "start_time": "2022-08-26T18:10:36.766Z"
   },
   {
    "duration": 14,
    "start_time": "2022-08-26T18:10:36.800Z"
   },
   {
    "duration": 6,
    "start_time": "2022-08-26T18:10:36.815Z"
   },
   {
    "duration": 10,
    "start_time": "2022-08-26T18:10:36.822Z"
   },
   {
    "duration": 9,
    "start_time": "2022-08-26T18:10:36.834Z"
   },
   {
    "duration": 8,
    "start_time": "2022-08-26T18:10:36.844Z"
   },
   {
    "duration": 45,
    "start_time": "2022-08-26T18:10:36.853Z"
   },
   {
    "duration": 12,
    "start_time": "2022-08-26T18:10:36.900Z"
   },
   {
    "duration": 11,
    "start_time": "2022-08-26T18:10:36.914Z"
   },
   {
    "duration": 5,
    "start_time": "2022-08-26T18:10:36.926Z"
   },
   {
    "duration": 7,
    "start_time": "2022-08-26T18:10:36.933Z"
   },
   {
    "duration": 8,
    "start_time": "2022-08-26T18:10:36.941Z"
   },
   {
    "duration": 18,
    "start_time": "2022-08-26T18:10:36.951Z"
   },
   {
    "duration": 28,
    "start_time": "2022-08-26T18:10:36.971Z"
   },
   {
    "duration": 5,
    "start_time": "2022-08-26T18:10:37.001Z"
   },
   {
    "duration": 11,
    "start_time": "2022-08-26T18:10:37.007Z"
   },
   {
    "duration": 10,
    "start_time": "2022-08-26T18:10:37.019Z"
   },
   {
    "duration": 18,
    "start_time": "2022-08-26T18:10:37.031Z"
   },
   {
    "duration": 10,
    "start_time": "2022-08-26T18:10:37.051Z"
   },
   {
    "duration": 10,
    "start_time": "2022-08-26T18:10:37.063Z"
   },
   {
    "duration": 11,
    "start_time": "2022-08-26T18:10:37.075Z"
   },
   {
    "duration": 12,
    "start_time": "2022-08-26T18:10:37.088Z"
   },
   {
    "duration": 12,
    "start_time": "2022-08-26T18:10:37.102Z"
   },
   {
    "duration": 27,
    "start_time": "2022-08-26T18:10:37.115Z"
   },
   {
    "duration": 34,
    "start_time": "2022-08-26T18:10:37.144Z"
   },
   {
    "duration": 38,
    "start_time": "2022-08-26T18:10:37.179Z"
   },
   {
    "duration": 14,
    "start_time": "2022-08-26T18:10:37.219Z"
   },
   {
    "duration": 15,
    "start_time": "2022-08-26T18:10:37.234Z"
   },
   {
    "duration": 4,
    "start_time": "2022-08-26T18:10:37.251Z"
   },
   {
    "duration": 15,
    "start_time": "2022-08-26T18:10:37.256Z"
   },
   {
    "duration": 30,
    "start_time": "2022-08-26T18:10:37.273Z"
   },
   {
    "duration": 9,
    "start_time": "2022-08-26T18:10:37.308Z"
   },
   {
    "duration": 12,
    "start_time": "2022-08-26T18:10:37.319Z"
   },
   {
    "duration": 9,
    "start_time": "2022-08-26T18:10:37.332Z"
   },
   {
    "duration": 60,
    "start_time": "2022-08-26T18:10:37.343Z"
   },
   {
    "duration": 10,
    "start_time": "2022-08-26T18:10:37.405Z"
   },
   {
    "duration": 3,
    "start_time": "2022-08-26T18:10:37.416Z"
   },
   {
    "duration": 6628,
    "start_time": "2022-08-26T18:10:37.421Z"
   },
   {
    "duration": 5,
    "start_time": "2022-08-26T18:10:44.050Z"
   },
   {
    "duration": 9,
    "start_time": "2022-08-26T18:12:18.654Z"
   },
   {
    "duration": 21,
    "start_time": "2022-08-26T18:12:39.134Z"
   },
   {
    "duration": 12,
    "start_time": "2022-08-26T18:19:10.439Z"
   },
   {
    "duration": 16,
    "start_time": "2022-08-26T18:21:15.577Z"
   },
   {
    "duration": 17,
    "start_time": "2022-08-26T18:21:24.105Z"
   },
   {
    "duration": 23,
    "start_time": "2022-08-26T18:23:58.742Z"
   },
   {
    "duration": 23,
    "start_time": "2022-08-26T18:24:32.401Z"
   },
   {
    "duration": 18,
    "start_time": "2022-08-26T18:26:44.033Z"
   },
   {
    "duration": 18,
    "start_time": "2022-08-26T18:26:49.325Z"
   },
   {
    "duration": 10,
    "start_time": "2022-08-26T18:28:33.610Z"
   },
   {
    "duration": 455,
    "start_time": "2022-08-26T18:34:35.412Z"
   },
   {
    "duration": 3,
    "start_time": "2022-08-26T18:34:35.869Z"
   },
   {
    "duration": 23,
    "start_time": "2022-08-26T18:34:35.874Z"
   },
   {
    "duration": 14,
    "start_time": "2022-08-26T18:34:35.898Z"
   },
   {
    "duration": 4,
    "start_time": "2022-08-26T18:34:35.914Z"
   },
   {
    "duration": 6,
    "start_time": "2022-08-26T18:34:35.920Z"
   },
   {
    "duration": 7,
    "start_time": "2022-08-26T18:34:35.928Z"
   },
   {
    "duration": 9,
    "start_time": "2022-08-26T18:34:35.937Z"
   },
   {
    "duration": 5,
    "start_time": "2022-08-26T18:34:35.948Z"
   },
   {
    "duration": 11,
    "start_time": "2022-08-26T18:34:35.955Z"
   },
   {
    "duration": 45,
    "start_time": "2022-08-26T18:34:35.967Z"
   },
   {
    "duration": 9,
    "start_time": "2022-08-26T18:34:36.013Z"
   },
   {
    "duration": 33,
    "start_time": "2022-08-26T18:34:36.023Z"
   },
   {
    "duration": 6,
    "start_time": "2022-08-26T18:34:36.059Z"
   },
   {
    "duration": 8,
    "start_time": "2022-08-26T18:34:36.066Z"
   },
   {
    "duration": 5,
    "start_time": "2022-08-26T18:34:36.075Z"
   },
   {
    "duration": 22,
    "start_time": "2022-08-26T18:34:36.081Z"
   },
   {
    "duration": 9,
    "start_time": "2022-08-26T18:34:36.105Z"
   },
   {
    "duration": 9,
    "start_time": "2022-08-26T18:34:36.116Z"
   },
   {
    "duration": 9,
    "start_time": "2022-08-26T18:34:36.126Z"
   },
   {
    "duration": 7,
    "start_time": "2022-08-26T18:34:36.136Z"
   },
   {
    "duration": 15,
    "start_time": "2022-08-26T18:34:36.145Z"
   },
   {
    "duration": 5,
    "start_time": "2022-08-26T18:34:36.161Z"
   },
   {
    "duration": 7,
    "start_time": "2022-08-26T18:34:36.167Z"
   },
   {
    "duration": 14,
    "start_time": "2022-08-26T18:34:36.175Z"
   },
   {
    "duration": 11,
    "start_time": "2022-08-26T18:34:36.191Z"
   },
   {
    "duration": 12,
    "start_time": "2022-08-26T18:34:36.203Z"
   },
   {
    "duration": 9,
    "start_time": "2022-08-26T18:34:36.216Z"
   },
   {
    "duration": 8,
    "start_time": "2022-08-26T18:34:36.226Z"
   },
   {
    "duration": 8,
    "start_time": "2022-08-26T18:34:36.236Z"
   },
   {
    "duration": 11,
    "start_time": "2022-08-26T18:34:36.245Z"
   },
   {
    "duration": 8,
    "start_time": "2022-08-26T18:34:36.257Z"
   },
   {
    "duration": 19,
    "start_time": "2022-08-26T18:34:36.266Z"
   },
   {
    "duration": 40,
    "start_time": "2022-08-26T18:34:36.286Z"
   },
   {
    "duration": 15,
    "start_time": "2022-08-26T18:34:36.328Z"
   },
   {
    "duration": 13,
    "start_time": "2022-08-26T18:34:36.344Z"
   },
   {
    "duration": 39,
    "start_time": "2022-08-26T18:34:36.359Z"
   },
   {
    "duration": 4,
    "start_time": "2022-08-26T18:34:36.399Z"
   },
   {
    "duration": 7,
    "start_time": "2022-08-26T18:34:36.404Z"
   },
   {
    "duration": 8,
    "start_time": "2022-08-26T18:34:36.413Z"
   },
   {
    "duration": 7,
    "start_time": "2022-08-26T18:34:36.425Z"
   },
   {
    "duration": 9,
    "start_time": "2022-08-26T18:34:36.434Z"
   },
   {
    "duration": 8,
    "start_time": "2022-08-26T18:34:36.445Z"
   },
   {
    "duration": 65,
    "start_time": "2022-08-26T18:34:36.455Z"
   },
   {
    "duration": 9,
    "start_time": "2022-08-26T18:34:36.521Z"
   },
   {
    "duration": 6,
    "start_time": "2022-08-26T18:34:36.532Z"
   },
   {
    "duration": 6478,
    "start_time": "2022-08-26T18:34:36.540Z"
   },
   {
    "duration": 4,
    "start_time": "2022-08-26T18:34:43.020Z"
   },
   {
    "duration": 9,
    "start_time": "2022-08-26T18:34:43.026Z"
   },
   {
    "duration": 14,
    "start_time": "2022-08-26T18:34:43.037Z"
   },
   {
    "duration": 49,
    "start_time": "2022-08-26T18:34:43.053Z"
   },
   {
    "duration": 17,
    "start_time": "2022-08-26T18:34:43.104Z"
   },
   {
    "duration": 14,
    "start_time": "2022-08-26T18:34:43.123Z"
   },
   {
    "duration": 3,
    "start_time": "2022-08-26T18:34:43.139Z"
   },
   {
    "duration": 6443,
    "start_time": "2022-08-26T18:34:43.144Z"
   },
   {
    "duration": 10,
    "start_time": "2022-08-26T18:34:49.589Z"
   },
   {
    "duration": 14,
    "start_time": "2022-08-26T18:35:25.849Z"
   },
   {
    "duration": 587,
    "start_time": "2022-08-26T21:30:25.018Z"
   },
   {
    "duration": 4,
    "start_time": "2022-08-26T21:30:25.607Z"
   },
   {
    "duration": 23,
    "start_time": "2022-08-26T21:30:25.613Z"
   },
   {
    "duration": 16,
    "start_time": "2022-08-26T21:30:25.638Z"
   },
   {
    "duration": 4,
    "start_time": "2022-08-26T21:30:25.656Z"
   },
   {
    "duration": 47,
    "start_time": "2022-08-26T21:30:25.661Z"
   },
   {
    "duration": 7,
    "start_time": "2022-08-26T21:30:25.709Z"
   },
   {
    "duration": 11,
    "start_time": "2022-08-26T21:30:25.717Z"
   },
   {
    "duration": 7,
    "start_time": "2022-08-26T21:30:25.730Z"
   },
   {
    "duration": 8,
    "start_time": "2022-08-26T21:30:25.739Z"
   },
   {
    "duration": 43,
    "start_time": "2022-08-26T21:30:25.749Z"
   },
   {
    "duration": 9,
    "start_time": "2022-08-26T21:30:25.794Z"
   },
   {
    "duration": 13,
    "start_time": "2022-08-26T21:30:25.804Z"
   },
   {
    "duration": 10,
    "start_time": "2022-08-26T21:30:25.819Z"
   },
   {
    "duration": 10,
    "start_time": "2022-08-26T21:30:25.831Z"
   },
   {
    "duration": 8,
    "start_time": "2022-08-26T21:30:25.842Z"
   },
   {
    "duration": 7,
    "start_time": "2022-08-26T21:30:25.852Z"
   },
   {
    "duration": 9,
    "start_time": "2022-08-26T21:30:25.861Z"
   },
   {
    "duration": 9,
    "start_time": "2022-08-26T21:30:25.889Z"
   },
   {
    "duration": 13,
    "start_time": "2022-08-26T21:30:25.899Z"
   },
   {
    "duration": 9,
    "start_time": "2022-08-26T21:30:25.914Z"
   },
   {
    "duration": 15,
    "start_time": "2022-08-26T21:30:25.926Z"
   },
   {
    "duration": 6,
    "start_time": "2022-08-26T21:30:25.944Z"
   },
   {
    "duration": 7,
    "start_time": "2022-08-26T21:30:25.952Z"
   },
   {
    "duration": 8,
    "start_time": "2022-08-26T21:30:25.961Z"
   },
   {
    "duration": 37,
    "start_time": "2022-08-26T21:30:25.970Z"
   },
   {
    "duration": 23,
    "start_time": "2022-08-26T21:30:26.010Z"
   },
   {
    "duration": 12,
    "start_time": "2022-08-26T21:30:26.034Z"
   },
   {
    "duration": 12,
    "start_time": "2022-08-26T21:30:26.047Z"
   },
   {
    "duration": 15,
    "start_time": "2022-08-26T21:30:26.061Z"
   },
   {
    "duration": 5,
    "start_time": "2022-08-26T21:30:26.080Z"
   },
   {
    "duration": 23,
    "start_time": "2022-08-26T21:30:26.088Z"
   },
   {
    "duration": 19,
    "start_time": "2022-08-26T21:30:26.112Z"
   },
   {
    "duration": 33,
    "start_time": "2022-08-26T21:30:26.132Z"
   },
   {
    "duration": 21,
    "start_time": "2022-08-26T21:30:26.167Z"
   },
   {
    "duration": 16,
    "start_time": "2022-08-26T21:30:26.210Z"
   },
   {
    "duration": 15,
    "start_time": "2022-08-26T21:30:26.227Z"
   },
   {
    "duration": 3,
    "start_time": "2022-08-26T21:30:26.712Z"
   },
   {
    "duration": 7,
    "start_time": "2022-08-26T21:30:26.717Z"
   },
   {
    "duration": 11,
    "start_time": "2022-08-26T21:30:26.725Z"
   },
   {
    "duration": 10,
    "start_time": "2022-08-26T21:30:26.738Z"
   },
   {
    "duration": 11,
    "start_time": "2022-08-26T21:30:26.750Z"
   },
   {
    "duration": 6,
    "start_time": "2022-08-26T21:30:26.763Z"
   },
   {
    "duration": 47,
    "start_time": "2022-08-26T21:30:26.770Z"
   },
   {
    "duration": 10,
    "start_time": "2022-08-26T21:30:26.819Z"
   },
   {
    "duration": 3,
    "start_time": "2022-08-26T21:30:26.831Z"
   },
   {
    "duration": 7090,
    "start_time": "2022-08-26T21:30:26.837Z"
   },
   {
    "duration": 4,
    "start_time": "2022-08-26T21:30:33.928Z"
   },
   {
    "duration": 12,
    "start_time": "2022-08-26T21:30:33.934Z"
   },
   {
    "duration": 17,
    "start_time": "2022-08-26T21:30:33.947Z"
   },
   {
    "duration": 58,
    "start_time": "2022-08-26T21:30:33.966Z"
   },
   {
    "duration": 15,
    "start_time": "2022-08-26T21:30:34.026Z"
   },
   {
    "duration": 10,
    "start_time": "2022-08-26T21:30:34.043Z"
   },
   {
    "duration": 13,
    "start_time": "2022-08-26T21:30:34.055Z"
   },
   {
    "duration": 7035,
    "start_time": "2022-08-26T21:30:34.069Z"
   },
   {
    "duration": 8,
    "start_time": "2022-08-26T21:30:41.106Z"
   },
   {
    "duration": 7,
    "start_time": "2022-08-26T21:30:41.116Z"
   },
   {
    "duration": 18,
    "start_time": "2022-08-26T21:30:41.124Z"
   },
   {
    "duration": 2,
    "start_time": "2022-08-26T21:30:41.143Z"
   },
   {
    "duration": 7,
    "start_time": "2022-08-26T21:30:52.136Z"
   },
   {
    "duration": 8,
    "start_time": "2022-08-26T21:32:52.275Z"
   },
   {
    "duration": 65,
    "start_time": "2022-08-26T21:41:24.667Z"
   },
   {
    "duration": 66,
    "start_time": "2022-08-26T21:41:33.572Z"
   },
   {
    "duration": 4,
    "start_time": "2022-08-26T21:41:43.450Z"
   },
   {
    "duration": 7,
    "start_time": "2022-08-26T21:44:58.203Z"
   },
   {
    "duration": 6,
    "start_time": "2022-08-26T22:07:50.438Z"
   },
   {
    "duration": 6,
    "start_time": "2022-08-26T22:07:58.299Z"
   },
   {
    "duration": 1260,
    "start_time": "2022-08-26T22:35:59.400Z"
   },
   {
    "duration": 3,
    "start_time": "2022-08-26T22:37:20.097Z"
   },
   {
    "duration": 7,
    "start_time": "2022-08-26T22:38:39.546Z"
   },
   {
    "duration": 50,
    "start_time": "2022-08-26T22:51:44.658Z"
   },
   {
    "duration": 54,
    "start_time": "2022-08-26T22:52:38.374Z"
   },
   {
    "duration": 179,
    "start_time": "2022-08-26T22:53:35.164Z"
   },
   {
    "duration": 208,
    "start_time": "2022-08-26T22:54:40.422Z"
   },
   {
    "duration": 190,
    "start_time": "2022-08-26T22:55:12.609Z"
   },
   {
    "duration": 225,
    "start_time": "2022-08-26T22:55:59.843Z"
   },
   {
    "duration": 180,
    "start_time": "2022-08-26T22:56:26.031Z"
   },
   {
    "duration": 3,
    "start_time": "2022-08-26T22:58:20.706Z"
   },
   {
    "duration": 6,
    "start_time": "2022-08-26T22:58:27.400Z"
   },
   {
    "duration": 7,
    "start_time": "2022-08-26T23:04:21.010Z"
   },
   {
    "duration": 228,
    "start_time": "2022-08-26T23:35:43.043Z"
   },
   {
    "duration": 24,
    "start_time": "2022-08-26T23:36:05.012Z"
   },
   {
    "duration": 210,
    "start_time": "2022-08-26T23:36:38.841Z"
   },
   {
    "duration": 177,
    "start_time": "2022-08-26T23:36:41.311Z"
   },
   {
    "duration": 17,
    "start_time": "2022-08-26T23:38:10.437Z"
   },
   {
    "duration": 9,
    "start_time": "2022-08-26T23:38:41.197Z"
   },
   {
    "duration": 7,
    "start_time": "2022-08-26T23:38:47.123Z"
   },
   {
    "duration": 48,
    "start_time": "2022-08-26T23:39:02.572Z"
   },
   {
    "duration": 6,
    "start_time": "2022-08-26T23:39:12.948Z"
   },
   {
    "duration": 6,
    "start_time": "2022-08-26T23:40:14.311Z"
   },
   {
    "duration": 3,
    "start_time": "2022-08-26T23:41:09.272Z"
   },
   {
    "duration": 14,
    "start_time": "2022-08-26T23:41:12.275Z"
   },
   {
    "duration": 6,
    "start_time": "2022-08-26T23:41:17.145Z"
   },
   {
    "duration": 14,
    "start_time": "2022-08-26T23:47:38.888Z"
   },
   {
    "duration": 12,
    "start_time": "2022-08-26T23:50:05.716Z"
   },
   {
    "duration": 6,
    "start_time": "2022-08-26T23:51:40.402Z"
   },
   {
    "duration": 4,
    "start_time": "2022-08-26T23:54:03.271Z"
   },
   {
    "duration": 3,
    "start_time": "2022-08-26T23:54:05.817Z"
   },
   {
    "duration": 8,
    "start_time": "2022-08-26T23:55:33.003Z"
   },
   {
    "duration": 4,
    "start_time": "2022-08-26T23:55:41.728Z"
   },
   {
    "duration": 19,
    "start_time": "2022-08-26T23:55:42.953Z"
   },
   {
    "duration": 13,
    "start_time": "2022-08-26T23:56:33.605Z"
   },
   {
    "duration": 11,
    "start_time": "2022-08-26T23:56:44.476Z"
   },
   {
    "duration": 11,
    "start_time": "2022-08-27T00:04:38.206Z"
   },
   {
    "duration": 25,
    "start_time": "2022-08-27T00:05:54.417Z"
   },
   {
    "duration": 27,
    "start_time": "2022-08-27T00:06:09.130Z"
   },
   {
    "duration": 17,
    "start_time": "2022-08-27T00:07:04.048Z"
   },
   {
    "duration": 20,
    "start_time": "2022-08-27T00:07:21.417Z"
   },
   {
    "duration": 22,
    "start_time": "2022-08-27T00:07:32.979Z"
   },
   {
    "duration": 19,
    "start_time": "2022-08-27T00:07:37.807Z"
   },
   {
    "duration": 18,
    "start_time": "2022-08-27T00:07:54.111Z"
   },
   {
    "duration": 28,
    "start_time": "2022-08-27T00:08:06.660Z"
   },
   {
    "duration": 29,
    "start_time": "2022-08-27T00:08:21.312Z"
   },
   {
    "duration": 20,
    "start_time": "2022-08-27T00:08:30.429Z"
   },
   {
    "duration": 19,
    "start_time": "2022-08-27T00:08:38.427Z"
   },
   {
    "duration": 21,
    "start_time": "2022-08-27T00:09:02.590Z"
   },
   {
    "duration": 18,
    "start_time": "2022-08-27T00:09:10.527Z"
   },
   {
    "duration": 20,
    "start_time": "2022-08-27T00:09:18.426Z"
   },
   {
    "duration": 20,
    "start_time": "2022-08-27T00:11:06.120Z"
   },
   {
    "duration": 24,
    "start_time": "2022-08-27T00:11:23.424Z"
   },
   {
    "duration": 25,
    "start_time": "2022-08-27T00:11:42.782Z"
   },
   {
    "duration": 18,
    "start_time": "2022-08-27T00:11:52.574Z"
   },
   {
    "duration": 46,
    "start_time": "2022-08-27T00:20:21.771Z"
   },
   {
    "duration": 194,
    "start_time": "2022-08-27T00:20:35.536Z"
   },
   {
    "duration": 4,
    "start_time": "2022-08-27T00:22:24.778Z"
   },
   {
    "duration": 555,
    "start_time": "2022-08-27T11:03:15.656Z"
   },
   {
    "duration": 4,
    "start_time": "2022-08-27T11:03:16.213Z"
   },
   {
    "duration": 21,
    "start_time": "2022-08-27T11:03:16.219Z"
   },
   {
    "duration": 15,
    "start_time": "2022-08-27T11:03:16.242Z"
   },
   {
    "duration": 3,
    "start_time": "2022-08-27T11:03:16.260Z"
   },
   {
    "duration": 6,
    "start_time": "2022-08-27T11:03:16.265Z"
   },
   {
    "duration": 4,
    "start_time": "2022-08-27T11:03:16.298Z"
   },
   {
    "duration": 19,
    "start_time": "2022-08-27T11:03:16.304Z"
   },
   {
    "duration": 12,
    "start_time": "2022-08-27T11:03:16.325Z"
   },
   {
    "duration": 18,
    "start_time": "2022-08-27T11:03:16.338Z"
   },
   {
    "duration": 20,
    "start_time": "2022-08-27T11:03:16.358Z"
   },
   {
    "duration": 5,
    "start_time": "2022-08-27T11:03:16.379Z"
   },
   {
    "duration": 14,
    "start_time": "2022-08-27T11:03:16.386Z"
   },
   {
    "duration": 6,
    "start_time": "2022-08-27T11:03:16.402Z"
   },
   {
    "duration": 33,
    "start_time": "2022-08-27T11:03:16.410Z"
   },
   {
    "duration": 5,
    "start_time": "2022-08-27T11:03:16.444Z"
   },
   {
    "duration": 8,
    "start_time": "2022-08-27T11:03:16.450Z"
   },
   {
    "duration": 9,
    "start_time": "2022-08-27T11:03:16.459Z"
   },
   {
    "duration": 4,
    "start_time": "2022-08-27T11:03:16.469Z"
   },
   {
    "duration": 5,
    "start_time": "2022-08-27T11:03:16.475Z"
   },
   {
    "duration": 5,
    "start_time": "2022-08-27T11:03:16.482Z"
   },
   {
    "duration": 16,
    "start_time": "2022-08-27T11:03:16.489Z"
   },
   {
    "duration": 7,
    "start_time": "2022-08-27T11:03:16.507Z"
   },
   {
    "duration": 8,
    "start_time": "2022-08-27T11:03:16.516Z"
   },
   {
    "duration": 4,
    "start_time": "2022-08-27T11:03:16.526Z"
   },
   {
    "duration": 6,
    "start_time": "2022-08-27T11:03:16.531Z"
   },
   {
    "duration": 9,
    "start_time": "2022-08-27T11:03:16.539Z"
   },
   {
    "duration": 5,
    "start_time": "2022-08-27T11:03:16.550Z"
   },
   {
    "duration": 6,
    "start_time": "2022-08-27T11:03:16.556Z"
   },
   {
    "duration": 38,
    "start_time": "2022-08-27T11:03:16.564Z"
   },
   {
    "duration": 12,
    "start_time": "2022-08-27T11:03:16.603Z"
   },
   {
    "duration": 11,
    "start_time": "2022-08-27T11:03:16.617Z"
   },
   {
    "duration": 32,
    "start_time": "2022-08-27T11:03:16.629Z"
   },
   {
    "duration": 31,
    "start_time": "2022-08-27T11:03:16.663Z"
   },
   {
    "duration": 22,
    "start_time": "2022-08-27T11:03:16.696Z"
   },
   {
    "duration": 17,
    "start_time": "2022-08-27T11:03:16.719Z"
   },
   {
    "duration": 21,
    "start_time": "2022-08-27T11:03:16.738Z"
   },
   {
    "duration": 4,
    "start_time": "2022-08-27T11:03:16.761Z"
   },
   {
    "duration": 13,
    "start_time": "2022-08-27T11:03:16.766Z"
   },
   {
    "duration": 22,
    "start_time": "2022-08-27T11:03:16.781Z"
   },
   {
    "duration": 17,
    "start_time": "2022-08-27T11:03:16.807Z"
   },
   {
    "duration": 21,
    "start_time": "2022-08-27T11:03:16.825Z"
   },
   {
    "duration": 16,
    "start_time": "2022-08-27T11:03:16.848Z"
   },
   {
    "duration": 52,
    "start_time": "2022-08-27T11:03:16.866Z"
   },
   {
    "duration": 13,
    "start_time": "2022-08-27T11:03:16.920Z"
   },
   {
    "duration": 17,
    "start_time": "2022-08-27T11:03:16.935Z"
   },
   {
    "duration": 6222,
    "start_time": "2022-08-27T11:03:16.953Z"
   },
   {
    "duration": 4,
    "start_time": "2022-08-27T11:03:23.176Z"
   },
   {
    "duration": 18,
    "start_time": "2022-08-27T11:03:23.181Z"
   },
   {
    "duration": 13,
    "start_time": "2022-08-27T11:03:23.200Z"
   },
   {
    "duration": 25,
    "start_time": "2022-08-27T11:03:23.215Z"
   },
   {
    "duration": 15,
    "start_time": "2022-08-27T11:03:23.241Z"
   },
   {
    "duration": 22,
    "start_time": "2022-08-27T11:03:23.257Z"
   },
   {
    "duration": 12,
    "start_time": "2022-08-27T11:03:23.280Z"
   },
   {
    "duration": 6296,
    "start_time": "2022-08-27T11:03:23.294Z"
   },
   {
    "duration": 10,
    "start_time": "2022-08-27T11:03:29.591Z"
   },
   {
    "duration": 10,
    "start_time": "2022-08-27T11:03:29.603Z"
   },
   {
    "duration": 17,
    "start_time": "2022-08-27T11:03:29.615Z"
   },
   {
    "duration": 5,
    "start_time": "2022-08-27T11:03:29.633Z"
   },
   {
    "duration": 6,
    "start_time": "2022-08-27T11:03:29.639Z"
   },
   {
    "duration": 13,
    "start_time": "2022-08-27T11:03:29.646Z"
   },
   {
    "duration": 15,
    "start_time": "2022-08-27T11:03:29.660Z"
   },
   {
    "duration": 11,
    "start_time": "2022-08-27T11:03:29.676Z"
   },
   {
    "duration": 5,
    "start_time": "2022-08-27T11:03:29.698Z"
   },
   {
    "duration": 6,
    "start_time": "2022-08-27T11:03:29.704Z"
   },
   {
    "duration": 19,
    "start_time": "2022-08-27T11:03:29.711Z"
   },
   {
    "duration": 6,
    "start_time": "2022-08-27T11:03:29.731Z"
   },
   {
    "duration": 29,
    "start_time": "2022-08-27T11:03:29.739Z"
   },
   {
    "duration": 12,
    "start_time": "2022-08-27T11:03:29.769Z"
   },
   {
    "duration": 12,
    "start_time": "2022-08-27T11:03:29.798Z"
   },
   {
    "duration": 8,
    "start_time": "2022-08-27T11:03:29.812Z"
   },
   {
    "duration": 20,
    "start_time": "2022-08-27T11:07:35.561Z"
   },
   {
    "duration": 21,
    "start_time": "2022-08-27T11:11:13.318Z"
   },
   {
    "duration": 704,
    "start_time": "2022-08-28T17:12:49.890Z"
   },
   {
    "duration": 4,
    "start_time": "2022-08-28T17:12:50.597Z"
   },
   {
    "duration": 26,
    "start_time": "2022-08-28T17:12:50.603Z"
   },
   {
    "duration": 20,
    "start_time": "2022-08-28T17:12:50.631Z"
   },
   {
    "duration": 16,
    "start_time": "2022-08-28T17:12:50.654Z"
   },
   {
    "duration": 7,
    "start_time": "2022-08-28T17:12:50.672Z"
   },
   {
    "duration": 7,
    "start_time": "2022-08-28T17:12:50.681Z"
   },
   {
    "duration": 15,
    "start_time": "2022-08-28T17:12:50.690Z"
   },
   {
    "duration": 8,
    "start_time": "2022-08-28T17:12:50.707Z"
   },
   {
    "duration": 8,
    "start_time": "2022-08-28T17:12:50.716Z"
   },
   {
    "duration": 49,
    "start_time": "2022-08-28T17:12:50.726Z"
   },
   {
    "duration": 6,
    "start_time": "2022-08-28T17:12:50.777Z"
   },
   {
    "duration": 13,
    "start_time": "2022-08-28T17:12:50.785Z"
   },
   {
    "duration": 8,
    "start_time": "2022-08-28T17:12:50.802Z"
   },
   {
    "duration": 9,
    "start_time": "2022-08-28T17:12:50.812Z"
   },
   {
    "duration": 5,
    "start_time": "2022-08-28T17:12:50.823Z"
   },
   {
    "duration": 40,
    "start_time": "2022-08-28T17:12:50.830Z"
   },
   {
    "duration": 12,
    "start_time": "2022-08-28T17:12:50.872Z"
   },
   {
    "duration": 3,
    "start_time": "2022-08-28T17:12:50.886Z"
   },
   {
    "duration": 10,
    "start_time": "2022-08-28T17:12:50.891Z"
   },
   {
    "duration": 7,
    "start_time": "2022-08-28T17:12:50.903Z"
   },
   {
    "duration": 19,
    "start_time": "2022-08-28T17:12:50.912Z"
   },
   {
    "duration": 6,
    "start_time": "2022-08-28T17:12:50.933Z"
   },
   {
    "duration": 9,
    "start_time": "2022-08-28T17:12:50.969Z"
   },
   {
    "duration": 7,
    "start_time": "2022-08-28T17:12:50.979Z"
   },
   {
    "duration": 7,
    "start_time": "2022-08-28T17:12:50.988Z"
   },
   {
    "duration": 13,
    "start_time": "2022-08-28T17:12:50.997Z"
   },
   {
    "duration": 7,
    "start_time": "2022-08-28T17:12:51.012Z"
   },
   {
    "duration": 9,
    "start_time": "2022-08-28T17:12:51.021Z"
   },
   {
    "duration": 36,
    "start_time": "2022-08-28T17:12:51.032Z"
   },
   {
    "duration": 6,
    "start_time": "2022-08-28T17:12:51.070Z"
   },
   {
    "duration": 13,
    "start_time": "2022-08-28T17:12:51.078Z"
   },
   {
    "duration": 21,
    "start_time": "2022-08-28T17:12:51.093Z"
   },
   {
    "duration": 59,
    "start_time": "2022-08-28T17:12:51.116Z"
   },
   {
    "duration": 18,
    "start_time": "2022-08-28T17:12:51.177Z"
   },
   {
    "duration": 16,
    "start_time": "2022-08-28T17:12:51.197Z"
   },
   {
    "duration": 16,
    "start_time": "2022-08-28T17:12:51.214Z"
   },
   {
    "duration": 3,
    "start_time": "2022-08-28T17:12:51.232Z"
   },
   {
    "duration": 32,
    "start_time": "2022-08-28T17:12:51.237Z"
   },
   {
    "duration": 9,
    "start_time": "2022-08-28T17:12:51.271Z"
   },
   {
    "duration": 9,
    "start_time": "2022-08-28T17:12:51.285Z"
   },
   {
    "duration": 15,
    "start_time": "2022-08-28T17:12:51.296Z"
   },
   {
    "duration": 9,
    "start_time": "2022-08-28T17:12:51.313Z"
   },
   {
    "duration": 65,
    "start_time": "2022-08-28T17:12:51.324Z"
   },
   {
    "duration": 11,
    "start_time": "2022-08-28T17:12:51.391Z"
   },
   {
    "duration": 3,
    "start_time": "2022-08-28T17:12:51.404Z"
   },
   {
    "duration": 7282,
    "start_time": "2022-08-28T17:12:51.409Z"
   },
   {
    "duration": 5,
    "start_time": "2022-08-28T17:12:58.692Z"
   },
   {
    "duration": 15,
    "start_time": "2022-08-28T17:12:58.699Z"
   },
   {
    "duration": 16,
    "start_time": "2022-08-28T17:12:58.715Z"
   },
   {
    "duration": 42,
    "start_time": "2022-08-28T17:12:58.733Z"
   },
   {
    "duration": 13,
    "start_time": "2022-08-28T17:12:58.777Z"
   },
   {
    "duration": 11,
    "start_time": "2022-08-28T17:12:58.792Z"
   },
   {
    "duration": 3,
    "start_time": "2022-08-28T17:12:58.804Z"
   },
   {
    "duration": 7471,
    "start_time": "2022-08-28T17:12:58.809Z"
   },
   {
    "duration": 9,
    "start_time": "2022-08-28T17:13:06.282Z"
   },
   {
    "duration": 5,
    "start_time": "2022-08-28T17:13:06.293Z"
   },
   {
    "duration": 16,
    "start_time": "2022-08-28T17:13:06.300Z"
   },
   {
    "duration": 4,
    "start_time": "2022-08-28T17:13:06.318Z"
   },
   {
    "duration": 6,
    "start_time": "2022-08-28T17:13:06.323Z"
   },
   {
    "duration": 4,
    "start_time": "2022-08-28T17:13:06.331Z"
   },
   {
    "duration": 41,
    "start_time": "2022-08-28T17:13:06.336Z"
   },
   {
    "duration": 6,
    "start_time": "2022-08-28T17:13:06.378Z"
   },
   {
    "duration": 7,
    "start_time": "2022-08-28T17:13:06.386Z"
   },
   {
    "duration": 8,
    "start_time": "2022-08-28T17:13:06.395Z"
   },
   {
    "duration": 20,
    "start_time": "2022-08-28T17:13:06.405Z"
   },
   {
    "duration": 12,
    "start_time": "2022-08-28T17:13:06.427Z"
   },
   {
    "duration": 51,
    "start_time": "2022-08-28T17:13:06.440Z"
   },
   {
    "duration": 13,
    "start_time": "2022-08-28T17:13:06.493Z"
   },
   {
    "duration": 26,
    "start_time": "2022-08-28T17:13:06.508Z"
   },
   {
    "duration": 4,
    "start_time": "2022-08-28T17:13:06.536Z"
   },
   {
    "duration": 76,
    "start_time": "2022-08-28T17:19:35.276Z"
   },
   {
    "duration": 460,
    "start_time": "2022-08-28T17:20:00.518Z"
   },
   {
    "duration": 4,
    "start_time": "2022-08-28T17:20:04.665Z"
   },
   {
    "duration": 28,
    "start_time": "2022-08-28T17:20:05.313Z"
   },
   {
    "duration": 25,
    "start_time": "2022-08-28T17:20:09.783Z"
   },
   {
    "duration": 67,
    "start_time": "2022-08-28T17:20:56.011Z"
   },
   {
    "duration": 4,
    "start_time": "2022-08-28T17:20:56.080Z"
   },
   {
    "duration": 28,
    "start_time": "2022-08-28T17:20:56.085Z"
   },
   {
    "duration": 26,
    "start_time": "2022-08-28T17:20:56.115Z"
   },
   {
    "duration": 4,
    "start_time": "2022-08-28T17:20:56.144Z"
   },
   {
    "duration": 6,
    "start_time": "2022-08-28T17:20:56.169Z"
   },
   {
    "duration": 5,
    "start_time": "2022-08-28T17:20:56.177Z"
   },
   {
    "duration": 52,
    "start_time": "2022-08-28T17:20:56.184Z"
   },
   {
    "duration": 17,
    "start_time": "2022-08-28T17:20:56.238Z"
   },
   {
    "duration": 31,
    "start_time": "2022-08-28T17:20:56.257Z"
   },
   {
    "duration": 28,
    "start_time": "2022-08-28T17:20:56.291Z"
   },
   {
    "duration": 22,
    "start_time": "2022-08-28T17:20:56.321Z"
   },
   {
    "duration": 39,
    "start_time": "2022-08-28T17:20:56.345Z"
   },
   {
    "duration": 28,
    "start_time": "2022-08-28T17:20:56.387Z"
   },
   {
    "duration": 26,
    "start_time": "2022-08-28T17:20:56.417Z"
   },
   {
    "duration": 14,
    "start_time": "2022-08-28T17:20:56.445Z"
   },
   {
    "duration": 50,
    "start_time": "2022-08-28T17:20:56.461Z"
   },
   {
    "duration": 37,
    "start_time": "2022-08-28T17:20:56.514Z"
   },
   {
    "duration": 51,
    "start_time": "2022-08-28T17:20:56.553Z"
   },
   {
    "duration": 34,
    "start_time": "2022-08-28T17:20:56.606Z"
   },
   {
    "duration": 37,
    "start_time": "2022-08-28T17:20:56.642Z"
   },
   {
    "duration": 76,
    "start_time": "2022-08-28T17:20:56.682Z"
   },
   {
    "duration": 58,
    "start_time": "2022-08-28T17:20:56.760Z"
   },
   {
    "duration": 57,
    "start_time": "2022-08-28T17:20:56.819Z"
   },
   {
    "duration": 18,
    "start_time": "2022-08-28T17:20:56.879Z"
   },
   {
    "duration": 47,
    "start_time": "2022-08-28T17:20:56.899Z"
   },
   {
    "duration": 27,
    "start_time": "2022-08-28T17:20:56.950Z"
   },
   {
    "duration": 8,
    "start_time": "2022-08-28T17:20:56.980Z"
   },
   {
    "duration": 9,
    "start_time": "2022-08-28T17:20:56.990Z"
   },
   {
    "duration": 11,
    "start_time": "2022-08-28T17:20:57.001Z"
   },
   {
    "duration": 9,
    "start_time": "2022-08-28T17:20:57.014Z"
   },
   {
    "duration": 10,
    "start_time": "2022-08-28T17:20:57.025Z"
   },
   {
    "duration": 40,
    "start_time": "2022-08-28T17:20:57.037Z"
   },
   {
    "duration": 34,
    "start_time": "2022-08-28T17:20:57.079Z"
   },
   {
    "duration": 17,
    "start_time": "2022-08-28T17:20:57.115Z"
   },
   {
    "duration": 34,
    "start_time": "2022-08-28T17:20:57.134Z"
   },
   {
    "duration": 16,
    "start_time": "2022-08-28T17:20:57.170Z"
   },
   {
    "duration": 9,
    "start_time": "2022-08-28T17:20:57.188Z"
   },
   {
    "duration": 11,
    "start_time": "2022-08-28T17:20:57.199Z"
   },
   {
    "duration": 15,
    "start_time": "2022-08-28T17:20:57.212Z"
   },
   {
    "duration": 12,
    "start_time": "2022-08-28T17:20:57.229Z"
   },
   {
    "duration": 26,
    "start_time": "2022-08-28T17:20:57.243Z"
   },
   {
    "duration": 8,
    "start_time": "2022-08-28T17:20:57.271Z"
   },
   {
    "duration": 36,
    "start_time": "2022-08-28T17:20:57.281Z"
   },
   {
    "duration": 11,
    "start_time": "2022-08-28T17:20:57.319Z"
   },
   {
    "duration": 3,
    "start_time": "2022-08-28T17:20:57.332Z"
   },
   {
    "duration": 7120,
    "start_time": "2022-08-28T17:20:57.337Z"
   },
   {
    "duration": 10,
    "start_time": "2022-08-28T17:21:04.459Z"
   },
   {
    "duration": 13,
    "start_time": "2022-08-28T17:21:04.471Z"
   },
   {
    "duration": 15,
    "start_time": "2022-08-28T17:21:04.485Z"
   },
   {
    "duration": 19,
    "start_time": "2022-08-28T17:21:04.502Z"
   },
   {
    "duration": 13,
    "start_time": "2022-08-28T17:21:04.523Z"
   },
   {
    "duration": 10,
    "start_time": "2022-08-28T17:21:04.568Z"
   },
   {
    "duration": 2,
    "start_time": "2022-08-28T17:21:04.580Z"
   },
   {
    "duration": 7202,
    "start_time": "2022-08-28T17:21:04.583Z"
   },
   {
    "duration": 10,
    "start_time": "2022-08-28T17:21:11.786Z"
   },
   {
    "duration": 5,
    "start_time": "2022-08-28T17:21:11.798Z"
   },
   {
    "duration": 19,
    "start_time": "2022-08-28T17:21:11.804Z"
   },
   {
    "duration": 5,
    "start_time": "2022-08-28T17:21:11.825Z"
   },
   {
    "duration": 6,
    "start_time": "2022-08-28T17:21:11.831Z"
   },
   {
    "duration": 30,
    "start_time": "2022-08-28T17:21:11.838Z"
   },
   {
    "duration": 15,
    "start_time": "2022-08-28T17:21:11.870Z"
   },
   {
    "duration": 23,
    "start_time": "2022-08-28T17:21:11.887Z"
   },
   {
    "duration": 5,
    "start_time": "2022-08-28T17:21:11.911Z"
   },
   {
    "duration": 4,
    "start_time": "2022-08-28T17:21:11.918Z"
   },
   {
    "duration": 15,
    "start_time": "2022-08-28T17:21:11.924Z"
   },
   {
    "duration": 7,
    "start_time": "2022-08-28T17:21:11.941Z"
   },
   {
    "duration": 25,
    "start_time": "2022-08-28T17:21:11.968Z"
   },
   {
    "duration": 11,
    "start_time": "2022-08-28T17:21:11.995Z"
   },
   {
    "duration": 13,
    "start_time": "2022-08-28T17:21:12.007Z"
   },
   {
    "duration": 4,
    "start_time": "2022-08-28T17:21:12.021Z"
   },
   {
    "duration": 29,
    "start_time": "2022-08-28T17:36:21.099Z"
   },
   {
    "duration": 18,
    "start_time": "2022-08-28T17:36:44.004Z"
   },
   {
    "duration": 35,
    "start_time": "2022-08-28T18:01:19.521Z"
   },
   {
    "duration": 28,
    "start_time": "2022-08-28T18:01:26.068Z"
   },
   {
    "duration": 515,
    "start_time": "2022-08-28T18:19:26.762Z"
   },
   {
    "duration": 4,
    "start_time": "2022-08-28T18:19:27.279Z"
   },
   {
    "duration": 30,
    "start_time": "2022-08-28T18:19:27.284Z"
   },
   {
    "duration": 26,
    "start_time": "2022-08-28T18:19:27.317Z"
   },
   {
    "duration": 6,
    "start_time": "2022-08-28T18:19:27.367Z"
   },
   {
    "duration": 11,
    "start_time": "2022-08-28T18:19:27.375Z"
   },
   {
    "duration": 7,
    "start_time": "2022-08-28T18:19:27.387Z"
   },
   {
    "duration": 12,
    "start_time": "2022-08-28T18:19:27.396Z"
   },
   {
    "duration": 10,
    "start_time": "2022-08-28T18:19:27.410Z"
   },
   {
    "duration": 14,
    "start_time": "2022-08-28T18:19:27.423Z"
   },
   {
    "duration": 14,
    "start_time": "2022-08-28T18:19:27.468Z"
   },
   {
    "duration": 8,
    "start_time": "2022-08-28T18:19:27.484Z"
   },
   {
    "duration": 11,
    "start_time": "2022-08-28T18:19:27.494Z"
   },
   {
    "duration": 16,
    "start_time": "2022-08-28T18:19:27.507Z"
   },
   {
    "duration": 18,
    "start_time": "2022-08-28T18:19:27.525Z"
   },
   {
    "duration": 27,
    "start_time": "2022-08-28T18:19:27.544Z"
   },
   {
    "duration": 5,
    "start_time": "2022-08-28T18:19:27.573Z"
   },
   {
    "duration": 10,
    "start_time": "2022-08-28T18:19:27.580Z"
   },
   {
    "duration": 6,
    "start_time": "2022-08-28T18:19:27.592Z"
   },
   {
    "duration": 6,
    "start_time": "2022-08-28T18:19:27.600Z"
   },
   {
    "duration": 8,
    "start_time": "2022-08-28T18:19:27.607Z"
   },
   {
    "duration": 52,
    "start_time": "2022-08-28T18:19:27.616Z"
   },
   {
    "duration": 6,
    "start_time": "2022-08-28T18:19:27.670Z"
   },
   {
    "duration": 6,
    "start_time": "2022-08-28T18:19:27.678Z"
   },
   {
    "duration": 4,
    "start_time": "2022-08-28T18:19:27.686Z"
   },
   {
    "duration": 4,
    "start_time": "2022-08-28T18:19:27.692Z"
   },
   {
    "duration": 10,
    "start_time": "2022-08-28T18:19:27.698Z"
   },
   {
    "duration": 4,
    "start_time": "2022-08-28T18:19:27.712Z"
   },
   {
    "duration": 17,
    "start_time": "2022-08-28T18:19:27.718Z"
   },
   {
    "duration": 35,
    "start_time": "2022-08-28T18:19:27.737Z"
   },
   {
    "duration": 6,
    "start_time": "2022-08-28T18:19:27.774Z"
   },
   {
    "duration": 5,
    "start_time": "2022-08-28T18:19:27.782Z"
   },
   {
    "duration": 19,
    "start_time": "2022-08-28T18:19:27.788Z"
   },
   {
    "duration": 35,
    "start_time": "2022-08-28T18:19:27.809Z"
   },
   {
    "duration": 19,
    "start_time": "2022-08-28T18:19:27.868Z"
   },
   {
    "duration": 15,
    "start_time": "2022-08-28T18:19:27.889Z"
   },
   {
    "duration": 16,
    "start_time": "2022-08-28T18:19:27.906Z"
   },
   {
    "duration": 4,
    "start_time": "2022-08-28T18:19:27.924Z"
   },
   {
    "duration": 6,
    "start_time": "2022-08-28T18:19:27.929Z"
   },
   {
    "duration": 11,
    "start_time": "2022-08-28T18:19:27.969Z"
   },
   {
    "duration": 11,
    "start_time": "2022-08-28T18:19:27.981Z"
   },
   {
    "duration": 9,
    "start_time": "2022-08-28T18:19:27.994Z"
   },
   {
    "duration": 8,
    "start_time": "2022-08-28T18:19:28.005Z"
   },
   {
    "duration": 65,
    "start_time": "2022-08-28T18:19:28.014Z"
   },
   {
    "duration": 11,
    "start_time": "2022-08-28T18:19:28.081Z"
   },
   {
    "duration": 4,
    "start_time": "2022-08-28T18:19:28.094Z"
   },
   {
    "duration": 7283,
    "start_time": "2022-08-28T18:19:28.100Z"
   },
   {
    "duration": 4,
    "start_time": "2022-08-28T18:19:35.385Z"
   },
   {
    "duration": 14,
    "start_time": "2022-08-28T18:19:35.390Z"
   },
   {
    "duration": 15,
    "start_time": "2022-08-28T18:19:35.406Z"
   },
   {
    "duration": 17,
    "start_time": "2022-08-28T18:19:35.422Z"
   },
   {
    "duration": 37,
    "start_time": "2022-08-28T18:19:35.441Z"
   },
   {
    "duration": 11,
    "start_time": "2022-08-28T18:19:35.479Z"
   },
   {
    "duration": 2,
    "start_time": "2022-08-28T18:19:35.492Z"
   },
   {
    "duration": 7549,
    "start_time": "2022-08-28T18:19:35.496Z"
   },
   {
    "duration": 10,
    "start_time": "2022-08-28T18:19:43.047Z"
   },
   {
    "duration": 9,
    "start_time": "2022-08-28T18:19:43.060Z"
   },
   {
    "duration": 22,
    "start_time": "2022-08-28T18:19:43.071Z"
   },
   {
    "duration": 7,
    "start_time": "2022-08-28T18:19:43.096Z"
   },
   {
    "duration": 8,
    "start_time": "2022-08-28T18:19:43.105Z"
   },
   {
    "duration": 6,
    "start_time": "2022-08-28T18:19:43.115Z"
   },
   {
    "duration": 45,
    "start_time": "2022-08-28T18:19:43.123Z"
   },
   {
    "duration": 11,
    "start_time": "2022-08-28T18:19:43.170Z"
   },
   {
    "duration": 7,
    "start_time": "2022-08-28T18:19:43.183Z"
   },
   {
    "duration": 12,
    "start_time": "2022-08-28T18:19:43.192Z"
   },
   {
    "duration": 20,
    "start_time": "2022-08-28T18:19:43.206Z"
   },
   {
    "duration": 7,
    "start_time": "2022-08-28T18:19:43.228Z"
   },
   {
    "duration": 53,
    "start_time": "2022-08-28T18:19:43.237Z"
   },
   {
    "duration": 13,
    "start_time": "2022-08-28T18:19:43.292Z"
   },
   {
    "duration": 22,
    "start_time": "2022-08-28T18:19:43.307Z"
   },
   {
    "duration": 5,
    "start_time": "2022-08-28T18:19:43.330Z"
   },
   {
    "duration": 16,
    "start_time": "2022-08-28T18:20:50.368Z"
   },
   {
    "duration": 14,
    "start_time": "2022-08-28T18:21:17.765Z"
   },
   {
    "duration": 7569,
    "start_time": "2022-08-28T18:23:28.109Z"
   },
   {
    "duration": 4,
    "start_time": "2022-08-28T18:23:41.188Z"
   },
   {
    "duration": 5,
    "start_time": "2022-08-28T18:23:43.668Z"
   },
   {
    "duration": 7652,
    "start_time": "2022-08-28T18:24:09.841Z"
   },
   {
    "duration": 4,
    "start_time": "2022-08-28T18:24:21.302Z"
   },
   {
    "duration": 5,
    "start_time": "2022-08-28T18:24:23.420Z"
   },
   {
    "duration": 20,
    "start_time": "2022-08-28T18:24:27.552Z"
   },
   {
    "duration": 1198,
    "start_time": "2022-08-28T18:25:57.545Z"
   },
   {
    "duration": 6,
    "start_time": "2022-08-28T18:26:12.667Z"
   },
   {
    "duration": 254,
    "start_time": "2022-08-28T18:40:34.672Z"
   },
   {
    "duration": 635,
    "start_time": "2022-08-28T18:40:48.506Z"
   },
   {
    "duration": 923,
    "start_time": "2022-08-28T18:41:51.836Z"
   },
   {
    "duration": 13,
    "start_time": "2022-08-28T18:42:57.461Z"
   },
   {
    "duration": 13,
    "start_time": "2022-08-28T18:43:35.207Z"
   },
   {
    "duration": 1177,
    "start_time": "2022-08-28T18:43:48.040Z"
   },
   {
    "duration": 197,
    "start_time": "2022-08-28T18:44:48.794Z"
   },
   {
    "duration": 147,
    "start_time": "2022-08-28T18:44:55.955Z"
   },
   {
    "duration": 25,
    "start_time": "2022-08-28T18:45:36.689Z"
   },
   {
    "duration": 27,
    "start_time": "2022-08-28T18:47:18.664Z"
   },
   {
    "duration": 7,
    "start_time": "2022-08-28T21:02:25.218Z"
   },
   {
    "duration": 31,
    "start_time": "2022-08-28T21:24:06.041Z"
   },
   {
    "duration": 5,
    "start_time": "2022-08-28T21:25:12.384Z"
   },
   {
    "duration": 85,
    "start_time": "2022-08-28T21:25:13.998Z"
   },
   {
    "duration": 5,
    "start_time": "2022-08-28T21:25:44.467Z"
   },
   {
    "duration": 9,
    "start_time": "2022-08-28T21:28:49.330Z"
   },
   {
    "duration": 5,
    "start_time": "2022-08-28T21:34:44.094Z"
   },
   {
    "duration": 6,
    "start_time": "2022-08-28T21:35:17.128Z"
   },
   {
    "duration": 8,
    "start_time": "2022-08-28T21:36:03.745Z"
   },
   {
    "duration": 6,
    "start_time": "2022-08-28T21:37:34.334Z"
   },
   {
    "duration": 9,
    "start_time": "2022-08-28T21:49:09.539Z"
   },
   {
    "duration": 20,
    "start_time": "2022-08-28T21:49:30.579Z"
   },
   {
    "duration": 17,
    "start_time": "2022-08-28T21:50:18.674Z"
   },
   {
    "duration": 18,
    "start_time": "2022-08-28T21:50:50.863Z"
   },
   {
    "duration": 5,
    "start_time": "2022-08-28T21:53:58.244Z"
   },
   {
    "duration": 182,
    "start_time": "2022-08-28T21:54:00.638Z"
   },
   {
    "duration": 50,
    "start_time": "2022-08-28T21:55:36.440Z"
   },
   {
    "duration": 43,
    "start_time": "2022-08-28T21:56:39.417Z"
   },
   {
    "duration": 29,
    "start_time": "2022-08-28T22:07:28.299Z"
   },
   {
    "duration": 37,
    "start_time": "2022-08-28T22:12:26.419Z"
   },
   {
    "duration": 7,
    "start_time": "2022-08-28T22:14:04.207Z"
   },
   {
    "duration": 156,
    "start_time": "2022-08-28T22:20:10.335Z"
   },
   {
    "duration": 194,
    "start_time": "2022-08-28T22:21:11.434Z"
   },
   {
    "duration": 165,
    "start_time": "2022-08-28T22:21:18.878Z"
   },
   {
    "duration": 185,
    "start_time": "2022-08-28T22:21:38.151Z"
   },
   {
    "duration": 162,
    "start_time": "2022-08-28T22:21:42.545Z"
   },
   {
    "duration": 157,
    "start_time": "2022-08-28T22:21:47.878Z"
   },
   {
    "duration": 171,
    "start_time": "2022-08-28T22:22:00.678Z"
   },
   {
    "duration": 167,
    "start_time": "2022-08-28T22:22:13.836Z"
   },
   {
    "duration": 99,
    "start_time": "2022-08-28T22:23:52.317Z"
   },
   {
    "duration": 90,
    "start_time": "2022-08-28T22:24:08.409Z"
   },
   {
    "duration": 67,
    "start_time": "2022-08-28T22:24:14.478Z"
   },
   {
    "duration": 609,
    "start_time": "2022-08-28T22:24:48.239Z"
   },
   {
    "duration": 506,
    "start_time": "2022-08-28T22:25:23.129Z"
   },
   {
    "duration": 5,
    "start_time": "2022-08-28T22:25:23.637Z"
   },
   {
    "duration": 41,
    "start_time": "2022-08-28T22:25:23.644Z"
   },
   {
    "duration": 30,
    "start_time": "2022-08-28T22:25:23.687Z"
   },
   {
    "duration": 5,
    "start_time": "2022-08-28T22:25:23.719Z"
   },
   {
    "duration": 8,
    "start_time": "2022-08-28T22:25:23.725Z"
   },
   {
    "duration": 11,
    "start_time": "2022-08-28T22:25:23.735Z"
   },
   {
    "duration": 33,
    "start_time": "2022-08-28T22:25:23.748Z"
   },
   {
    "duration": 9,
    "start_time": "2022-08-28T22:25:23.783Z"
   },
   {
    "duration": 7,
    "start_time": "2022-08-28T22:25:23.794Z"
   },
   {
    "duration": 18,
    "start_time": "2022-08-28T22:25:23.803Z"
   },
   {
    "duration": 7,
    "start_time": "2022-08-28T22:25:23.822Z"
   },
   {
    "duration": 52,
    "start_time": "2022-08-28T22:25:23.831Z"
   },
   {
    "duration": 18,
    "start_time": "2022-08-28T22:25:23.886Z"
   },
   {
    "duration": 12,
    "start_time": "2022-08-28T22:25:23.906Z"
   },
   {
    "duration": 9,
    "start_time": "2022-08-28T22:25:23.920Z"
   },
   {
    "duration": 12,
    "start_time": "2022-08-28T22:25:23.930Z"
   },
   {
    "duration": 16,
    "start_time": "2022-08-28T22:25:23.944Z"
   },
   {
    "duration": 16,
    "start_time": "2022-08-28T22:25:23.968Z"
   },
   {
    "duration": 8,
    "start_time": "2022-08-28T22:25:23.986Z"
   },
   {
    "duration": 10,
    "start_time": "2022-08-28T22:25:23.996Z"
   },
   {
    "duration": 18,
    "start_time": "2022-08-28T22:25:24.007Z"
   },
   {
    "duration": 7,
    "start_time": "2022-08-28T22:25:24.027Z"
   },
   {
    "duration": 6,
    "start_time": "2022-08-28T22:25:24.036Z"
   },
   {
    "duration": 6,
    "start_time": "2022-08-28T22:25:24.043Z"
   },
   {
    "duration": 11,
    "start_time": "2022-08-28T22:25:24.077Z"
   },
   {
    "duration": 16,
    "start_time": "2022-08-28T22:25:24.090Z"
   },
   {
    "duration": 9,
    "start_time": "2022-08-28T22:25:24.109Z"
   },
   {
    "duration": 10,
    "start_time": "2022-08-28T22:25:24.119Z"
   },
   {
    "duration": 9,
    "start_time": "2022-08-28T22:25:24.131Z"
   },
   {
    "duration": 6,
    "start_time": "2022-08-28T22:25:24.141Z"
   },
   {
    "duration": 9,
    "start_time": "2022-08-28T22:25:24.148Z"
   },
   {
    "duration": 26,
    "start_time": "2022-08-28T22:25:24.158Z"
   },
   {
    "duration": 35,
    "start_time": "2022-08-28T22:25:24.187Z"
   },
   {
    "duration": 15,
    "start_time": "2022-08-28T22:25:24.224Z"
   },
   {
    "duration": 41,
    "start_time": "2022-08-28T22:25:24.241Z"
   },
   {
    "duration": 15,
    "start_time": "2022-08-28T22:25:24.284Z"
   },
   {
    "duration": 3,
    "start_time": "2022-08-28T22:25:24.301Z"
   },
   {
    "duration": 6,
    "start_time": "2022-08-28T22:25:24.305Z"
   },
   {
    "duration": 12,
    "start_time": "2022-08-28T22:25:24.312Z"
   },
   {
    "duration": 11,
    "start_time": "2022-08-28T22:25:24.328Z"
   },
   {
    "duration": 39,
    "start_time": "2022-08-28T22:25:24.340Z"
   },
   {
    "duration": 9,
    "start_time": "2022-08-28T22:25:24.381Z"
   },
   {
    "duration": 35,
    "start_time": "2022-08-28T22:25:24.391Z"
   },
   {
    "duration": 14,
    "start_time": "2022-08-28T22:25:24.428Z"
   },
   {
    "duration": 7599,
    "start_time": "2022-08-28T22:25:24.444Z"
   },
   {
    "duration": 4,
    "start_time": "2022-08-28T22:25:32.044Z"
   },
   {
    "duration": 30,
    "start_time": "2022-08-28T22:25:32.049Z"
   },
   {
    "duration": 16,
    "start_time": "2022-08-28T22:25:32.080Z"
   },
   {
    "duration": 19,
    "start_time": "2022-08-28T22:25:32.097Z"
   },
   {
    "duration": 14,
    "start_time": "2022-08-28T22:25:32.118Z"
   },
   {
    "duration": 46,
    "start_time": "2022-08-28T22:25:32.134Z"
   },
   {
    "duration": 6,
    "start_time": "2022-08-28T22:25:32.181Z"
   },
   {
    "duration": 7661,
    "start_time": "2022-08-28T22:25:32.189Z"
   },
   {
    "duration": 25,
    "start_time": "2022-08-28T22:25:39.851Z"
   },
   {
    "duration": 19,
    "start_time": "2022-08-28T22:25:39.878Z"
   },
   {
    "duration": 5,
    "start_time": "2022-08-28T22:25:39.899Z"
   },
   {
    "duration": 10,
    "start_time": "2022-08-28T22:25:39.906Z"
   },
   {
    "duration": 5,
    "start_time": "2022-08-28T22:25:39.918Z"
   },
   {
    "duration": 173,
    "start_time": "2022-08-28T22:25:45.304Z"
   },
   {
    "duration": 87,
    "start_time": "2022-08-28T22:26:07.264Z"
   },
   {
    "duration": 179,
    "start_time": "2022-08-28T22:26:22.553Z"
   },
   {
    "duration": 7,
    "start_time": "2022-08-28T22:27:03.008Z"
   },
   {
    "duration": 158,
    "start_time": "2022-08-28T22:27:11.842Z"
   },
   {
    "duration": 167,
    "start_time": "2022-08-28T22:27:22.191Z"
   },
   {
    "duration": 6,
    "start_time": "2022-08-28T22:27:26.017Z"
   },
   {
    "duration": 10,
    "start_time": "2022-08-28T22:27:27.768Z"
   },
   {
    "duration": 4,
    "start_time": "2022-08-28T22:27:31.106Z"
   },
   {
    "duration": 13,
    "start_time": "2022-08-28T22:27:33.225Z"
   },
   {
    "duration": 7,
    "start_time": "2022-08-28T22:27:36.363Z"
   },
   {
    "duration": 43,
    "start_time": "2022-08-28T22:27:46.547Z"
   },
   {
    "duration": 59,
    "start_time": "2022-08-28T22:27:56.654Z"
   },
   {
    "duration": 28,
    "start_time": "2022-08-28T22:28:01.804Z"
   },
   {
    "duration": 95,
    "start_time": "2022-08-28T22:28:23.238Z"
   },
   {
    "duration": 35,
    "start_time": "2022-08-28T22:28:27.224Z"
   },
   {
    "duration": 23,
    "start_time": "2022-08-28T22:28:57.986Z"
   },
   {
    "duration": 32,
    "start_time": "2022-08-28T22:34:40.353Z"
   },
   {
    "duration": 25,
    "start_time": "2022-08-28T22:35:11.392Z"
   },
   {
    "duration": 478,
    "start_time": "2022-08-28T22:40:20.195Z"
   },
   {
    "duration": 3,
    "start_time": "2022-08-28T22:40:20.675Z"
   },
   {
    "duration": 27,
    "start_time": "2022-08-28T22:40:20.680Z"
   },
   {
    "duration": 33,
    "start_time": "2022-08-28T22:40:20.709Z"
   },
   {
    "duration": 4,
    "start_time": "2022-08-28T22:40:20.744Z"
   },
   {
    "duration": 5,
    "start_time": "2022-08-28T22:40:20.768Z"
   },
   {
    "duration": 13,
    "start_time": "2022-08-28T22:40:20.774Z"
   },
   {
    "duration": 14,
    "start_time": "2022-08-28T22:40:20.788Z"
   },
   {
    "duration": 15,
    "start_time": "2022-08-28T22:40:20.804Z"
   },
   {
    "duration": 8,
    "start_time": "2022-08-28T22:40:20.822Z"
   },
   {
    "duration": 15,
    "start_time": "2022-08-28T22:40:20.832Z"
   },
   {
    "duration": 23,
    "start_time": "2022-08-28T22:40:20.849Z"
   },
   {
    "duration": 12,
    "start_time": "2022-08-28T22:40:20.874Z"
   },
   {
    "duration": 9,
    "start_time": "2022-08-28T22:40:20.888Z"
   },
   {
    "duration": 31,
    "start_time": "2022-08-28T22:40:20.899Z"
   },
   {
    "duration": 10,
    "start_time": "2022-08-28T22:40:20.932Z"
   },
   {
    "duration": 15,
    "start_time": "2022-08-28T22:40:20.944Z"
   },
   {
    "duration": 16,
    "start_time": "2022-08-28T22:40:20.961Z"
   },
   {
    "duration": 5,
    "start_time": "2022-08-28T22:40:20.979Z"
   },
   {
    "duration": 7,
    "start_time": "2022-08-28T22:40:20.986Z"
   },
   {
    "duration": 12,
    "start_time": "2022-08-28T22:40:20.994Z"
   },
   {
    "duration": 20,
    "start_time": "2022-08-28T22:40:21.007Z"
   },
   {
    "duration": 6,
    "start_time": "2022-08-28T22:40:21.028Z"
   },
   {
    "duration": 6,
    "start_time": "2022-08-28T22:40:21.036Z"
   },
   {
    "duration": 7,
    "start_time": "2022-08-28T22:40:21.044Z"
   },
   {
    "duration": 2,
    "start_time": "2022-08-28T22:40:21.068Z"
   },
   {
    "duration": 13,
    "start_time": "2022-08-28T22:40:21.072Z"
   },
   {
    "duration": 9,
    "start_time": "2022-08-28T22:40:21.089Z"
   },
   {
    "duration": 8,
    "start_time": "2022-08-28T22:40:21.100Z"
   },
   {
    "duration": 10,
    "start_time": "2022-08-28T22:40:21.110Z"
   },
   {
    "duration": 5,
    "start_time": "2022-08-28T22:40:21.121Z"
   },
   {
    "duration": 5,
    "start_time": "2022-08-28T22:40:21.128Z"
   },
   {
    "duration": 42,
    "start_time": "2022-08-28T22:40:21.135Z"
   },
   {
    "duration": 33,
    "start_time": "2022-08-28T22:40:21.178Z"
   },
   {
    "duration": 15,
    "start_time": "2022-08-28T22:40:21.213Z"
   },
   {
    "duration": 40,
    "start_time": "2022-08-28T22:40:21.229Z"
   },
   {
    "duration": 16,
    "start_time": "2022-08-28T22:40:21.270Z"
   },
   {
    "duration": 4,
    "start_time": "2022-08-28T22:40:21.287Z"
   },
   {
    "duration": 5,
    "start_time": "2022-08-28T22:40:21.293Z"
   },
   {
    "duration": 10,
    "start_time": "2022-08-28T22:40:21.299Z"
   },
   {
    "duration": 10,
    "start_time": "2022-08-28T22:40:21.310Z"
   },
   {
    "duration": 9,
    "start_time": "2022-08-28T22:40:21.322Z"
   },
   {
    "duration": 36,
    "start_time": "2022-08-28T22:40:21.333Z"
   },
   {
    "duration": 32,
    "start_time": "2022-08-28T22:40:21.371Z"
   },
   {
    "duration": 13,
    "start_time": "2022-08-28T22:40:21.405Z"
   },
   {
    "duration": 6958,
    "start_time": "2022-08-28T22:40:21.420Z"
   },
   {
    "duration": 4,
    "start_time": "2022-08-28T22:40:28.380Z"
   },
   {
    "duration": 8,
    "start_time": "2022-08-28T22:40:28.386Z"
   },
   {
    "duration": 21,
    "start_time": "2022-08-28T22:40:28.396Z"
   },
   {
    "duration": 19,
    "start_time": "2022-08-28T22:40:28.418Z"
   },
   {
    "duration": 14,
    "start_time": "2022-08-28T22:40:28.468Z"
   },
   {
    "duration": 11,
    "start_time": "2022-08-28T22:40:28.483Z"
   },
   {
    "duration": 6,
    "start_time": "2022-08-28T22:40:28.496Z"
   },
   {
    "duration": 7152,
    "start_time": "2022-08-28T22:40:28.503Z"
   },
   {
    "duration": 15,
    "start_time": "2022-08-28T22:40:35.657Z"
   },
   {
    "duration": 19,
    "start_time": "2022-08-28T22:40:35.674Z"
   },
   {
    "duration": 5,
    "start_time": "2022-08-28T22:40:35.695Z"
   },
   {
    "duration": 11,
    "start_time": "2022-08-28T22:40:35.702Z"
   },
   {
    "duration": 6,
    "start_time": "2022-08-28T22:40:35.714Z"
   },
   {
    "duration": 200,
    "start_time": "2022-08-28T22:40:35.722Z"
   },
   {
    "duration": 6,
    "start_time": "2022-08-28T22:40:35.924Z"
   },
   {
    "duration": 16,
    "start_time": "2022-08-28T22:40:35.932Z"
   },
   {
    "duration": 11,
    "start_time": "2022-08-28T22:40:35.950Z"
   },
   {
    "duration": 27,
    "start_time": "2022-08-28T22:40:35.968Z"
   },
   {
    "duration": 37,
    "start_time": "2022-08-28T22:40:35.997Z"
   },
   {
    "duration": 70,
    "start_time": "2022-08-28T22:40:36.035Z"
   },
   {
    "duration": 39,
    "start_time": "2022-08-28T22:40:36.107Z"
   },
   {
    "duration": 80,
    "start_time": "2022-08-28T22:40:36.147Z"
   },
   {
    "duration": 30,
    "start_time": "2022-08-28T22:40:36.229Z"
   },
   {
    "duration": 59,
    "start_time": "2022-08-29T15:13:59.228Z"
   },
   {
    "duration": 528,
    "start_time": "2022-08-29T15:14:03.531Z"
   },
   {
    "duration": 4,
    "start_time": "2022-08-29T15:14:04.061Z"
   },
   {
    "duration": 53,
    "start_time": "2022-08-29T15:14:04.066Z"
   },
   {
    "duration": 28,
    "start_time": "2022-08-29T15:14:04.121Z"
   },
   {
    "duration": 3,
    "start_time": "2022-08-29T15:14:04.152Z"
   },
   {
    "duration": 8,
    "start_time": "2022-08-29T15:14:04.157Z"
   },
   {
    "duration": 26,
    "start_time": "2022-08-29T15:14:04.167Z"
   },
   {
    "duration": 9,
    "start_time": "2022-08-29T15:14:04.196Z"
   },
   {
    "duration": 9,
    "start_time": "2022-08-29T15:14:04.206Z"
   },
   {
    "duration": 8,
    "start_time": "2022-08-29T15:14:04.217Z"
   },
   {
    "duration": 22,
    "start_time": "2022-08-29T15:14:04.227Z"
   },
   {
    "duration": 9,
    "start_time": "2022-08-29T15:14:04.251Z"
   },
   {
    "duration": 26,
    "start_time": "2022-08-29T15:14:04.267Z"
   },
   {
    "duration": 10,
    "start_time": "2022-08-29T15:14:04.301Z"
   },
   {
    "duration": 14,
    "start_time": "2022-08-29T15:14:04.313Z"
   },
   {
    "duration": 6,
    "start_time": "2022-08-29T15:14:04.329Z"
   },
   {
    "duration": 7,
    "start_time": "2022-08-29T15:14:04.337Z"
   },
   {
    "duration": 58,
    "start_time": "2022-08-29T15:14:04.346Z"
   },
   {
    "duration": 6,
    "start_time": "2022-08-29T15:14:04.406Z"
   },
   {
    "duration": 9,
    "start_time": "2022-08-29T15:14:04.414Z"
   },
   {
    "duration": 12,
    "start_time": "2022-08-29T15:14:04.425Z"
   },
   {
    "duration": 17,
    "start_time": "2022-08-29T15:14:04.438Z"
   },
   {
    "duration": 7,
    "start_time": "2022-08-29T15:14:04.457Z"
   },
   {
    "duration": 34,
    "start_time": "2022-08-29T15:14:04.467Z"
   },
   {
    "duration": 14,
    "start_time": "2022-08-29T15:14:04.503Z"
   },
   {
    "duration": 8,
    "start_time": "2022-08-29T15:14:04.519Z"
   },
   {
    "duration": 18,
    "start_time": "2022-08-29T15:14:04.528Z"
   },
   {
    "duration": 52,
    "start_time": "2022-08-29T15:14:04.548Z"
   },
   {
    "duration": 21,
    "start_time": "2022-08-29T15:14:04.603Z"
   },
   {
    "duration": 13,
    "start_time": "2022-08-29T15:14:04.625Z"
   },
   {
    "duration": 22,
    "start_time": "2022-08-29T15:14:04.639Z"
   },
   {
    "duration": 33,
    "start_time": "2022-08-29T15:14:04.663Z"
   },
   {
    "duration": 22,
    "start_time": "2022-08-29T15:14:04.698Z"
   },
   {
    "duration": 33,
    "start_time": "2022-08-29T15:14:04.722Z"
   },
   {
    "duration": 26,
    "start_time": "2022-08-29T15:14:04.757Z"
   },
   {
    "duration": 18,
    "start_time": "2022-08-29T15:14:04.790Z"
   },
   {
    "duration": 13,
    "start_time": "2022-08-29T15:14:04.810Z"
   },
   {
    "duration": 3,
    "start_time": "2022-08-29T15:14:04.825Z"
   },
   {
    "duration": 8,
    "start_time": "2022-08-29T15:14:04.830Z"
   },
   {
    "duration": 15,
    "start_time": "2022-08-29T15:14:04.839Z"
   },
   {
    "duration": 31,
    "start_time": "2022-08-29T15:14:04.871Z"
   },
   {
    "duration": 11,
    "start_time": "2022-08-29T15:14:04.904Z"
   },
   {
    "duration": 8,
    "start_time": "2022-08-29T15:14:04.917Z"
   },
   {
    "duration": 47,
    "start_time": "2022-08-29T15:14:04.927Z"
   },
   {
    "duration": 22,
    "start_time": "2022-08-29T15:14:04.981Z"
   },
   {
    "duration": 8299,
    "start_time": "2022-08-29T15:14:05.005Z"
   },
   {
    "duration": 3,
    "start_time": "2022-08-29T15:14:13.306Z"
   },
   {
    "duration": 8,
    "start_time": "2022-08-29T15:14:13.311Z"
   },
   {
    "duration": 18,
    "start_time": "2022-08-29T15:14:13.321Z"
   },
   {
    "duration": 50,
    "start_time": "2022-08-29T15:14:13.341Z"
   },
   {
    "duration": 15,
    "start_time": "2022-08-29T15:14:13.394Z"
   },
   {
    "duration": 11,
    "start_time": "2022-08-29T15:14:13.410Z"
   },
   {
    "duration": 5,
    "start_time": "2022-08-29T15:14:13.422Z"
   },
   {
    "duration": 8375,
    "start_time": "2022-08-29T15:14:13.429Z"
   },
   {
    "duration": 10,
    "start_time": "2022-08-29T15:14:21.806Z"
   },
   {
    "duration": 20,
    "start_time": "2022-08-29T15:14:21.818Z"
   },
   {
    "duration": 5,
    "start_time": "2022-08-29T15:14:21.840Z"
   },
   {
    "duration": 35,
    "start_time": "2022-08-29T15:14:21.847Z"
   },
   {
    "duration": 25,
    "start_time": "2022-08-29T15:14:21.884Z"
   },
   {
    "duration": 200,
    "start_time": "2022-08-29T15:14:21.910Z"
   },
   {
    "duration": 7,
    "start_time": "2022-08-29T15:14:22.112Z"
   },
   {
    "duration": 9,
    "start_time": "2022-08-29T15:14:22.120Z"
   },
   {
    "duration": 13,
    "start_time": "2022-08-29T15:14:22.130Z"
   },
   {
    "duration": 7,
    "start_time": "2022-08-29T15:14:22.145Z"
   },
   {
    "duration": 19,
    "start_time": "2022-08-29T15:14:22.167Z"
   },
   {
    "duration": 10,
    "start_time": "2022-08-29T15:14:22.189Z"
   },
   {
    "duration": 73,
    "start_time": "2022-08-29T15:14:22.201Z"
   },
   {
    "duration": 31,
    "start_time": "2022-08-29T15:14:22.276Z"
   },
   {
    "duration": 25,
    "start_time": "2022-08-29T15:14:22.309Z"
   },
   {
    "duration": 55,
    "start_time": "2022-08-29T15:14:22.335Z"
   },
   {
    "duration": 536,
    "start_time": "2022-08-30T20:05:38.851Z"
   },
   {
    "duration": 70,
    "start_time": "2022-08-30T20:28:25.037Z"
   },
   {
    "duration": 82,
    "start_time": "2022-08-30T20:28:37.548Z"
   },
   {
    "duration": 13,
    "start_time": "2022-08-30T20:32:12.861Z"
   },
   {
    "duration": 531,
    "start_time": "2022-08-30T20:32:31.180Z"
   },
   {
    "duration": 12,
    "start_time": "2022-08-30T20:32:34.699Z"
   },
   {
    "duration": 23,
    "start_time": "2022-08-30T20:38:56.342Z"
   },
   {
    "duration": 28,
    "start_time": "2022-08-30T20:39:18.746Z"
   },
   {
    "duration": 29,
    "start_time": "2022-08-30T20:39:33.203Z"
   },
   {
    "duration": 5,
    "start_time": "2022-08-30T20:40:57.511Z"
   },
   {
    "duration": 15,
    "start_time": "2022-08-30T20:43:37.435Z"
   },
   {
    "duration": 6,
    "start_time": "2022-08-30T20:45:32.564Z"
   },
   {
    "duration": 28,
    "start_time": "2022-08-30T21:00:03.519Z"
   },
   {
    "duration": 22,
    "start_time": "2022-08-30T21:13:49.419Z"
   },
   {
    "duration": 17,
    "start_time": "2022-08-30T21:18:35.926Z"
   },
   {
    "duration": 2,
    "start_time": "2022-08-30T21:19:39.273Z"
   },
   {
    "duration": 17,
    "start_time": "2022-08-30T21:20:20.026Z"
   },
   {
    "duration": 16,
    "start_time": "2022-08-30T21:26:20.139Z"
   },
   {
    "duration": 481,
    "start_time": "2022-08-30T21:26:38.877Z"
   },
   {
    "duration": 15,
    "start_time": "2022-08-30T21:26:39.360Z"
   },
   {
    "duration": 12,
    "start_time": "2022-08-30T21:26:39.376Z"
   },
   {
    "duration": 16,
    "start_time": "2022-08-30T21:26:42.496Z"
   },
   {
    "duration": 7,
    "start_time": "2022-08-30T21:26:47.489Z"
   },
   {
    "duration": 6,
    "start_time": "2022-08-30T21:27:01.216Z"
   },
   {
    "duration": 8,
    "start_time": "2022-08-30T21:28:50.231Z"
   },
   {
    "duration": 8,
    "start_time": "2022-08-30T21:28:56.073Z"
   },
   {
    "duration": 4,
    "start_time": "2022-08-30T21:29:18.574Z"
   },
   {
    "duration": 9,
    "start_time": "2022-08-30T21:30:07.787Z"
   },
   {
    "duration": 7,
    "start_time": "2022-08-30T21:30:40.018Z"
   },
   {
    "duration": 7,
    "start_time": "2022-08-30T21:31:31.532Z"
   },
   {
    "duration": 4,
    "start_time": "2022-08-30T21:31:33.455Z"
   },
   {
    "duration": 480,
    "start_time": "2022-08-31T00:31:46.294Z"
   },
   {
    "duration": 16,
    "start_time": "2022-08-31T00:31:46.776Z"
   },
   {
    "duration": 13,
    "start_time": "2022-08-31T00:31:46.793Z"
   },
   {
    "duration": 15,
    "start_time": "2022-08-31T00:31:46.807Z"
   },
   {
    "duration": 16,
    "start_time": "2022-08-31T00:31:46.824Z"
   },
   {
    "duration": 8,
    "start_time": "2022-08-31T00:32:29.977Z"
   },
   {
    "duration": 7,
    "start_time": "2022-08-31T00:38:31.757Z"
   },
   {
    "duration": 9,
    "start_time": "2022-08-31T00:38:37.592Z"
   },
   {
    "duration": 13,
    "start_time": "2022-08-31T00:38:43.737Z"
   },
   {
    "duration": 10,
    "start_time": "2022-08-31T00:39:15.150Z"
   },
   {
    "duration": 458,
    "start_time": "2022-08-31T00:39:54.225Z"
   },
   {
    "duration": 21,
    "start_time": "2022-08-31T00:39:54.685Z"
   },
   {
    "duration": 14,
    "start_time": "2022-08-31T00:39:54.708Z"
   },
   {
    "duration": 16,
    "start_time": "2022-08-31T00:39:54.723Z"
   },
   {
    "duration": 9,
    "start_time": "2022-08-31T00:40:04.857Z"
   },
   {
    "duration": 10,
    "start_time": "2022-08-31T00:40:07.506Z"
   },
   {
    "duration": 10,
    "start_time": "2022-08-31T00:41:40.933Z"
   },
   {
    "duration": 9,
    "start_time": "2022-08-31T00:44:02.048Z"
   },
   {
    "duration": 71,
    "start_time": "2022-08-31T00:46:26.997Z"
   },
   {
    "duration": 15,
    "start_time": "2022-08-31T00:46:27.070Z"
   },
   {
    "duration": 14,
    "start_time": "2022-08-31T00:46:27.086Z"
   },
   {
    "duration": 16,
    "start_time": "2022-08-31T00:46:27.102Z"
   },
   {
    "duration": 8,
    "start_time": "2022-08-31T00:46:27.119Z"
   },
   {
    "duration": 9,
    "start_time": "2022-08-31T00:46:27.129Z"
   },
   {
    "duration": 9,
    "start_time": "2022-08-31T00:46:27.140Z"
   },
   {
    "duration": 7,
    "start_time": "2022-08-31T00:46:27.150Z"
   },
   {
    "duration": 13,
    "start_time": "2022-08-31T00:46:27.158Z"
   },
   {
    "duration": 13,
    "start_time": "2022-08-31T00:46:30.000Z"
   },
   {
    "duration": 6,
    "start_time": "2022-08-31T00:46:41.235Z"
   },
   {
    "duration": 7,
    "start_time": "2022-08-31T00:46:44.482Z"
   },
   {
    "duration": 8,
    "start_time": "2022-08-31T00:47:26.580Z"
   },
   {
    "duration": 9,
    "start_time": "2022-08-31T00:48:26.447Z"
   },
   {
    "duration": 7,
    "start_time": "2022-08-31T00:49:14.468Z"
   },
   {
    "duration": 46,
    "start_time": "2022-08-31T00:49:45.958Z"
   },
   {
    "duration": 37,
    "start_time": "2022-08-31T00:50:13.999Z"
   },
   {
    "duration": 36,
    "start_time": "2022-08-31T00:50:25.475Z"
   },
   {
    "duration": 74,
    "start_time": "2022-08-31T00:57:00.353Z"
   },
   {
    "duration": 15,
    "start_time": "2022-08-31T00:57:00.428Z"
   },
   {
    "duration": 15,
    "start_time": "2022-08-31T00:57:00.445Z"
   },
   {
    "duration": 34,
    "start_time": "2022-08-31T00:57:00.463Z"
   },
   {
    "duration": 24,
    "start_time": "2022-08-31T00:57:00.500Z"
   },
   {
    "duration": 28,
    "start_time": "2022-08-31T00:57:00.527Z"
   },
   {
    "duration": 12,
    "start_time": "2022-08-31T00:57:00.557Z"
   },
   {
    "duration": 7,
    "start_time": "2022-08-31T00:57:00.571Z"
   },
   {
    "duration": 29,
    "start_time": "2022-08-31T00:57:00.580Z"
   },
   {
    "duration": 11,
    "start_time": "2022-08-31T00:57:00.612Z"
   },
   {
    "duration": 43,
    "start_time": "2022-08-31T00:57:00.625Z"
   },
   {
    "duration": 9,
    "start_time": "2022-08-31T00:57:00.670Z"
   },
   {
    "duration": 14,
    "start_time": "2022-08-31T00:57:02.161Z"
   },
   {
    "duration": 10,
    "start_time": "2022-08-31T00:57:31.297Z"
   },
   {
    "duration": 3,
    "start_time": "2022-08-31T01:14:36.601Z"
   },
   {
    "duration": 72,
    "start_time": "2022-08-31T01:18:25.031Z"
   },
   {
    "duration": 13,
    "start_time": "2022-08-31T01:18:25.105Z"
   },
   {
    "duration": 10,
    "start_time": "2022-08-31T01:18:25.120Z"
   },
   {
    "duration": 14,
    "start_time": "2022-08-31T01:18:25.132Z"
   },
   {
    "duration": 8,
    "start_time": "2022-08-31T01:18:25.147Z"
   },
   {
    "duration": 10,
    "start_time": "2022-08-31T01:18:25.156Z"
   },
   {
    "duration": 39,
    "start_time": "2022-08-31T01:18:25.167Z"
   },
   {
    "duration": 6,
    "start_time": "2022-08-31T01:18:25.207Z"
   },
   {
    "duration": 8,
    "start_time": "2022-08-31T01:18:25.214Z"
   },
   {
    "duration": 12,
    "start_time": "2022-08-31T01:18:25.224Z"
   },
   {
    "duration": 34,
    "start_time": "2022-08-31T01:18:25.237Z"
   },
   {
    "duration": 32,
    "start_time": "2022-08-31T01:18:25.273Z"
   },
   {
    "duration": 6,
    "start_time": "2022-08-31T01:18:25.306Z"
   },
   {
    "duration": 6,
    "start_time": "2022-08-31T01:18:25.314Z"
   },
   {
    "duration": 5,
    "start_time": "2022-08-31T01:18:25.322Z"
   },
   {
    "duration": 141,
    "start_time": "2022-08-31T01:18:25.328Z"
   },
   {
    "duration": 6,
    "start_time": "2022-08-31T01:18:25.471Z"
   },
   {
    "duration": 6300,
    "start_time": "2022-08-31T01:18:25.479Z"
   },
   {
    "duration": 6349,
    "start_time": "2022-08-31T01:18:31.781Z"
   },
   {
    "duration": 53,
    "start_time": "2022-08-31T01:18:38.174Z"
   },
   {
    "duration": 23,
    "start_time": "2022-08-31T01:24:12.732Z"
   },
   {
    "duration": 23,
    "start_time": "2022-08-31T01:27:29.707Z"
   },
   {
    "duration": 47,
    "start_time": "2022-08-31T01:29:38.808Z"
   },
   {
    "duration": 25,
    "start_time": "2022-08-31T01:31:45.766Z"
   },
   {
    "duration": 905,
    "start_time": "2022-09-04T18:11:55.580Z"
   },
   {
    "duration": 17,
    "start_time": "2022-09-04T18:11:56.488Z"
   },
   {
    "duration": 14,
    "start_time": "2022-09-04T18:11:56.507Z"
   },
   {
    "duration": 23,
    "start_time": "2022-09-04T18:11:56.523Z"
   },
   {
    "duration": 27,
    "start_time": "2022-09-04T18:11:56.548Z"
   },
   {
    "duration": 28,
    "start_time": "2022-09-04T18:11:56.577Z"
   },
   {
    "duration": 34,
    "start_time": "2022-09-04T18:11:56.607Z"
   },
   {
    "duration": 9,
    "start_time": "2022-09-04T18:11:56.643Z"
   },
   {
    "duration": 9,
    "start_time": "2022-09-04T18:11:56.654Z"
   },
   {
    "duration": 38,
    "start_time": "2022-09-04T18:11:56.666Z"
   },
   {
    "duration": 50,
    "start_time": "2022-09-04T18:11:56.706Z"
   },
   {
    "duration": 15,
    "start_time": "2022-09-04T18:11:56.759Z"
   },
   {
    "duration": 212,
    "start_time": "2022-09-04T18:11:56.776Z"
   },
   {
    "duration": 7,
    "start_time": "2022-09-04T18:11:56.990Z"
   },
   {
    "duration": 15,
    "start_time": "2022-09-04T18:12:01.115Z"
   },
   {
    "duration": 10,
    "start_time": "2022-09-04T18:12:29.218Z"
   },
   {
    "duration": 80,
    "start_time": "2022-09-04T18:12:48.834Z"
   },
   {
    "duration": 12,
    "start_time": "2022-09-04T18:13:01.184Z"
   },
   {
    "duration": 79,
    "start_time": "2022-09-04T18:13:12.099Z"
   },
   {
    "duration": 16,
    "start_time": "2022-09-04T18:13:12.180Z"
   },
   {
    "duration": 12,
    "start_time": "2022-09-04T18:13:12.198Z"
   },
   {
    "duration": 16,
    "start_time": "2022-09-04T18:13:12.212Z"
   },
   {
    "duration": 46,
    "start_time": "2022-09-04T18:13:12.230Z"
   },
   {
    "duration": 17,
    "start_time": "2022-09-04T18:13:12.278Z"
   },
   {
    "duration": 15,
    "start_time": "2022-09-04T18:13:12.297Z"
   },
   {
    "duration": 6,
    "start_time": "2022-09-04T18:13:12.314Z"
   },
   {
    "duration": 8,
    "start_time": "2022-09-04T18:13:12.321Z"
   },
   {
    "duration": 14,
    "start_time": "2022-09-04T18:13:12.330Z"
   },
   {
    "duration": 75,
    "start_time": "2022-09-04T18:13:12.345Z"
   },
   {
    "duration": 8,
    "start_time": "2022-09-04T18:13:12.423Z"
   },
   {
    "duration": 155,
    "start_time": "2022-09-04T18:13:12.433Z"
   },
   {
    "duration": 7,
    "start_time": "2022-09-04T18:13:12.592Z"
   },
   {
    "duration": 14,
    "start_time": "2022-09-04T18:13:12.601Z"
   },
   {
    "duration": 81,
    "start_time": "2022-09-04T18:13:14.280Z"
   },
   {
    "duration": 26,
    "start_time": "2022-09-04T18:13:14.362Z"
   },
   {
    "duration": 14,
    "start_time": "2022-09-04T18:13:14.389Z"
   },
   {
    "duration": 19,
    "start_time": "2022-09-04T18:13:14.404Z"
   },
   {
    "duration": 9,
    "start_time": "2022-09-04T18:13:14.425Z"
   },
   {
    "duration": 15,
    "start_time": "2022-09-04T18:13:14.435Z"
   },
   {
    "duration": 19,
    "start_time": "2022-09-04T18:13:14.467Z"
   },
   {
    "duration": 12,
    "start_time": "2022-09-04T18:13:14.489Z"
   },
   {
    "duration": 13,
    "start_time": "2022-09-04T18:13:14.503Z"
   },
   {
    "duration": 11,
    "start_time": "2022-09-04T18:13:14.518Z"
   },
   {
    "duration": 55,
    "start_time": "2022-09-04T18:13:14.531Z"
   },
   {
    "duration": 8,
    "start_time": "2022-09-04T18:13:14.588Z"
   },
   {
    "duration": 157,
    "start_time": "2022-09-04T18:13:14.598Z"
   },
   {
    "duration": 19,
    "start_time": "2022-09-04T18:13:14.757Z"
   },
   {
    "duration": 17,
    "start_time": "2022-09-04T18:13:14.778Z"
   },
   {
    "duration": 15656,
    "start_time": "2022-09-04T18:13:14.797Z"
   },
   {
    "duration": 63,
    "start_time": "2022-09-04T18:13:30.455Z"
   },
   {
    "duration": 25,
    "start_time": "2022-09-04T18:13:30.519Z"
   },
   {
    "duration": 47,
    "start_time": "2022-09-04T18:13:30.546Z"
   },
   {
    "duration": 29,
    "start_time": "2022-09-04T18:13:30.594Z"
   }
  ],
  "kernelspec": {
   "display_name": "Python 3 (ipykernel)",
   "language": "python",
   "name": "python3"
  },
  "language_info": {
   "codemirror_mode": {
    "name": "ipython",
    "version": 3
   },
   "file_extension": ".py",
   "mimetype": "text/x-python",
   "name": "python",
   "nbconvert_exporter": "python",
   "pygments_lexer": "ipython3",
   "version": "3.9.5"
  },
  "toc": {
   "base_numbering": 1,
   "nav_menu": {},
   "number_sections": true,
   "sideBar": true,
   "skip_h1_title": true,
   "title_cell": "Table of Contents",
   "title_sidebar": "Contents",
   "toc_cell": false,
   "toc_position": {},
   "toc_section_display": true,
   "toc_window_display": false
  }
 },
 "nbformat": 4,
 "nbformat_minor": 2
}
